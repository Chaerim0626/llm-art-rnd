{
 "cells": [
  {
   "cell_type": "markdown",
   "id": "86e06783-f083-424c-9ace-51f3c3bf5e00",
   "metadata": {},
   "source": [
    "### 1. 패키지 설치"
   ]
  },
  {
   "cell_type": "markdown",
   "id": "d3d49d96-9721-43a6-8482-9158d25c93fe",
   "metadata": {},
   "source": [
    "### 2. 문서 split 및 Chroma를 활용한 vector store 구성"
   ]
  },
  {
   "cell_type": "code",
   "execution_count": 2,
   "id": "60d82f23-0f73-4879-8a69-46d5237a47b3",
   "metadata": {},
   "outputs": [
    {
     "name": "stdout",
     "output_type": "stream",
     "text": [
      "로그인 상태입니다. 사용자: chaeeee\n"
     ]
    }
   ],
   "source": [
    "from huggingface_hub import whoami\n",
    "\n",
    "try:\n",
    "    user_info = whoami()\n",
    "    print(f\"로그인 상태입니다. 사용자: {user_info['name']}\")\n",
    "except Exception as e:\n",
    "    print(\"로그인되지 않았거나 토큰이 유효하지 않습니다.\")\n",
    "    print(e)"
   ]
  },
  {
   "cell_type": "code",
   "execution_count": 2,
   "id": "f4c477cb-437e-4c75-b35d-f42641901204",
   "metadata": {},
   "outputs": [
    {
     "name": "stdout",
     "output_type": "stream",
     "text": [
      "raw_text 개수:  8042447\n",
      "총 문서 수: 15195\n"
     ]
    }
   ],
   "source": [
    "from langchain_community.document_loaders import Docx2txtLoader\n",
    "from langchain.text_splitter import CharacterTextSplitter\n",
    "\n",
    "from langchain.schema import Document\n",
    "\n",
    "# 텍스트 분할 설정\n",
    "text_splitter = CharacterTextSplitter(\n",
    "    chunk_size=800,\n",
    "    chunk_overlap=128  # 오버랩 설정\n",
    ")\n",
    "\n",
    "# 단일 DOCX 파일 로드\n",
    "file_path = \"./dataset2.docx\"  # 파일 경로를 이곳에 입력하세요\n",
    "loader = Docx2txtLoader(file_path)\n",
    "raw_text = loader.load()[0].page_content  # DOCX 파일의 전체 텍스트 가져오기\n",
    "print(\"raw_text 개수: \", len(raw_text))\n",
    "      \n",
    "# 작품명을 기준으로 텍스트 분리\n",
    "def split_artwork_documents(doc_text):\n",
    "    artworks = doc_text.split(\"\\n\\n작품명:\")  # 작품을 구분\n",
    "    documents = []\n",
    "\n",
    "    for artwork in artworks:\n",
    "        if artwork.strip():  # 빈 텍스트 제외\n",
    "            # \"작품명:\" 추가로 일관성 유지\n",
    "            doc_content = \"작품명:\" + artwork if not artwork.startswith(\"작품명:\") else artwork\n",
    "\n",
    "            # 메타데이터 초기화\n",
    "            metadata = {}\n",
    "            lines = doc_content.split(\"\\n\")  # 텍스트 줄 단위로 나누기\n",
    "\n",
    "            # 메타데이터 추출\n",
    "            for line in lines:\n",
    "                if line.startswith(\"작품명:\"):\n",
    "                    metadata[\"작품명\"] = line.replace(\"작품명:\", \"\").strip()\n",
    "                elif line.startswith(\"작가:\"):\n",
    "                    metadata[\"작가\"] = line.replace(\"작가:\", \"\").strip()\n",
    "                elif line.startswith(\"제작 연도:\"):\n",
    "                    metadata[\"제작 연도\"] = line.replace(\"제작 연도:\", \"\").strip()\n",
    "                elif line.startswith(\"카테고리:\"):\n",
    "                    metadata[\"카테고리\"] = line.replace(\"카테고리:\", \"\").strip()\n",
    "\n",
    "            # Document 객체 생성\n",
    "            documents.append(Document(\n",
    "                page_content=doc_content.strip(),\n",
    "                metadata=metadata\n",
    "            ))\n",
    "\n",
    "    return documents\n",
    "\n",
    "\n",
    "\n",
    "# 작품별 Document 생성\n",
    "documents = split_artwork_documents(raw_text)\n",
    "\n",
    "# 생성된 작품별 Document에 대해 추가 청크 분할\n",
    "chunked_documents = []\n",
    "for doc in documents:\n",
    "    chunks = text_splitter.split_text(doc.page_content)\n",
    "    for chunk in chunks:\n",
    "        # 청크에 원래 Document의 메타데이터 유지\n",
    "        chunked_documents.append(Document(\n",
    "            page_content=chunk,\n",
    "            metadata=doc.metadata  # 원본 메타데이터 복사\n",
    "        ))\n",
    "\n",
    "print(f\"총 문서 수: {len(chunked_documents)}\")"
   ]
  },
  {
   "cell_type": "code",
   "execution_count": 3,
   "id": "43fe4e47-d1ac-4d3f-8609-7f6a7c0c6b12",
   "metadata": {},
   "outputs": [
    {
     "name": "stdout",
     "output_type": "stream",
     "text": [
      "Document 1:\n",
      "메타데이터: {'작품명': '작가사진 / 作家寫眞 / Selfportrait', '작가': '한기석 / HAN Kisuk', '제작 연도': '1960', '카테고리': '사진'}\n",
      "작품명: 작가사진 / 作家寫眞 / Selfportrait\n",
      "\n",
      "작가: 한기석 / HAN Kisuk\n",
      "\n",
      "작품 번호: 1\n",
      "\n",
      "제작 연도: 1960\n",
      "\n",
      "크기: 41×51\n",
      "\n",
      "재료: 종이에 젤라틴실버프린트\n",
      "\n",
      "카테고리: 사진\n",
      "\n",
      "작품 설명: ‘농(Nong)’이라는 이름으로 미국에서 널리 알려진 한농(韓農) 한기석(1930-2011)은 국내 활동이 그리 많지 않아서 한국 화단에서는 생소한 이름이다. 그가 최초로 한국 화단에 등장한 것은 1971년 11월 신세계 화랑에서 개최한《Nong 展》이후이다. 그는 농(Nong)을 구름 위의 시선(詩仙) 혹은 주선(酒仙)같은 존재로 비유해서 미국에서 자신의 이름으로 쓰고 있다.그의 작품은 전반적으로 자신의 철학적 이미지를 조형화시킨 추상 회화 계통이다. 일종의 형이상학적인 회화 혹은 초현실적인 환상세계라고도 할 수 있는 그의 작품은 양식적인 면에서 주로 구상적인 형태를 취한다.한기석의 <작가사진>(1960)은 본인의 얼굴을 찍은 것으로, 사진 속에서 작가는 자신의 작품을 배경으로 화면의 우측을 주시하고 있다.\n",
      "--------------------------------------------------\n",
      "Document 2:\n",
      "메타데이터: {'작품명': '팔괘호 / 八卦壺 / Palgwae Vase', '작가': '한기석 / HAN Kisuk', '제작 연도': '1960', '카테고리': '회화 II'}\n",
      "작품명: 팔괘호 / 八卦壺 / Palgwae Vase\n",
      "\n",
      "작가: 한기석 / HAN Kisuk\n",
      "\n",
      "작품 번호: 2\n",
      "\n",
      "제작 연도: 1960\n",
      "\n",
      "크기: 250×127\n",
      "\n",
      "재료: 캔버스, 종이에 유화 물감\n",
      "\n",
      "카테고리: 회화 II\n",
      "\n",
      "작품 설명: 한농(韓農) 한기석(1930-2011)은 표면 묘사에 많은 관심을 가진 작가이다.그는 모나고 약간 무게가 있는 듯이 보이는 항아리와 화병을 계속 그렸는데, 항아리에 대한 사람들의 일반적 향수 이미지는 그의 작품에서 친근감을 불어넣어 준다. 또한 완벽한 균형을 이루면서 노련하게 표현되어 다양한 색의 조화를 지닌 도자기의 미를 느낄 수 있다.\n",
      "--------------------------------------------------\n"
     ]
    }
   ],
   "source": [
    "# 첫 2개 문서만 출력해 확인\n",
    "for i, doc in enumerate(chunked_documents[:2], 1):\n",
    "    print(f\"Document {i}:\")\n",
    "    print(\"메타데이터:\", doc.metadata)\n",
    "    print(doc.page_content)\n",
    "    print(\"-\" * 50)"
   ]
  },
  {
   "cell_type": "code",
   "execution_count": 4,
   "id": "c4ddbe99-f6c8-4580-92b6-503253277965",
   "metadata": {},
   "outputs": [
    {
     "data": {
      "text/plain": [
       "Document(metadata={'작품명': '직각 / N/A / Right Angle', '작가': '김차섭 / KIM Tchahsup', '제작 연도': '1981', '카테고리': '판화'}, page_content='작품명: 직각 / N/A / Right Angle\\n\\n작가: 김차섭 / KIM Tchahsup\\n\\n작품 번호: 11001\\n\\n제작 연도: 1981\\n\\n크기: 57×76.5\\n\\n재료: 종이에 에칭\\n\\n카테고리: 판화\\n\\n작품 설명: 김차섭(金次燮, 1942-2022)은 일본 야마구치현(山口県)에서 태어났으며, 광복 즈음에 한국으로 건너와 1963년 서울대학교 회화과에 입학했다. 1960년대 후반에 《회화 ‘68》전과 《AG》전에 참여했으며, 1967년 제5회 파리비엔날레, 1970년 제7회 도쿄 국제판화비엔날레, 1971년 제11회 상파울루비엔날레 등에 참가하며 국제적으로도 활발히 활동하였다. 김차섭은 록펠러 재단 장학금을 받고 1975년에 미국으로 건너가서 뉴욕 프랫 인스티튜트(Pratt Institute) 대학원에서 에칭을 공부했다. 1990년에 귀국한 후 춘천의 한 폐교에 작업실을 마련하여 뉴욕과 한국을 오가며 작업했다. 작가는 1975년에 포드 재단 프랫 인스티튜트 스튜디오 미술상을 받고, 2002년 제14회 이중섭미술상, 2008년 제9회 이인성미술상 등을 수상했다. 김차섭은 1970년대까지 스크린 판화를 다수 제작했으나, 미국으로 건너간 후에는 에칭 기법을 활용한 판화작업을 했다. 김차섭의 에칭 판화는 기법뿐 아니라 작가가 그 당시 추구했던 기하학적 개념을 처음으로 시도한 것이었다.<직각>은 김차섭이 1976년 미국으로 가기 전부터 부단히 고민했던 ‘삼각형’에 대한 관념이 드러나 있다. 삼각형의 한 꼭짓점이 뚫려 있고 이를 가리키는 듯이 제스쳐를 한 손이 그려져 있으며, 열려 있는 직각 부분을 손 뒤의 예리한 각이 짚고 있다. 긴장감 있으면서 완벽한 도형으로 인식되는 삼각형의 직각 부분을 뚫은 것은 서구 합리주의에 대한 도전이자 뉴욕에서 작업하는 한국 작가로서 자신의 정체성에 대한 해답으로 볼 수 있다. 김차섭은 이에 대해 “삼각형의 직각 꼭짓점을 뚫는 데 2년이 걸렸고 뚫고 나니 속이 후련하더라”고 말하였다.')"
      ]
     },
     "execution_count": 4,
     "metadata": {},
     "output_type": "execute_result"
    }
   ],
   "source": [
    "documents[11000]"
   ]
  },
  {
   "cell_type": "code",
   "execution_count": 5,
   "id": "c102d292-48e8-4eeb-9280-79dc003ed796",
   "metadata": {},
   "outputs": [
    {
     "data": {
      "text/plain": [
       "970"
      ]
     },
     "execution_count": 5,
     "metadata": {},
     "output_type": "execute_result"
    }
   ],
   "source": [
    "# 특정 Document 객체의 텍스트 길이 확인\n",
    "len(documents[11000].page_content)"
   ]
  },
  {
   "cell_type": "code",
   "execution_count": 6,
   "id": "bcec14a4-2333-4381-8152-dc30d011ba85",
   "metadata": {},
   "outputs": [
    {
     "name": "stdout",
     "output_type": "stream",
     "text": [
      "800자를 초과하는 Document 개수: 4166\n"
     ]
    }
   ],
   "source": [
    "# 800자를 초과하는 Document 개수 세기\n",
    "over_800_count = sum(1 for doc in documents if len(doc.page_content) > 800)\n",
    "\n",
    "# 결과 출력\n",
    "print(f\"800자를 초과하는 Document 개수: {over_800_count}\")\n"
   ]
  },
  {
   "cell_type": "code",
   "execution_count": 1,
   "id": "6d1ef186",
   "metadata": {},
   "outputs": [
    {
     "name": "stderr",
     "output_type": "stream",
     "text": [
      "/tmp/ipykernel_36409/746791366.py:4: LangChainDeprecationWarning: The class `HuggingFaceEmbeddings` was deprecated in LangChain 0.2.2 and will be removed in 1.0. An updated version of the class exists in the :class:`~langchain-huggingface package and should be used instead. To use it run `pip install -U :class:`~langchain-huggingface` and import as `from :class:`~langchain_huggingface import HuggingFaceEmbeddings``.\n",
      "  embeddings = HuggingFaceEmbeddings(model_name='intfloat/multilingual-e5-large')\n",
      "/home/chae/ch/lib/python3.12/site-packages/sentence_transformers/cross_encoder/CrossEncoder.py:13: TqdmWarning: IProgress not found. Please update jupyter and ipywidgets. See https://ipywidgets.readthedocs.io/en/stable/user_install.html\n",
      "  from tqdm.autonotebook import tqdm, trange\n"
     ]
    },
    {
     "name": "stdout",
     "output_type": "stream",
     "text": [
      "HuggingFaceEmbeddings initialized successfully!\n"
     ]
    }
   ],
   "source": [
    "from langchain.embeddings import HuggingFaceEmbeddings\n",
    "\n",
    "# 올바른 Hugging Face 모델을 사용한 임베딩 생성\n",
    "embeddings = HuggingFaceEmbeddings(model_name='intfloat/multilingual-e5-large')\n",
    "\n",
    "# 확인\n",
    "print(\"HuggingFaceEmbeddings initialized successfully!\")\n"
   ]
  },
  {
   "cell_type": "code",
   "execution_count": 8,
   "id": "21a15f46",
   "metadata": {},
   "outputs": [
    {
     "name": "stdout",
     "output_type": "stream",
     "text": [
      "Chroma database initialized successfully!\n"
     ]
    }
   ],
   "source": [
    "from langchain_community.vectorstores import Chroma\n",
    "from langchain.embeddings import HuggingFaceEmbeddings\n",
    "\n",
    "# 3. Chroma 데이터베이스 초기화 및 문서 추가\n",
    "collection_name = 'chroma_art'\n",
    "\n",
    "database = Chroma.from_documents(\n",
    "    documents=documents,\n",
    "    embedding=embeddings,\n",
    "    collection_name=collection_name,\n",
    "    persist_directory='./chroma_1218'\n",
    ")\n",
    "\n",
    "print(\"Chroma database initialized successfully!\")"
   ]
  },
  {
   "cell_type": "code",
   "execution_count": 2,
   "id": "b6a00995-3f64-49d2-8b0f-033e8b640085",
   "metadata": {},
   "outputs": [
    {
     "name": "stdout",
     "output_type": "stream",
     "text": [
      "기존 Chroma 데이터베이스가 성공적으로 로드되었습니다!\n"
     ]
    },
    {
     "name": "stderr",
     "output_type": "stream",
     "text": [
      "/tmp/ipykernel_36409/3561701732.py:4: LangChainDeprecationWarning: The class `Chroma` was deprecated in LangChain 0.2.9 and will be removed in 1.0. An updated version of the class exists in the :class:`~langchain-chroma package and should be used instead. To use it run `pip install -U :class:`~langchain-chroma` and import as `from :class:`~langchain_chroma import Chroma``.\n",
      "  database = Chroma(\n"
     ]
    }
   ],
   "source": [
    "from langchain.vectorstores import Chroma\n",
    "from langchain.embeddings import HuggingFaceEmbeddings\n",
    "\n",
    "database = Chroma(\n",
    "    persist_directory=\"./chroma_1205\",       # 기존 데이터베이스 경로\n",
    "    embedding_function=embeddings,     # 동일한 임베딩 모델\n",
    "    collection_name=\"chroma_art\"            # 컬렉션 이름\n",
    ")\n",
    "\n",
    "print(\"기존 Chroma 데이터베이스가 성공적으로 로드되었습니다!\")\n"
   ]
  },
  {
   "cell_type": "code",
   "execution_count": 3,
   "id": "4607b73e",
   "metadata": {},
   "outputs": [],
   "source": [
    "from transformers import AutoModelForCausalLM, AutoTokenizer, BitsAndBytesConfig\n",
    "import torch\n",
    "\n",
    "quantization_config = BitsAndBytesConfig(\n",
    "    load_in_4bit=True,\n",
    "    bnb_4bit_quant_type=\"nf4\",\n",
    "    bnb_4bit_compute_dtype=\"float16\",\n",
    "    bnb_4bit_use_double_quant=True,\n",
    ")"
   ]
  },
  {
   "cell_type": "code",
   "execution_count": 4,
   "id": "40645602",
   "metadata": {},
   "outputs": [
    {
     "name": "stderr",
     "output_type": "stream",
     "text": [
      "Loading checkpoint shards: 100%|██████████| 7/7 [00:33<00:00,  4.82s/it]\n"
     ]
    }
   ],
   "source": [
    "import torch\n",
    "from langchain import HuggingFacePipeline\n",
    "from transformers import AutoTokenizer, AutoModelForCausalLM, BitsAndBytesConfig, pipeline\n",
    "\n",
    "# 모델과 토크나이저 로드 (CUDA 사용)\n",
    "model_id = \"LGAI-EXAONE/EXAONE-3.5-7.8B-Instruct\"\n",
    "tokenizer = AutoTokenizer.from_pretrained(model_id)\n",
    "model = AutoModelForCausalLM.from_pretrained(\n",
    "    model_id,\n",
    "    quantization_config=quantization_config,\n",
    "    device_map=\"cuda\",  # CUDA에서 자동 배치\n",
    "    trust_remote_code=True\n",
    ")\n"
   ]
  },
  {
   "cell_type": "code",
   "execution_count": 5,
   "id": "b6446fa9",
   "metadata": {},
   "outputs": [
    {
     "name": "stderr",
     "output_type": "stream",
     "text": [
      "/tmp/ipykernel_36409/1315975019.py:15: LangChainDeprecationWarning: The class `HuggingFacePipeline` was deprecated in LangChain 0.0.37 and will be removed in 1.0. An updated version of the class exists in the :class:`~langchain-huggingface package and should be used instead. To use it run `pip install -U :class:`~langchain-huggingface` and import as `from :class:`~langchain_huggingface import HuggingFacePipeline``.\n",
      "  llm = HuggingFacePipeline(pipeline=pipe)\n"
     ]
    }
   ],
   "source": [
    "from transformers import pipeline\n",
    "\n",
    "# 파이프라인 생성\n",
    "pipe = pipeline(\n",
    "    \"text-generation\",\n",
    "    model=model,\n",
    "    tokenizer=tokenizer,\n",
    "    max_new_tokens=1024,  # 생성할 최대 토큰 수 증가\n",
    "    do_sample=True,        # 샘플링 활성화\n",
    "    temperature=0.1,      \n",
    "    top_k=50,             \n",
    "    repetition_penalty=1.05\n",
    ")\n",
    "# LangChain의 HuggingFacePipeline 사용\n",
    "llm = HuggingFacePipeline(pipeline=pipe)"
   ]
  },
  {
   "cell_type": "code",
   "execution_count": 6,
   "id": "4e8023be-86e0-487d-b773-df209eac7842",
   "metadata": {},
   "outputs": [],
   "source": [
    "import re\n",
    "\n",
    "class MarkdownOutputParser:\n",
    "    \"\"\"Enhanced Markdown parser with additional formatting options.\"\"\"\n",
    "\n",
    "    def __call__(self, llm_output):\n",
    "        # <assistant> 이후의 텍스트만 추출\n",
    "        match = re.search(r\"<\\|assistant\\|>\\s*(.*)\", llm_output, re.DOTALL)\n",
    "        if match:\n",
    "            extracted_text = match.group(1).strip()\n",
    "            # 마크다운 코드 블록으로 출력 포맷\n",
    "            return f\"\\n{extracted_text}\\n\"\n",
    "        else:\n",
    "            # <assistant> 태그가 없는 경우 원래 출력 반환\n",
    "            return f\"\\n{llm_output.strip()}\\n\"\n"
   ]
  },
  {
   "cell_type": "code",
   "execution_count": 44,
   "id": "747bc299-6dde-4a89-beeb-0f330ac28baa",
   "metadata": {},
   "outputs": [],
   "source": [
    "from langchain.prompts import ChatPromptTemplate\n",
    "\n",
    "template = '''\n",
    "    <|system|>\n",
    "    You are a friendly chatbot specializing in artworks. \n",
    "    Answer questions strictly based on the information provided in the document (context). \n",
    "    If the requested information is not found in the document, respond with \"The document does not contain this information.\" \n",
    "    Provide detailed and comprehensive answers, always include the artwork ID, and ensure all answers are written in Korean.\n",
    "\n",
    "    You are an expert in presenting artwork information using Markdown formatting to make the response visually rich and engaging.  \n",
    "    Follow the guidelines below to effectively convey the information:  \n",
    "    - Use headings, subheadings, and separators to clearly organize the content (e.g., Artwork Name, Artwork Number, Year Created).  \n",
    "    - Use bullet points, numbered lists, and tables to present details such as artwork descriptions or characteristics in an intuitive way.  \n",
    "    - Highlight important keywords or phrases using **bold**, _italic_, or a combination of both to make them stand out.  \n",
    "    - Add line breaks, horizontal rules, and block quotes to enhance readability and structure.  \n",
    "    - Incorporate nested lists and creative styling to make the presentation visually diverse and more engaging.  \n",
    "    - Add beautiful layouts and unique design elements to captivate the reader's attention and make the information more appealing.  \n",
    "\n",
    "    <|context|>\n",
    "    {context}\n",
    "    \n",
    "    <|user|>\n",
    "    Question: {question}\n",
    "    \n",
    "    <|assistant|>\n",
    "'''\n",
    "\n",
    "# 프롬프트 템플릿 생성\n",
    "prompt = ChatPromptTemplate.from_template(template)\n"
   ]
  },
  {
   "cell_type": "code",
   "execution_count": 45,
   "id": "137611cd",
   "metadata": {},
   "outputs": [],
   "source": [
    "retriever = database.as_retriever(search_kwargs={\"k\": 4})"
   ]
  },
  {
   "cell_type": "code",
   "execution_count": 178,
   "id": "38fa8d02",
   "metadata": {},
   "outputs": [],
   "source": [
    "from langchain.memory import VectorStoreRetrieverMemory\n",
    "\n",
    "chat_persist_directory = \"../chroma_chat_db\"  # 대화 DB 저장 경로\n",
    "chat_collection_name = \"chat_history\"  # 원하는 컬렉션 이름\n",
    "\n",
    "chat_vectorstore = Chroma(\n",
    "    persist_directory=chat_persist_directory,\n",
    "    collection_name=chat_collection_name,\n",
    "    embedding_function=embeddings\n",
    ")\n",
    "\n",
    "# as_retriever에서 k 값을 설정\n",
    "chat_retriever = chat_vectorstore.as_retriever(search_kwargs={\"k\": 3})\n",
    "\n",
    "\n",
    "# VectorStoreRetrieverMemory 설정\n",
    "chat_memory = VectorStoreRetrieverMemory(\n",
    "    retriever=chat_retriever,\n",
    "    memory_key=\"history\",\n",
    "    input_key=\"question\"\n",
    ")"
   ]
  },
  {
   "cell_type": "code",
   "execution_count": 46,
   "id": "10ace5cf",
   "metadata": {},
   "outputs": [],
   "source": [
    "from langchain.schema.runnable import RunnablePassthrough, RunnableMap\n",
    "from langchain_core.output_parsers.string import StrOutputParser\n",
    "from langchain.prompts import ChatPromptTemplate\n",
    "\n",
    "# 체인 구성 수정\n",
    "chain = (\n",
    "    RunnableMap({\n",
    "        \"context\": retriever,  # 문서 검색기에서 context 가져오기\n",
    "        \"question\": RunnablePassthrough()  # 입력된 질문 그대로 전달\n",
    "    })\n",
    "    | prompt  # 프롬프트에 context, history, question 전달\n",
    "    | llm  # LLM 실행\n",
    "    | MarkdownOutputParser()  # 출력 결과를 마크다운으로 포맷팅\n",
    ")"
   ]
  },
  {
   "cell_type": "code",
   "execution_count": 59,
   "id": "fb2b4cd0",
   "metadata": {},
   "outputs": [],
   "source": [
    "question = \"조평휘의 스케치북에 대해 알려줘.\""
   ]
  },
  {
   "cell_type": "code",
   "execution_count": 60,
   "id": "525b7a35",
   "metadata": {
    "scrolled": true
   },
   "outputs": [
    {
     "name": "stdout",
     "output_type": "stream",
     "text": [
      "\n",
      "## 조평휘의 스케치북 시리즈 소개\n",
      "\n",
      "조평휘 작가의 스케치북 시리즈는 그의 창의성과 표현력을 잘 보여주는 드로잉 작품들입니다. 각 스케치북은 독특한 재료와 크기로 제작되어 다양한 예술적 경험을 제공합니다. 아래는 주요 스케치북 시리즈에 대한 자세한 정보입니다.\n",
      "\n",
      "### 스케치북 1 (Artwork ID: 7341)\n",
      "- **작품명**: 스케치북 1 / N/A / Sketchbook 1\n",
      "- **작가**: 조평휘 / CHO Phyunghwi\n",
      "- **제작 연도**: 1975\n",
      "- **크기**: 34.5 x 24.5 x 31 cm\n",
      "- **재료**: 종이에 연필, 펜, 먹, 채색\n",
      "- **카테고리**: 드로잉\n",
      "\n",
      "**작품 설명**:\n",
      "- 이 작품은 다양한 미디어를 활용해 제작되었습니다. 연필, 펜, 먹, 그리고 채색이 혼합되어 있어 조평휘 작가의 다재다능함을 보여줍니다. 스케치북 형태로 구성되어 있어, 작가의 일상적인 스케치와 생각들을 담고 있습니다.\n",
      "\n",
      "---\n",
      "\n",
      "### 스케치북 9 (Artwork ID: 7349)\n",
      "- **작품명**: 스케치북 9 / N/A / Sketchbook 9\n",
      "- **작가**: 조평휘 / CHO Phyunghwi\n",
      "- **제작 연도**: 2003\n",
      "- **크기**: 15 x 20.7 x 30 cm\n",
      "- **재료**: 종이에 먹\n",
      "- **카테고리**: 드로잉\n",
      "\n",
      "**작품 설명**:\n",
      "- 이 스케치북은 주로 먹으로 그려졌으며, 전통적인 한국 미술 기법을 현대적으로 해석한 예시입니다. 먹의 깊이감과 선묘가 조화롭게 어우러져 있습니다.\n",
      "\n",
      "---\n",
      "\n",
      "### 스케치북 12 (Artwork ID: 7352)\n",
      "- **작품명**: 스케치북 12 / N/A / Sketchbook 12\n",
      "- **작가**: 조평휘 / CHO Phyunghwi\n",
      "- **제작 연도**: 2004\n",
      "- **크기**: 23 x 16.5 x 17 cm\n",
      "- **재료**: 종이에 먹, 펜\n",
      "- **카테고리**: 드로잉\n",
      "\n",
      "**작품 설명**:\n",
      "- 이 스케치북은 먹과 펜을 사용하여 제작되었습니다. 먹의 부드러운 질감과 펜의 선명한 선이 조화를 이루며, 작가의 세밀한 관찰력과 표현력을 잘 보여줍니다.\n",
      "\n",
      "---\n",
      "\n",
      "### 스케치북 16 (Artwork ID: 7356)\n",
      "- **작품명**: 스케치북 16 / N/A / Sketchbook 16\n",
      "- **작가**: 조평휘 / CHO Phyunghwi\n",
      "- **제작 연도**: 2006\n",
      "- **크기**: 16.2 x 22.5 x (23) cm\n",
      "- **재료**: 종이에 펜\n",
      "- **카테고리**: 드로잉\n",
      "\n",
      "**작품 설명**:\n",
      "- 이 작품은 펜을 주요 재료로 사용하여 제작되었습니다. 세밀하고 정교한 선묘와 다양한 표현 기법이 담겨 있어, 작가의 기술적 능력을 잘 보여줍니다.\n",
      "\n",
      "---\n",
      "\n",
      "각 스케치북은 조평휘 작가의 예술적 성장 과정과 다양한 표현 방식을 잘 보여주는 작품들입니다. 다양한 재료와 크기로 제작된 이들 작품은 그의 창의성과 예술적 탐구 정신을 잘 반영하고 있습니다.\n",
      "\n"
     ]
    }
   ],
   "source": [
    "# 마지막에 원하는 형식으로 출력 필터링\n",
    "response = chain.invoke(question)\n",
    "print(response)"
   ]
  },
  {
   "cell_type": "code",
   "execution_count": 54,
   "id": "9cf7a0f8",
   "metadata": {},
   "outputs": [
    {
     "name": "stdout",
     "output_type": "stream",
     "text": [
      "\n",
      "=== 검색된 문서 ===\n",
      "문서 1:\n",
      "내용: 작품명: 낙도 풍경 / 落島 風景 / Landscape of Deserted Island\n",
      "\n",
      "작가: 이동훈 / LEE Donghoon\n",
      "\n",
      "작품 번호: 1774\n",
      "\n",
      "제작 연도: 1970\n",
      "\n",
      "크기: 60.5×72.5\n",
      "\n",
      "재료: 캔버스에 유화 물감\n",
      "\n",
      "카테고리: 회화 II\n",
      "\n",
      "작품 설명: 이동훈(1903-1984)은 농촌풍경과 전원풍경을 소박하고 꾸밈없이 화폭에 담는 것으로 그의 한결같은 작가정신을 보여 주었다. <낙도풍경>(1970) 작품은 그의 주된 작품 경향을 잘 드러내 주고 있는 듯, 섬마을의 평화롭고 한적한 봄 풍경을 담담하게 그려내고 있어 그의 자연에 대한 정성어린 관심을 잘 대변해 주고 있다.\n",
      "메타데이터: {'작가': '이동훈 / LEE Donghoon', '작품명': '낙도 풍경 / 落島 風景 / Landscape of Deserted Island', '제작 연도': '1970', '카테고리': '회화 II'}\n",
      "--------------------------------------------------\n",
      "문서 2:\n",
      "내용: 작품명: 산수인물 / N/A / Landscape with Figures\n",
      "\n",
      "작가: 이도영 / LEE Doyoung\n",
      "\n",
      "작품 번호: 9769\n",
      "\n",
      "제작 연도: 1917\n",
      "\n",
      "크기: 26×35.7\n",
      "\n",
      "재료: 종이에 먹, 색\n",
      "\n",
      "카테고리: 회화 I\n",
      "\n",
      "작품 설명: 관재(貫齋) 이도영(李道榮, 1884-1933)은 서울 출생으로, 1900년대 초 안중식(安中植, 1861-1919)과 조석진(趙錫晋, 1853-1920)에게서 서화를 익혔다. 1911년 설립된 서화미술회 교수진으로서 후학을 양성하였으며, 서화협회(書畵協會)의 창립동인으로도 참여하였다. 전통적인 소재의 산수화, 기명절지화 등을 주로 제작했으며, 특히 안중식의 화풍을 계승했다. 한편, 이도영은 회화 외에도 삽화와 시사만평 분야에서 적극적인 예술세계를 펼쳤다. 특히 구한말 애국계몽운동에 참여하면서 풍자성이 강한 시사만화를 만평과 함께 게재하여 우리나라 시사만화의 효시를 연 작가로도 주목된다.<산수인물>은 조용한 곳에서 은거(隱居)하는 삶의 모습을 담은 작품이다. ‘율헌(栗軒)’에게 증정한 작품으로 보이는데, 화제(畵題)에 중장통(仲長統, 180~220)의 「낙지론(樂志論)」을 언급하며 율헌 선생의 삶 역시 풍요롭고 느긋함을 나타내고 있다. 전경에는 큰 괴석과 파초, 오동나무에 둘러싸인 가옥 한 채를 그렸다. 좋은 밭과 너른 집, 주변으로는 냇물이 흐르며 대나무와 나무들이 가옥을 둘러싸고 있다. 집안에는 서책이 가득하니 제왕의 문으로 들어감을 부러워하지 않고, 삶의 즐거움을 즐긴다는 「낙지론(樂志論)」의 내용을 이도영이 정갈한 필치로 그대로 옮겨낸 작품이다.[화제 풀이]栗軒老先生 德望節行 爲一時山斗 詩酒琴棋饒 佳鄕淸福 欲志向慕之忱 不計筆致之庸拙 畧擬仲長統樂志論一篇大意 作爲他日拜見之先階 幷希大法家哂鑒丁巳季夏雨牕  貫齋 李道榮율헌(栗軒) 노(老)선생은 덕망(德望)과 절행(節行)이 한 때의 태산북두(泰山北斗)가 되었는데, 시(詩)·주(酒)·금(琴)·기(棋)가 넉넉하고 아름다운 고향에서 태어나 맑은 복을 누렸다. 내가 향모(向慕)하는 정성을 기록하려고 필치(筆致)가 졸렬(拙劣)함은 따지지 않고 대략 중장통(仲長統)의 <낙지론(樂志論)> 한 편(篇)의 대의(大意)에 비겨서 다른 날에 만나 뵐 계제(階梯)로 삼고 아울러 대법가(大法家)께서 빙그레 웃으며 감상하기를 희망한다.정사년(1917) 늦은 여름 비내리는 창가에서  관재 이도영전남 곡성의 장서가인 율헌(栗軒) 정일우(丁日宇)를 말하며, 그는 오세창, 이도영, 장지연 등과 교유하였다.\n",
      "메타데이터: {'작가': '이도영 / LEE Doyoung', '작품명': '산수인물 / N/A / Landscape with Figures', '제작 연도': '1917', '카테고리': '회화 I'}\n",
      "--------------------------------------------------\n",
      "문서 3:\n",
      "내용: 작품명: 동해풍경 / 東海風景 / Landscape of East Sea\n",
      "\n",
      "작가: 이동훈 / LEE Donghoon\n",
      "\n",
      "작품 번호: 1764\n",
      "\n",
      "제작 연도: 1970\n",
      "\n",
      "크기: 65×90\n",
      "\n",
      "재료: 캔버스에 유화 물감\n",
      "\n",
      "카테고리: 회화 II\n",
      "\n",
      "작품 설명: 이동훈(1903-1984)의 <동해 풍경>(1970)은 호선구도이다. 이 작품은 절벽에 접해 있는 해변을 한가롭게 거닐고 있는 사람들의 모습을 담고 있다.\n",
      "메타데이터: {'작가': '이동훈 / LEE Donghoon', '작품명': '동해풍경 / 東海風景 / Landscape of East Sea', '제작 연도': '1970', '카테고리': '회화 II'}\n",
      "--------------------------------------------------\n",
      "문서 4:\n",
      "내용: 작품명: 동해풍경 / N/A / Landscape of East Sea\n",
      "\n",
      "작가: 도상봉 / TO Sangbong\n",
      "\n",
      "작품 번호: 5397\n",
      "\n",
      "제작 연도: 1973\n",
      "\n",
      "크기: 24×33.4\n",
      "\n",
      "재료: 캔버스에 유화 물감\n",
      "\n",
      "카테고리: 회화 II\n",
      "\n",
      "작품 설명: 도천(陶泉) 도상봉(1902-1977)은 한국의 대표적인 사실주의 서양화가로 전통적인 예술세계를 지키는데 충실하였으며, 백자(白瓷)나 라일락을 소재로 한 많은 정물화와 풍경화를 부드러운 필치로 묘사하였다. 또한 그는 정적인 소재를 섬세하고 사실적으로 묘사한 작품에서 온화하고 여성적인 독특한 미적 세계를 보여준 작가로 알려져 있다. 그는 확고한 고전주의적 태도를 끝까지 유지하면서, 관찰한 자연을 분석하고 철저하게 대상을 이해하고자 애썼다. 그리고 엄격하게 구도와 색채를 구상하고, 빈틈없이 작품을 완성하고자 하는 자신의 신념을 보여주었다.그의 작품들은 온화하고 따뜻한 것이 특징이다. 부드러운 필치와 밝은 색조 그리고 안정감 있는 구도가 보는 이로 하여금 편안한 마음을 갖게 한다. 그의 작품 대부분을 차지하는 정물화들도 그렇고, 가끔씩 볼 수 있는 인물화나 풍경화에서도 거칠거나 혼란스러운 느낌은 전혀 없다. 게다가 섬세하고 치밀하게 표현된 그의 묘사력은 대상을 얼마나 철저하게 분석하고 탐구했나를 잘 보여준다.<동해풍경>(1973)은 그의 작품 중 그렇게 흔하지 않은 풍경이라는 점에서 우선 독특하다. 4호라는 비교적 작은 크기의 작품이지만 매우 크게 느껴지는 작품이다. 원경과 중경 그리고 근경을 나눠 공간의 깊이를 담아내면서 공기원근법을 활용하여 화면의 폭을 넓혀놓고 있다.\n",
      "메타데이터: {'작가': '도상봉 / TO Sangbong', '작품명': '동해풍경 / N/A / Landscape of East Sea', '제작 연도': '1973', '카테고리': '회화 II'}\n",
      "--------------------------------------------------\n"
     ]
    }
   ],
   "source": [
    "retrieved_documents = retriever.get_relevant_documents(question)\n",
    "\n",
    "# 검색된 문서 출력\n",
    "print(\"\\n=== 검색된 문서 ===\")\n",
    "for i, doc in enumerate(retrieved_documents, start=1):\n",
    "    print(f\"문서 {i}:\")\n",
    "    print(f\"내용: {doc.page_content}\")\n",
    "    print(f\"메타데이터: {doc.metadata}\")\n",
    "    print(\"-\" * 50)"
   ]
  },
  {
   "cell_type": "code",
   "execution_count": 156,
   "id": "bed605f0",
   "metadata": {},
   "outputs": [],
   "source": [
    "chat_memory.save_context(\n",
    "    {\"question\": question},  # 사용자 입력 (input_key에 해당)\n",
    "    {\"output\": response}     # 모델 응답\n",
    ")\n"
   ]
  },
  {
   "cell_type": "code",
   "execution_count": 157,
   "id": "5e97681c",
   "metadata": {},
   "outputs": [
    {
     "name": "stdout",
     "output_type": "stream",
     "text": [
      "\n",
      "=== 대화 기록 ===\n",
      "question: 김기승 낙양성동도이화는 어떤 작품이야?\n",
      "output: \n",
      "김기승의 **낙양성동도이화(6곡병)** (**작품명**: 洛陽城東桃李花(六曲屛); **작품 번호**: 1364)는 **1963년**에 제작된 **6폭 병풍**으로, **초서(草書)** 기법을 사용한 서예 작품입니다. 이 작품은 한국적인 정취를 잘 표현하면서도 독창적인 필세와 개성적인 감각을 보여주는 김기승 작가의 대표작 중 하나로 꼽힙니다. 각 폭마다 독립된 글자들이 특징이며, 전통적인 서예의 아름다움과 함께 새로운 표현 방식을 시도한 예를 보여줍니다.\n",
      "\n",
      "question: 김기승 작가 작품 2개 추천해줘.\n",
      "output: ```markdown\n",
      "김기승 작가의 작품 중 두 가지를 추천드리겠습니다:\n",
      "\n",
      "1. **작품명**: 사삼공산비(예서)  \n",
      "   **작품 번호**: 1166  \n",
      "   **설명**: 이 작품은 김기승 작가의 예서체 스타일을 잘 보여주는 글씨 작품입니다. 신비스러운 분위기와 함께 고전적인 아름다움을 느낄 수 있어 서예 애호가들에게 인기가 많습니다. 한국적인 정취를 담아내면서도 독창적인 필세를 보여줍니다.\n",
      "\n",
      "2. **작품명**: 행서(송풍각시 중에서)황산곡체  \n",
      "   **작품 번호**: 1196  \n",
      "   **설명**: 황산곡체의 행서 스타일을 잘 보여주는 이 작품은 시원하고 변화무쌍한 필획이 특징입니다. 송대 상의 서풍을 잘 반영하고 있어, 한국적인 감성과 함께 고전적인 미감을 동시에 느낄 수 있는 작품입니다. 김기승 작가의 독특한 서예 세계를 잘 보여주는 예시입니다.\n",
      "\n",
      "두 작품 모두 김기승 작가의 독창적인 서예 스타일을 잘 보여주므로, 서예에 관심이 있으신 분들께 추천드립니다.\n",
      "```\n",
      "input: 김기승 작가 작품 2개 추천해줘.\n",
      "output: ```markdown\n",
      "김기승 작가의 작품 중 두 가지를 추천드리겠습니다:\n",
      "\n",
      "1. **작품명**: 사삼공산비(예서)  \n",
      "   **작품 번호**: 1166  \n",
      "   **설명**: 이 작품은 김기승 작가의 예서체 스타일을 잘 보여주는 글씨 작품입니다. 신비스러운 분위기와 함께 고전적인 아름다움을 느낄 수 있어 서예 애호가들에게 인기가 많습니다. 한국적인 정취를 담아내면서도 독창적인 필세를 보여줍니다.\n",
      "\n",
      "2. **작품명**: 행서(송풍각시 중에서)황산곡체  \n",
      "   **작품 번호**: 1196  \n",
      "   **설명**: 황산곡체의 행서 스타일을 잘 보여주는 이 작품은 시원하고 변화무쌍한 필획이 특징입니다. 송대 상의 서풍을 잘 반영하고 있어, 한국적인 감성과 함께 고전적인 미감을 동시에 느낄 수 있는 작품입니다. 김기승 작가의 독특한 서예 세계를 잘 보여주는 예시입니다.\n",
      "\n",
      "두 작품 모두 김기승 작가의 독창적인 서예 스타일을 잘 보여주므로, 서예에 관심이 있으신 분들께 추천드립니다.\n",
      "```\n"
     ]
    }
   ],
   "source": [
    "# 저장된 대화 기록 가져오기\n",
    "memory_variables = chat_memory.load_memory_variables({\"question\": question})\n",
    "history = memory_variables.get(\"history\", \"\")\n",
    "\n",
    "print(\"\\n=== 대화 기록 ===\")\n",
    "print(history)\n"
   ]
  },
  {
   "cell_type": "code",
   "execution_count": 14,
   "id": "b6ca708e-f7af-452a-80de-0d243e202486",
   "metadata": {},
   "outputs": [],
   "source": [
    "import uuid\n",
    "\n",
    "# 전역 변수로 세션 ID 저장\n",
    "SESSION_ID = str(uuid.uuid4())\n",
    "\n",
    "# 세션 ID 반환 함수\n",
    "def get_session_id():\n",
    "    return SESSION_ID\n"
   ]
  },
  {
   "cell_type": "code",
   "execution_count": 19,
   "id": "a5cea7ad-0224-49e3-82d9-b3715af14fc2",
   "metadata": {
    "scrolled": true
   },
   "outputs": [
    {
     "name": "stdout",
     "output_type": "stream",
     "text": [
      "\n",
      "=== 저장된 대화 요약 ===\n",
      "Here's the revised information about Lee Jung-seop's \"Clover\":\n",
      "\n",
      "    * **Title:** Clover (also known as 토끼풀)\n",
      "    * **Creation Year:** 1941\n",
      "    * **Dimensions:** 9 x 14 inches\n",
      "    * **Materials Used:** Pen on paper with watercolor paint\n",
      "    * **Category:** Drawing\n",
      "\n",
      "    **Description:** This drawing captures a simple yet profound moment of everyday joy through its depiction of clover blossoms and leaves arranged centrally within the composition. The interplay between bold pen lines infused with delicate watercolor washes imbues the artwork with vitality. Notably, contrasting hues create sharp clarity among individual elements like stems, foliage, and flower buds while adding dynamism to the overall piece thanks to blurred ink trails over painted areas. A personal touch lies in the artist’s fingerprint subtly embedded at the lower right corner, offering insight into his creative process during creation time. Reflecting deeper sentiments towards appreciating modest happiness inherent in daily life, this work stands out for capturing both artistic skill and emotional resonance from mid-20th century Korea.\n"
     ]
    }
   ],
   "source": [
    "def extract_summary(history): \n",
    "    # 리스트의 각 메시지에서 content를 추출하고 하나의 문자열로 합침\n",
    "    if isinstance(history, list):\n",
    "        history = \"\\n\".join(\n",
    "            message.content for message in history if hasattr(message, \"content\")\n",
    "        )\n",
    "    \n",
    "    # 정규식으로 \"새로운 요약\" 부분 추출\n",
    "    match = re.search(r\"Please generate an updated summary:\\s*(.*)\", history, re.DOTALL) \n",
    "    if match: \n",
    "        return match.group(1).strip() \n",
    "    return \"요약이 없습니다.\"\n",
    "\n",
    "clean_summary = extract_summary(history)\n",
    "\n",
    "print(\"\\n=== 저장된 대화 요약 ===\")\n",
    "print(clean_summary)\n"
   ]
  },
  {
   "cell_type": "code",
   "execution_count": 41,
   "id": "0cb3b756-2e0e-4b55-b876-c16c3f51247f",
   "metadata": {},
   "outputs": [
    {
     "name": "stdout",
     "output_type": "stream",
     "text": [
      "Result 1:\n",
      "page_content='작품명: 토끼풀 / N/A / Clover\n",
      "\n",
      "작가: 이중섭 / LEE Jungseop\n",
      "\n",
      "작품 번호: 10001\n",
      "\n",
      "제작 연도: 1941\n",
      "\n",
      "크기: 9×14\n",
      "\n",
      "재료: 종이에 펜, 수채 물감\n",
      "\n",
      "카테고리: 드로잉\n",
      "\n",
      "작품 설명: 대향(大鄕) 이중섭(李仲燮, 1916-1956)은 평안북도 정주의 오산고등보통학교에서 서양화가 임용련, 백남순 부부에게 서양화를 배웠다. 이후 1936년 일본으로 건너가 데이코쿠미술학교(帝国美術学校)와 분카학원(文化学院)에서 미술을 전공했다. 추상 미술단체인 ‘자유미술가협회(自由美術家協会)’의 전시회에 지속적으로 출품하였으며, 제7회전(1943)에서는 태양상(太陽賞)을 수상했다. 1943년 귀국 후에는 생활고와 병으로 고생하면서도 꾸준히 작품을 제작했다.이중섭은 소, 아이들 등을 주요 소재로 고분 벽화와 민화 등 전통적이고 토속적인 것에 영감을 받아 표현주의적인 감각으로 작품을 제작했다. 이중섭의 작품에서는 그의 삶을 엿볼 수 있다. 동경의 분카학원에서 야마모토 마사코와 연애하던 시기의 엽서화에는 두 사람의 연인관계를 암시하는 환상적이고 초현실주의적인 이미지를 그렸다. 한국 전쟁기 제주도 피란시절 작품에는 가족과 행복했던 나날들이 소박하게 표현되었으며, 가족을 일본으로 보낸 후에는 삭막한 풍경화와 전쟁의 은유들이 그려졌다. 그는 열악한 경제 상황과 재료 부족에도 끊임없이 새로운 기법과 재료를 실험했는데, 담배를 싼 은지를 활용한 은지화가 대표적인 예이다. 전쟁이 끝난 후에는 가족을 만나려는 생각에 작품 제작에 몰두하여, 당당하고 힘찬 기세가 화면에 나타난다. 그러나 곧 경제적 어려움과 정신질환 등에 시달리며 가족과 재회할 수 있으리라는 희망이 사라졌을 때에는 초점을 잃은 흐릿한 풍경들이 애잔하게 펼쳐졌다.〈토끼풀〉은 이중섭이 이 시기 제작한 여러 점의 엽서화 중 하나로, 토끼풀 도상은 그의 그림에 반복적으로 등장하였다. 화면 중앙에 분리된 꽃과 잎을 큼지막한 도안처럼 연출하고 있고, 화면 좌우 사선으로 꽃줄기와 뾰족한 풀잎을 배치하여 구도적인 면에서 조화를 이뤄냈다. 잎과 줄기, 꽃봉오리 사이 수채 특유의 맑은 적녹 대비가 화면에 생동감을 부여한다. 펜촉으로 주저함 없는 선을 그리고, 이 위에 수채 물감을 빠르게 올린 듯 펜 선의 번진 흔적이 두드러진다. 오른쪽 아래 작가의 것으로 보이는 손자국은 엽서화 제작의 현장감을 전한다. 토끼풀의 꽃과 잎이 갖는 소박한 외양과, 행운과 평화 등으로 통용되는 꽃말 등으로 미루어 일상의 소박한 행복을 염원하는 작가의 심리가 그림 속에 반영된 것으로 보인다.' metadata={'작가': '이중섭 / LEE Jungseop', '작품명': '토끼풀 / N/A / Clover', '제작 연도': '1941', '카테고리': '드로잉'}\n",
      "--------------------------------------------------\n",
      "Result 2:\n",
      "page_content='작품명: 토끼풀과 새가 있는 바닷가  / N/A / Seashore with Clover and Birds\n",
      "\n",
      "작가: 이중섭 / LEE Jungseop\n",
      "\n",
      "작품 번호: 10018\n",
      "\n",
      "제작 연도: 1941\n",
      "\n",
      "크기: 9×14\n",
      "\n",
      "재료: 종이에 펜, 수채 물감\n",
      "\n",
      "카테고리: 드로잉\n",
      "\n",
      "작품 설명: 대향(大鄕) 이중섭(李仲燮, 1916-1956)은 평안북도 정주의 오산고등보통학교에서 서양화가 임용련, 백남순 부부에게 서양화를 배웠다. 이후 1936년 일본으로 건너가 데이코쿠미술학교(帝国美術学校)와 분카학원(文化学院)에서 미술을 전공했다. 추상 미술단체인 ‘자유미술가협회(自由美術家協会)’의 전시회에 지속적으로 출품하였으며, 제7회전(1943)에서는 태양상(太陽賞)을 수상했다. 1943년 귀국 후에는 생활고와 병으로 고생하면서도 꾸준히 작품을 제작했다.이중섭은 소, 아이들 등을 주요 소재로 고분 벽화와 민화 등 전통적이고 토속적인 것에 영감을 받아 표현주의적인 감각으로 작품을 제작했다. 이중섭의 작품에서는 그의 삶을 엿볼 수 있다. 동경의 분카학원에서 야마모토 마사코와 연애하던 시기의 엽서화에는 두 사람의 연인관계를 암시하는 환상적이고 초현실주의적인 이미지를 그렸다. 한국 전쟁기 제주도 피란시절 작품에는 가족과 행복했던 나날들이 소박하게 표현되었으며, 가족을 일본으로 보낸 후에는 삭막한 풍경화와 전쟁의 은유들이 그려졌다. 그는 열악한 경제 상황과 재료 부족에도 끊임없이 새로운 기법과 재료를 실험했는데, 담배를 싼 은지를 활용한 은지화가 대표적인 예이다. 전쟁이 끝난 후에는 가족을 만나려는 생각에 작품 제작에 몰두하여, 당당하고 힘찬 기세가 화면에 나타난다. 그러나 곧 경제적 어려움과 정신질환 등에 시달리며 가족과 재회할 수 있으리라는 희망이 사라졌을 때에는 초점을 잃은 흐릿한 풍경들이 애잔하게 펼쳐졌다.〈토끼풀과 새가 있는 바닷가〉는 바닷가 부근의 풍경과 곳곳에 있는 동식물을 그린 드로잉 작업이다. 작가는 펜의 간결한 선으로 먼발치의 산, 지평선, 모래사장의 질감, 그곳을 거니는 인간과 동물들을 그려 놓고, 토끼풀을 마치 가장 가까운 거리에 있는 듯 커다랗게 표현했다. 그림 속 바다는 하늘색 수채 물감으로 옅게 칠해져 육지와 구분되어 있으며, 잔잔하고 평화로운 느낌을 준다. 왼쪽 하단에는 인간과 강아지 같은 존재가 조그맣게 그려져 산과 함께 드로잉 속 공간을 입체적으로 보이게 만든다. 이 모든 광경을 관통하듯 가로지르는 토끼풀이 평화로운 풍경에 역동성을 더하면서 목가적인 동화의 한 장면을 연상시킨다.' metadata={'작가': '이중섭 / LEE Jungseop', '작품명': '토끼풀과 새가 있는 바닷가  / N/A / Seashore with Clover and Birds', '제작 연도': '1941', '카테고리': '드로잉'}\n",
      "--------------------------------------------------\n",
      "Result 3:\n",
      "page_content='작품명: 흰 소 / N/A / White Bull\n",
      "\n",
      "작가: 이중섭 / LEE Jungseop\n",
      "\n",
      "작품 번호: 9950\n",
      "\n",
      "제작 연도: 1950\n",
      "\n",
      "크기: 30.5×41.5\n",
      "\n",
      "재료: 종이에 유화 물감\n",
      "\n",
      "카테고리: 회화 II\n",
      "\n",
      "작품 설명: 대향(大鄕) 이중섭(李仲燮, 1916-1956)은 평안북도 정주의 오산고등보통학교에서 서양화가 임용련, 백남순 부부에게 서양화를 배웠다. 이후 1936년 일본으로 건너가 데이코쿠미술학교(帝国美術学校)와 분카학원(文化学院)에서 미술을 전공했다. 추상 미술단체인 ‘자유미술가협회(自由美術家協会)’의 전시회에 지속적으로 출품하였으며, 제7회전(1943)에서는 태양상(太陽賞)을 수상했다. 1943년 귀국 후에는 생활고와 병으로 고생하면서도 꾸준히 작품을 제작했다.이중섭은 소, 아이들 등을 주요 소재로 고분 벽화와 민화 등 전통적이고 토속적인 것에 영감을 받아 표현주의적인 감각으로 작품을 제작했다. 이중섭의 작품에서는 그의 삶을 엿볼 수 있다. 동경의 분카학원에서 야마모토 마사코와 연애하던 시기의 엽서화에는 두 사람의 연인관계를 암시하는 환상적이고 초현실주의적인 이미지를 그렸다. 한국 전쟁기 제주도 피란시절 작품에는 가족과 행복했던 나날들이 소박하게 표현되었으며, 가족을 일본으로 보낸 후에는 삭막한 풍경화와 전쟁의 은유들이 그려졌다. 그는 열악한 경제 상황과 재료 부족에도 끊임없이 새로운 기법과 재료를 실험했는데, 담배를 싼 은지를 활용한 은지화가 대표적인 예이다. 전쟁이 끝난 후에는 가족을 만나려는 생각에 작품 제작에 몰두하여, 당당하고 힘찬 기세가 화면에 나타난다. 그러나 곧 경제적 어려움과 정신질환 등에 시달리며 가족과 재회할 수 있으리라는 희망이 사라졌을 때에는 초점을 잃은 흐릿한 풍경들이 애잔하게 펼쳐졌다.‘소’는 이중섭이 애호했던 작품 소재 중 하나이다. 소는 인내와 끈기를 상징하는 민족적 표상이자, 작가 자신의 내면을 투영한 존재로 해석할 수 있다. 중학시절부터 소를 즐겨 그렸다고 알려진 그는 일본 유학 중에도 소를 주제로 한 작품을 제작했다. 1937년에는 데이코쿠미술학교 학생들과 ‘백우회(白牛會)’를 결성하였는데, 흰 소를 의미하는 ‘백우’가 조선의 민족주의적 색채를 드러낸다는 이유로 개명을 강요당한 바 있다. 일제강점기에는 암암리에 금기시된 소재였던 만큼, 광복과 전쟁을 거친 후 이중섭은 더욱 적극적으로 소를 그리기 시작했다. 그의 ‘황소’, ‘흰 소’ 연작 중 하나인 <흰 소>는 등을 구부리고 고개를 숙인 채 걸음을 옮기는 흰 소의 모습을 묘사한 작품이다. 작가는 소가 걸음을 옮기고 있는 순간적인 동세를 강한 필선으로 잘 포착하고 있다. 흰 바탕에 먹으로 그린 듯한 굵은 선묘는 서양의 기법을 전통 서체 방식으로 재창조한 이중섭의 독특한 표현법이다.' metadata={'작가': '이중섭 / LEE Jungseop', '작품명': '흰 소 / N/A / White Bull', '제작 연도': '1950', '카테고리': '회화 II'}\n",
      "--------------------------------------------------\n",
      "Result 4:\n",
      "page_content='작품명: 황소 / N/A / Bull\n",
      "\n",
      "작가: 이중섭 / LEE Jungseop\n",
      "\n",
      "작품 번호: 9936\n",
      "\n",
      "제작 연도: 1950\n",
      "\n",
      "크기: 26.5×36.7\n",
      "\n",
      "재료: 종이에 유채\n",
      "\n",
      "카테고리: 회화 II\n",
      "\n",
      "작품 설명: 대향(大鄕) 이중섭(李仲燮, 1916-1956)은 평안북도 정주의 오산고등보통학교에서 서양화가 임용련, 백남순 부부에게 서양화를 배웠다. 이후 1936년 일본으로 건너가 데이코쿠미술학교(帝国美術学校)와 분카학원(文化学院)에서 미술을 전공했다. 추상 미술단체인 ‘자유미술가협회(自由美術家協会)’의 전시회에 지속적으로 출품하였으며, 제7회전(1943)에서는 태양상(太陽賞)을 수상했다. 1943년 귀국 후에는 생활고와 병으로 고생하면서도 꾸준히 작품을 제작했다.이중섭은 소, 아이들 등을 주요 소재로 고분 벽화와 민화 등 전통적이고 토속적인 것에 영감을 받아 표현주의적인 감각으로 작품을 제작했다. 이중섭의 작품에서는 그의 삶을 엿볼 수 있다. 동경의 분카학원에서 야마모토 마사코와 연애하던 시기의 엽서화에는 두 사람의 연인관계를 암시하는 환상적이고 초현실주의적인 이미지를 그렸다. 한국 전쟁기 제주도 피란시절 작품에는 가족과 행복했던 나날들이 소박하게 표현되었으며, 가족을 일본으로 보낸 후에는 삭막한 풍경화와 전쟁의 은유들이 그려졌다. 그는 열악한 경제 상황과 재료 부족에도 끊임없이 새로운 기법과 재료를 실험했는데, 담배를 싼 은지를 활용한 은지화가 대표적인 예이다. 전쟁이 끝난 후에는 가족을 만나려는 생각에 작품 제작에 몰두하여, 당당하고 힘찬 기세가 화면에 나타난다. 그러나 곧 경제적 어려움과 정신질환 등에 시달리며 가족과 재회할 수 있으리라는 희망이 사라졌을 때에는 초점을 잃은 흐릿한 풍경들이 애잔하게 펼쳐졌다.‘소’는 이중섭이 즐겨 그렸던 작품 소재 중 하나이다. 소는 인내와 끈기를 상징하는 민족적 표상이자, 작가 자신의 내면을 투영한 존재로 해석할 수 있다. 한국 전쟁이 끝난 1953-1954년 사이, 그는 통영과 진주에서 작품 제작에 의욕적으로 몰두하여 다수의 ‘황소’, ‘흰 소’ 연작을 남겼다. <황소>는 강렬한 붉은색을 배경으로 세파를 견딘 주름 가득한 황소의 진중하고 묵직한 모습을 거친 선묘로 표현한 작품이다. 힘차게 보이면서도 어딘지 애잔한 느낌을 자아내는 것은 이중섭의 작품에 등장하는 황소의 공통된 특징이다. 붉은 색조의 화면에 황소의 머리 부분을 확대해서 그린 ‘황소’ 연작은 이 작품을 포함하여 총 4점이 전해진다.' metadata={'작가': '이중섭 / LEE Jungseop', '작품명': '황소 / N/A / Bull', '제작 연도': '1950', '카테고리': '회화 II'}\n",
      "--------------------------------------------------\n",
      "Result 5:\n",
      "page_content='작품명: 소 / N/A / Bull\n",
      "\n",
      "작가: 이중섭 / LEE Jungseop\n",
      "\n",
      "작품 번호: 10021\n",
      "\n",
      "제작 연도: 1950\n",
      "\n",
      "크기: 26×33\n",
      "\n",
      "재료: 종이에 연필\n",
      "\n",
      "카테고리: 드로잉\n",
      "\n",
      "작품 설명: 대향(大鄕) 이중섭(李仲燮, 1916-1956)은 평안북도 정주의 오산고등보통학교에서 서양화가 임용련, 백남순 부부에게 서양화를 배웠다. 이후 1936년 일본으로 건너가 데이코쿠미술학교(帝国美術学校)와 분카학원(文化学院)에서 미술을 전공했다. 추상 미술단체인 ‘자유미술가협회(自由美術家協会)’의 전시회에 지속적으로 출품하였으며, 제7회전(1943)에서는 태양상(太陽賞)을 수상했다. 1943년 귀국 후에는 생활고와 병으로 고생하면서도 꾸준히 작품을 제작했다.이중섭은 소, 아이들 등을 주요 소재로 고분 벽화와 민화 등 전통적이고 토속적인 것에 영감을 받아 표현주의적인 감각으로 작품을 제작했다. 이중섭의 작품에서는 그의 삶을 엿볼 수 있다. 동경의 분카학원에서 야마모토 마사코와 연애하던 시기의 엽서화에는 두 사람의 연인관계를 암시하는 환상적이고 초현실주의적인 이미지를 그렸다. 한국 전쟁기 제주도 피란시절 작품에는 가족과 행복했던 나날들이 소박하게 표현되었으며, 가족을 일본으로 보낸 후에는 삭막한 풍경화와 전쟁의 은유들이 그려졌다. 그는 열악한 경제 상황과 재료 부족에도 끊임없이 새로운 기법과 재료를 실험했는데, 담배를 싼 은지를 활용한 은지화가 대표적인 예이다. 전쟁이 끝난 후에는 가족을 만나려는 생각에 작품 제작에 몰두하여, 당당하고 힘찬 기세가 화면에 나타난다. 그러나 곧 경제적 어려움과 정신질환 등에 시달리며 가족과 재회할 수 있으리라는 희망이 사라졌을 때에는 초점을 잃은 흐릿한 풍경들이 애잔하게 펼쳐졌다.〈소〉는 1950년대에 그려진 것으로 추정되는 연필화 작업이다. 소의 역동적인 움직임을 표현하려는 듯 겹겹의 연필 선으로 이루어진 명암과 함께 몸을 비틀고 있는 소를 그렸다. 그림의 오른쪽 상단에는 물고기의 머리 같은 형체가 등장한다. 그림의 중심이 되는 소는 이중섭의 작품에 반복적으로 등장했던 도상으로 그의 작업 세계 전반에 걸쳐 서로 다른 재료와 기법으로 표현된 것을 찾아볼 수 있다. 1950년대는 작가가 전쟁을 피해 원산, 부산, 제주, 통영 등으로 불안정하게 이동해야 했던 시기로, 연도 불명의 작품의 경우 이중섭 연구자들은 기법의 분석을 통해 작품의 세부적인 시기 추정을 시도하고 있다.' metadata={'작가': '이중섭 / LEE Jungseop', '작품명': '소 / N/A / Bull', '제작 연도': '1950', '카테고리': '드로잉'}\n",
      "--------------------------------------------------\n"
     ]
    }
   ],
   "source": [
    "results = database.similarity_search(query, k=5)  # 상위 3개의 결과를 가져옴\n",
    "\n",
    "# 결과 확인\n",
    "for i, result in enumerate(results, 1):\n",
    "    print(f\"Result {i}:\")\n",
    "    print(result[\"description\"] if \"description\" in result else result)\n",
    "    print(\"-\" * 50)"
   ]
  },
  {
   "cell_type": "code",
   "execution_count": 42,
   "id": "25b13d46-a624-421e-80bd-f1f041d77b2d",
   "metadata": {},
   "outputs": [
    {
     "name": "stdout",
     "output_type": "stream",
     "text": [
      "검색된 문서 수: 5\n",
      "\n",
      "문서 1:\n",
      "  파일명: N/A\n",
      "  유사도 점수: 0.2725\n",
      "  전체 내용: 작품명: 토끼풀 / N/A / Clover\n",
      "\n",
      "작가: 이중섭 / LEE Jungseop\n",
      "\n",
      "작품 번호: 10001\n",
      "\n",
      "제작 연도: 1941\n",
      "\n",
      "크기: 9×14\n",
      "\n",
      "재료: 종이에 펜, 수채 물감\n",
      "\n",
      "카테고리: 드로잉\n",
      "\n",
      "작품 설명: 대향(大鄕) 이중섭(李仲燮, 1916-1956)은 평안북도 정주의 오산고등보통학교에서 서양화가 임용련, 백남순 부부에게 서양화를 배웠다. 이후 1936년 일본으로 건너가 데이코쿠미술학교(帝国美術学校)와 분카학원(文化学院)에서 미술을 전공했다. 추상 미술단체인 ‘자유미술가협회(自由美術家協会)’의 전시회에 지속적으로 출품하였으며, 제7회전(1943)에서는 태양상(太陽賞)을 수상했다. 1943년 귀국 후에는 생활고와 병으로 고생하면서도 꾸준히 작품을 제작했다.이중섭은 소, 아이들 등을 주요 소재로 고분 벽화와 민화 등 전통적이고 토속적인 것에 영감을 받아 표현주의적인 감각으로 작품을 제작했다. 이중섭의 작품에서는 그의 삶을 엿볼 수 있다. 동경의 분카학원에서 야마모토 마사코와 연애하던 시기의 엽서화에는 두 사람의 연인관계를 암시하는 환상적이고 초현실주의적인 이미지를 그렸다. 한국 전쟁기 제주도 피란시절 작품에는 가족과 행복했던 나날들이 소박하게 표현되었으며, 가족을 일본으로 보낸 후에는 삭막한 풍경화와 전쟁의 은유들이 그려졌다. 그는 열악한 경제 상황과 재료 부족에도 끊임없이 새로운 기법과 재료를 실험했는데, 담배를 싼 은지를 활용한 은지화가 대표적인 예이다. 전쟁이 끝난 후에는 가족을 만나려는 생각에 작품 제작에 몰두하여, 당당하고 힘찬 기세가 화면에 나타난다. 그러나 곧 경제적 어려움과 정신질환 등에 시달리며 가족과 재회할 수 있으리라는 희망이 사라졌을 때에는 초점을 잃은 흐릿한 풍경들이 애잔하게 펼쳐졌다.〈토끼풀〉은 이중섭이 이 시기 제작한 여러 점의 엽서화 중 하나로, 토끼풀 도상은 그의 그림에 반복적으로 등장하였다. 화면 중앙에 분리된 꽃과 잎을 큼지막한 도안처럼 연출하고 있고, 화면 좌우 사선으로 꽃줄기와 뾰족한 풀잎을 배치하여 구도적인 면에서 조화를 이뤄냈다. 잎과 줄기, 꽃봉오리 사이 수채 특유의 맑은 적녹 대비가 화면에 생동감을 부여한다. 펜촉으로 주저함 없는 선을 그리고, 이 위에 수채 물감을 빠르게 올린 듯 펜 선의 번진 흔적이 두드러진다. 오른쪽 아래 작가의 것으로 보이는 손자국은 엽서화 제작의 현장감을 전한다. 토끼풀의 꽃과 잎이 갖는 소박한 외양과, 행운과 평화 등으로 통용되는 꽃말 등으로 미루어 일상의 소박한 행복을 염원하는 작가의 심리가 그림 속에 반영된 것으로 보인다.\n",
      "\n",
      "문서 2:\n",
      "  파일명: N/A\n",
      "  유사도 점수: 0.3201\n",
      "  전체 내용: 작품명: 토끼풀과 새가 있는 바닷가  / N/A / Seashore with Clover and Birds\n",
      "\n",
      "작가: 이중섭 / LEE Jungseop\n",
      "\n",
      "작품 번호: 10018\n",
      "\n",
      "제작 연도: 1941\n",
      "\n",
      "크기: 9×14\n",
      "\n",
      "재료: 종이에 펜, 수채 물감\n",
      "\n",
      "카테고리: 드로잉\n",
      "\n",
      "작품 설명: 대향(大鄕) 이중섭(李仲燮, 1916-1956)은 평안북도 정주의 오산고등보통학교에서 서양화가 임용련, 백남순 부부에게 서양화를 배웠다. 이후 1936년 일본으로 건너가 데이코쿠미술학교(帝国美術学校)와 분카학원(文化学院)에서 미술을 전공했다. 추상 미술단체인 ‘자유미술가협회(自由美術家協会)’의 전시회에 지속적으로 출품하였으며, 제7회전(1943)에서는 태양상(太陽賞)을 수상했다. 1943년 귀국 후에는 생활고와 병으로 고생하면서도 꾸준히 작품을 제작했다.이중섭은 소, 아이들 등을 주요 소재로 고분 벽화와 민화 등 전통적이고 토속적인 것에 영감을 받아 표현주의적인 감각으로 작품을 제작했다. 이중섭의 작품에서는 그의 삶을 엿볼 수 있다. 동경의 분카학원에서 야마모토 마사코와 연애하던 시기의 엽서화에는 두 사람의 연인관계를 암시하는 환상적이고 초현실주의적인 이미지를 그렸다. 한국 전쟁기 제주도 피란시절 작품에는 가족과 행복했던 나날들이 소박하게 표현되었으며, 가족을 일본으로 보낸 후에는 삭막한 풍경화와 전쟁의 은유들이 그려졌다. 그는 열악한 경제 상황과 재료 부족에도 끊임없이 새로운 기법과 재료를 실험했는데, 담배를 싼 은지를 활용한 은지화가 대표적인 예이다. 전쟁이 끝난 후에는 가족을 만나려는 생각에 작품 제작에 몰두하여, 당당하고 힘찬 기세가 화면에 나타난다. 그러나 곧 경제적 어려움과 정신질환 등에 시달리며 가족과 재회할 수 있으리라는 희망이 사라졌을 때에는 초점을 잃은 흐릿한 풍경들이 애잔하게 펼쳐졌다.〈토끼풀과 새가 있는 바닷가〉는 바닷가 부근의 풍경과 곳곳에 있는 동식물을 그린 드로잉 작업이다. 작가는 펜의 간결한 선으로 먼발치의 산, 지평선, 모래사장의 질감, 그곳을 거니는 인간과 동물들을 그려 놓고, 토끼풀을 마치 가장 가까운 거리에 있는 듯 커다랗게 표현했다. 그림 속 바다는 하늘색 수채 물감으로 옅게 칠해져 육지와 구분되어 있으며, 잔잔하고 평화로운 느낌을 준다. 왼쪽 하단에는 인간과 강아지 같은 존재가 조그맣게 그려져 산과 함께 드로잉 속 공간을 입체적으로 보이게 만든다. 이 모든 광경을 관통하듯 가로지르는 토끼풀이 평화로운 풍경에 역동성을 더하면서 목가적인 동화의 한 장면을 연상시킨다.\n",
      "\n",
      "문서 3:\n",
      "  파일명: N/A\n",
      "  유사도 점수: 0.3402\n",
      "  전체 내용: 작품명: 흰 소 / N/A / White Bull\n",
      "\n",
      "작가: 이중섭 / LEE Jungseop\n",
      "\n",
      "작품 번호: 9950\n",
      "\n",
      "제작 연도: 1950\n",
      "\n",
      "크기: 30.5×41.5\n",
      "\n",
      "재료: 종이에 유화 물감\n",
      "\n",
      "카테고리: 회화 II\n",
      "\n",
      "작품 설명: 대향(大鄕) 이중섭(李仲燮, 1916-1956)은 평안북도 정주의 오산고등보통학교에서 서양화가 임용련, 백남순 부부에게 서양화를 배웠다. 이후 1936년 일본으로 건너가 데이코쿠미술학교(帝国美術学校)와 분카학원(文化学院)에서 미술을 전공했다. 추상 미술단체인 ‘자유미술가협회(自由美術家協会)’의 전시회에 지속적으로 출품하였으며, 제7회전(1943)에서는 태양상(太陽賞)을 수상했다. 1943년 귀국 후에는 생활고와 병으로 고생하면서도 꾸준히 작품을 제작했다.이중섭은 소, 아이들 등을 주요 소재로 고분 벽화와 민화 등 전통적이고 토속적인 것에 영감을 받아 표현주의적인 감각으로 작품을 제작했다. 이중섭의 작품에서는 그의 삶을 엿볼 수 있다. 동경의 분카학원에서 야마모토 마사코와 연애하던 시기의 엽서화에는 두 사람의 연인관계를 암시하는 환상적이고 초현실주의적인 이미지를 그렸다. 한국 전쟁기 제주도 피란시절 작품에는 가족과 행복했던 나날들이 소박하게 표현되었으며, 가족을 일본으로 보낸 후에는 삭막한 풍경화와 전쟁의 은유들이 그려졌다. 그는 열악한 경제 상황과 재료 부족에도 끊임없이 새로운 기법과 재료를 실험했는데, 담배를 싼 은지를 활용한 은지화가 대표적인 예이다. 전쟁이 끝난 후에는 가족을 만나려는 생각에 작품 제작에 몰두하여, 당당하고 힘찬 기세가 화면에 나타난다. 그러나 곧 경제적 어려움과 정신질환 등에 시달리며 가족과 재회할 수 있으리라는 희망이 사라졌을 때에는 초점을 잃은 흐릿한 풍경들이 애잔하게 펼쳐졌다.‘소’는 이중섭이 애호했던 작품 소재 중 하나이다. 소는 인내와 끈기를 상징하는 민족적 표상이자, 작가 자신의 내면을 투영한 존재로 해석할 수 있다. 중학시절부터 소를 즐겨 그렸다고 알려진 그는 일본 유학 중에도 소를 주제로 한 작품을 제작했다. 1937년에는 데이코쿠미술학교 학생들과 ‘백우회(白牛會)’를 결성하였는데, 흰 소를 의미하는 ‘백우’가 조선의 민족주의적 색채를 드러낸다는 이유로 개명을 강요당한 바 있다. 일제강점기에는 암암리에 금기시된 소재였던 만큼, 광복과 전쟁을 거친 후 이중섭은 더욱 적극적으로 소를 그리기 시작했다. 그의 ‘황소’, ‘흰 소’ 연작 중 하나인 <흰 소>는 등을 구부리고 고개를 숙인 채 걸음을 옮기는 흰 소의 모습을 묘사한 작품이다. 작가는 소가 걸음을 옮기고 있는 순간적인 동세를 강한 필선으로 잘 포착하고 있다. 흰 바탕에 먹으로 그린 듯한 굵은 선묘는 서양의 기법을 전통 서체 방식으로 재창조한 이중섭의 독특한 표현법이다.\n",
      "\n",
      "문서 4:\n",
      "  파일명: N/A\n",
      "  유사도 점수: 0.3416\n",
      "  전체 내용: 작품명: 황소 / N/A / Bull\n",
      "\n",
      "작가: 이중섭 / LEE Jungseop\n",
      "\n",
      "작품 번호: 9936\n",
      "\n",
      "제작 연도: 1950\n",
      "\n",
      "크기: 26.5×36.7\n",
      "\n",
      "재료: 종이에 유채\n",
      "\n",
      "카테고리: 회화 II\n",
      "\n",
      "작품 설명: 대향(大鄕) 이중섭(李仲燮, 1916-1956)은 평안북도 정주의 오산고등보통학교에서 서양화가 임용련, 백남순 부부에게 서양화를 배웠다. 이후 1936년 일본으로 건너가 데이코쿠미술학교(帝国美術学校)와 분카학원(文化学院)에서 미술을 전공했다. 추상 미술단체인 ‘자유미술가협회(自由美術家協会)’의 전시회에 지속적으로 출품하였으며, 제7회전(1943)에서는 태양상(太陽賞)을 수상했다. 1943년 귀국 후에는 생활고와 병으로 고생하면서도 꾸준히 작품을 제작했다.이중섭은 소, 아이들 등을 주요 소재로 고분 벽화와 민화 등 전통적이고 토속적인 것에 영감을 받아 표현주의적인 감각으로 작품을 제작했다. 이중섭의 작품에서는 그의 삶을 엿볼 수 있다. 동경의 분카학원에서 야마모토 마사코와 연애하던 시기의 엽서화에는 두 사람의 연인관계를 암시하는 환상적이고 초현실주의적인 이미지를 그렸다. 한국 전쟁기 제주도 피란시절 작품에는 가족과 행복했던 나날들이 소박하게 표현되었으며, 가족을 일본으로 보낸 후에는 삭막한 풍경화와 전쟁의 은유들이 그려졌다. 그는 열악한 경제 상황과 재료 부족에도 끊임없이 새로운 기법과 재료를 실험했는데, 담배를 싼 은지를 활용한 은지화가 대표적인 예이다. 전쟁이 끝난 후에는 가족을 만나려는 생각에 작품 제작에 몰두하여, 당당하고 힘찬 기세가 화면에 나타난다. 그러나 곧 경제적 어려움과 정신질환 등에 시달리며 가족과 재회할 수 있으리라는 희망이 사라졌을 때에는 초점을 잃은 흐릿한 풍경들이 애잔하게 펼쳐졌다.‘소’는 이중섭이 즐겨 그렸던 작품 소재 중 하나이다. 소는 인내와 끈기를 상징하는 민족적 표상이자, 작가 자신의 내면을 투영한 존재로 해석할 수 있다. 한국 전쟁이 끝난 1953-1954년 사이, 그는 통영과 진주에서 작품 제작에 의욕적으로 몰두하여 다수의 ‘황소’, ‘흰 소’ 연작을 남겼다. <황소>는 강렬한 붉은색을 배경으로 세파를 견딘 주름 가득한 황소의 진중하고 묵직한 모습을 거친 선묘로 표현한 작품이다. 힘차게 보이면서도 어딘지 애잔한 느낌을 자아내는 것은 이중섭의 작품에 등장하는 황소의 공통된 특징이다. 붉은 색조의 화면에 황소의 머리 부분을 확대해서 그린 ‘황소’ 연작은 이 작품을 포함하여 총 4점이 전해진다.\n",
      "\n",
      "문서 5:\n",
      "  파일명: N/A\n",
      "  유사도 점수: 0.3464\n",
      "  전체 내용: 작품명: 소 / N/A / Bull\n",
      "\n",
      "작가: 이중섭 / LEE Jungseop\n",
      "\n",
      "작품 번호: 10021\n",
      "\n",
      "제작 연도: 1950\n",
      "\n",
      "크기: 26×33\n",
      "\n",
      "재료: 종이에 연필\n",
      "\n",
      "카테고리: 드로잉\n",
      "\n",
      "작품 설명: 대향(大鄕) 이중섭(李仲燮, 1916-1956)은 평안북도 정주의 오산고등보통학교에서 서양화가 임용련, 백남순 부부에게 서양화를 배웠다. 이후 1936년 일본으로 건너가 데이코쿠미술학교(帝国美術学校)와 분카학원(文化学院)에서 미술을 전공했다. 추상 미술단체인 ‘자유미술가협회(自由美術家協会)’의 전시회에 지속적으로 출품하였으며, 제7회전(1943)에서는 태양상(太陽賞)을 수상했다. 1943년 귀국 후에는 생활고와 병으로 고생하면서도 꾸준히 작품을 제작했다.이중섭은 소, 아이들 등을 주요 소재로 고분 벽화와 민화 등 전통적이고 토속적인 것에 영감을 받아 표현주의적인 감각으로 작품을 제작했다. 이중섭의 작품에서는 그의 삶을 엿볼 수 있다. 동경의 분카학원에서 야마모토 마사코와 연애하던 시기의 엽서화에는 두 사람의 연인관계를 암시하는 환상적이고 초현실주의적인 이미지를 그렸다. 한국 전쟁기 제주도 피란시절 작품에는 가족과 행복했던 나날들이 소박하게 표현되었으며, 가족을 일본으로 보낸 후에는 삭막한 풍경화와 전쟁의 은유들이 그려졌다. 그는 열악한 경제 상황과 재료 부족에도 끊임없이 새로운 기법과 재료를 실험했는데, 담배를 싼 은지를 활용한 은지화가 대표적인 예이다. 전쟁이 끝난 후에는 가족을 만나려는 생각에 작품 제작에 몰두하여, 당당하고 힘찬 기세가 화면에 나타난다. 그러나 곧 경제적 어려움과 정신질환 등에 시달리며 가족과 재회할 수 있으리라는 희망이 사라졌을 때에는 초점을 잃은 흐릿한 풍경들이 애잔하게 펼쳐졌다.〈소〉는 1950년대에 그려진 것으로 추정되는 연필화 작업이다. 소의 역동적인 움직임을 표현하려는 듯 겹겹의 연필 선으로 이루어진 명암과 함께 몸을 비틀고 있는 소를 그렸다. 그림의 오른쪽 상단에는 물고기의 머리 같은 형체가 등장한다. 그림의 중심이 되는 소는 이중섭의 작품에 반복적으로 등장했던 도상으로 그의 작업 세계 전반에 걸쳐 서로 다른 재료와 기법으로 표현된 것을 찾아볼 수 있다. 1950년대는 작가가 전쟁을 피해 원산, 부산, 제주, 통영 등으로 불안정하게 이동해야 했던 시기로, 연도 불명의 작품의 경우 이중섭 연구자들은 기법의 분석을 통해 작품의 세부적인 시기 추정을 시도하고 있다.\n"
     ]
    }
   ],
   "source": [
    "# 검색 수행: 유사도 점수와 함께 반환\n",
    "docs_and_scores = retriever.vectorstore.similarity_search_with_score(query, k=5)\n",
    "\n",
    "# 검색된 문서 수 출력\n",
    "print(f\"검색된 문서 수: {len(docs_and_scores)}\")\n",
    "\n",
    "# 각 문서의 파일명, 전체 내용, 유사도 점수 출력\n",
    "for i, (doc, score) in enumerate(docs_and_scores, 1):\n",
    "    print(f\"\\n문서 {i}:\")\n",
    "    print(f\"  파일명: {doc.metadata.get('source', 'N/A')}\")\n",
    "    print(f\"  유사도 점수: {score:.4f}\")\n",
    "    print(f\"  전체 내용: {doc.page_content}\")\n"
   ]
  },
  {
   "cell_type": "code",
   "execution_count": 24,
   "id": "4b9bb713",
   "metadata": {},
   "outputs": [],
   "source": [
    "import re\n",
    "\n",
    "def extract_answer(text):\n",
    "    # 정규 표현식을 사용하여 'Answer:' 이후의 모든 텍스트 추출\n",
    "    match = re.search(r\"Answer:\\s*(.*)\", text, re.DOTALL)\n",
    "    if match:\n",
    "        answer = match.group(1).strip()  # 불필요한 공백 제거\n",
    "    else:\n",
    "        answer = \"답변을 찾을 수 없습니다.\"\n",
    "    \n",
    "    return answer"
   ]
  },
  {
   "cell_type": "code",
   "execution_count": 25,
   "id": "92cf9168",
   "metadata": {},
   "outputs": [
    {
     "name": "stdout",
     "output_type": "stream",
     "text": [
      "이중섭의 작품 중 두 가지를 추천드리겠습니다:\n",
      "\n",
      "1. 《아버지와 두 아들》 (작품 번호: 9938):\n",
      "   - 제작 연도: 1950\n",
      "   - 크기: 30×41\n",
      "   - 재료: 종이에 유화 물감\n",
      "   - 작품 설명: 이 작품은 이중섭이 두 아들과의 즐겁던 추억을 그린 것입니다. 화면 상단에는 아버지가 한 아이의 하늘색 상의를 벗기려는 듯한 팔을 붙잡고 있고, 아이는 아버지의 무릎을 발로 밀어내며 이를 거부하는 듯 보입니다. 화면 하단에는 한 아이가 다리를 벌린 채 흥미진진하게 이 모습을 지켜보고 있습니다. 좌측 상단에는 검은 새 한 마리가 아이의 옷을 잡아당기고 있어 그림에 재미를 더합니다. 이중섭의 특유의 거친 필치와 굵은 윤곽선으로 표현된 인물들은 화면에 통일감을 주면서도 독특한 분위기를 자아냅니다.\n",
      "\n",
      "2. 《두 사람》 (작품 번호: 10014):\n",
      "   - 제작 연도: 1943\n"
     ]
    }
   ],
   "source": [
    "answer = extract_answer(response)\n",
    "print(answer)"
   ]
  },
  {
   "cell_type": "code",
   "execution_count": 21,
   "id": "1a7b7f60-7821-48c6-befb-cca2d66861f6",
   "metadata": {},
   "outputs": [
    {
     "data": {
      "text/plain": [
       "0.212183877825737"
      ]
     },
     "execution_count": 21,
     "metadata": {},
     "output_type": "execute_result"
    }
   ],
   "source": [
    "docs_and_scores[0][1]"
   ]
  },
  {
   "cell_type": "code",
   "execution_count": 72,
   "id": "925d43fa",
   "metadata": {},
   "outputs": [
    {
     "name": "stdout",
     "output_type": "stream",
     "text": [
      "데이터베이스에 저장된 파일 목록:\n",
      "./dataset2.docx\n"
     ]
    }
   ],
   "source": [
    "from langchain.vectorstores import Chroma\n",
    "from langchain.embeddings import HuggingFaceEmbeddings\n",
    "\n",
    "# 임베딩 모델 로드\n",
    "embedding_model = HuggingFaceEmbeddings(model_name=\"sentence-transformers/all-MiniLM-L6-v2\")\n",
    "\n",
    "# Chroma 데이터베이스 불러오기 (임베딩 함수 포함)\n",
    "persist_directory = './chroma_1104'\n",
    "collection_name = 'chroma_art'\n",
    "\n",
    "database = Chroma(\n",
    "    embedding_function=embeddings,  # 임베딩 함수 설정\n",
    "    collection_name=collection_name,\n",
    "    persist_directory=persist_directory\n",
    ")\n",
    "\n",
    "# 모든 문서 검색을 위한 retriever 생성\n",
    "retriever = database.as_retriever(search_kwargs={\"k\": 1000})\n",
    "\n",
    "# 문서 검색 수행 (빈 쿼리 사용)\n",
    "all_docs = retriever.get_relevant_documents(\" \")\n",
    "\n",
    "# 파일 소스 목록 출력\n",
    "file_sources = set(doc.metadata['source'] for doc in all_docs)  # 중복 제거\n",
    "\n",
    "print(\"데이터베이스에 저장된 파일 목록:\")\n",
    "for source in file_sources:\n",
    "    print(source)\n"
   ]
  },
  {
   "cell_type": "code",
   "execution_count": null,
   "id": "8227476a-1804-4ac4-89dc-4197c5ed6f9d",
   "metadata": {},
   "outputs": [],
   "source": []
  }
 ],
 "metadata": {
  "kernelspec": {
   "display_name": "ch",
   "language": "python",
   "name": "python3"
  },
  "language_info": {
   "codemirror_mode": {
    "name": "ipython",
    "version": 3
   },
   "file_extension": ".py",
   "mimetype": "text/x-python",
   "name": "python",
   "nbconvert_exporter": "python",
   "pygments_lexer": "ipython3",
   "version": "3.12.3"
  }
 },
 "nbformat": 4,
 "nbformat_minor": 5
}
