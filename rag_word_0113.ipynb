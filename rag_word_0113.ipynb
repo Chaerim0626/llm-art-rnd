{
 "cells": [
  {
   "cell_type": "markdown",
   "id": "86e06783-f083-424c-9ace-51f3c3bf5e00",
   "metadata": {},
   "source": [
    "### 1. 패키지 설치"
   ]
  },
  {
   "cell_type": "markdown",
   "id": "d3d49d96-9721-43a6-8482-9158d25c93fe",
   "metadata": {},
   "source": [
    "### 2. 문서 split 및 Chroma를 활용한 vector store 구성"
   ]
  },
  {
   "cell_type": "code",
   "execution_count": 1,
   "id": "60d82f23-0f73-4879-8a69-46d5237a47b3",
   "metadata": {},
   "outputs": [
    {
     "name": "stderr",
     "output_type": "stream",
     "text": [
      "/home/chae/faiss_env/lib/python3.10/site-packages/tqdm/auto.py:21: TqdmWarning: IProgress not found. Please update jupyter and ipywidgets. See https://ipywidgets.readthedocs.io/en/stable/user_install.html\n",
      "  from .autonotebook import tqdm as notebook_tqdm\n"
     ]
    },
    {
     "name": "stdout",
     "output_type": "stream",
     "text": [
      "로그인 상태입니다. 사용자: chaeeee\n"
     ]
    }
   ],
   "source": [
    "from huggingface_hub import whoami\n",
    "\n",
    "try:\n",
    "    user_info = whoami()\n",
    "    print(f\"로그인 상태입니다. 사용자: {user_info['name']}\")\n",
    "except Exception as e:\n",
    "    print(\"로그인되지 않았거나 토큰이 유효하지 않습니다.\")\n",
    "    print(e)"
   ]
  },
  {
   "cell_type": "code",
   "execution_count": 2,
   "id": "98ea6328",
   "metadata": {},
   "outputs": [],
   "source": [
    "import os\n",
    "os.environ[\"LANGCHAIN_TRACING_V2\"] = \"false\""
   ]
  },
  {
   "cell_type": "code",
   "execution_count": 4,
   "id": "77b8cce8",
   "metadata": {},
   "outputs": [
    {
     "name": "stderr",
     "output_type": "stream",
     "text": [
      "Generating Documents: 100%|█████████| 11029/11029 [00:00<00:00, 63433.55entry/s]\n"
     ]
    }
   ],
   "source": [
    "from langchain.schema import Document\n",
    "import os, json\n",
    "from tqdm import tqdm\n",
    "\n",
    "# 1. JSON 파일 경로 설정\n",
    "json_path = \"./json_data.json\"  # 단일 JSON 파일 경로\n",
    "\n",
    "# 2. JSON 데이터 불러오기\n",
    "with open(json_path, 'r', encoding='utf-8') as f:\n",
    "    all_data = json.load(f)\n",
    "\n",
    "# 3. {}를 기준으로 JSON 데이터 분할 및 Document 객체 생성\n",
    "documents = []\n",
    "\n",
    "for data in tqdm(all_data, desc=\"Generating Documents\", unit=\"entry\", ncols=80):\n",
    "    metadata = {\n",
    "        \"title\": data.get('title', 'N/A'),\n",
    "        \"artist\": data.get('artist', 'N/A'),\n",
    "        \"year\": data.get('year', 'N/A'),\n",
    "        \"read_count\": data.get('read_count', 0)\n",
    "    }\n",
    "\n",
    "    # JSON 데이터의 각 항목을 Document 객체로 변환\n",
    "    doc_content = json.dumps(data, ensure_ascii=False, indent=4)\n",
    "    documents.append(Document(\n",
    "        page_content=doc_content.strip(),\n",
    "        metadata=metadata\n",
    "    ))"
   ]
  },
  {
   "cell_type": "code",
   "execution_count": 5,
   "id": "2a08bbfa",
   "metadata": {},
   "outputs": [
    {
     "data": {
      "text/plain": [
       "11029"
      ]
     },
     "execution_count": 5,
     "metadata": {},
     "output_type": "execute_result"
    }
   ],
   "source": [
    "len(documents)"
   ]
  },
  {
   "cell_type": "code",
   "execution_count": 6,
   "id": "21a1a70d",
   "metadata": {},
   "outputs": [
    {
     "data": {
      "text/plain": [
       "Document(metadata={'title': '팔괘호', 'artist': '한기석', 'year': '1960', 'read_count': 129}, page_content='{\\n    \"title\": \"팔괘호\",\\n    \"title_ch\": \"八卦壺\",\\n    \"title_eng\": \"Palgwae Vase\",\\n    \"artist\": \"한기석\",\\n    \"artist_eng\": \"HAN Kisuk\",\\n    \"artwork_number\": 2,\\n    \"year\": \"1960\",\\n    \"size\": \"250×127\",\\n    \"materials\": \"캔버스, 종이에 유화 물감\",\\n    \"category\": \"회화 II\",\\n    \"description\": \"한농(韓農) 한기석(1930-2011)은 표면 묘사에 많은 관심을 가진 작가이다.그는 모나고 약간 무게가 있는 듯이 보이는 항아리와 화병을 계속 그렸는데, 항아리에 대한 사람들의 일반적 향수 이미지는 그의 작품에서 친근감을 불어넣어 준다. 또한 완벽한 균형을 이루면서 노련하게 표현되어 다양한 색의 조화를 지닌 도자기의 미를 느낄 수 있다.\",\\n    \"read_count\": 129\\n}')"
      ]
     },
     "execution_count": 6,
     "metadata": {},
     "output_type": "execute_result"
    }
   ],
   "source": [
    "documents[1]"
   ]
  },
  {
   "cell_type": "code",
   "execution_count": 10,
   "id": "f4c477cb-437e-4c75-b35d-f42641901204",
   "metadata": {},
   "outputs": [
    {
     "name": "stdout",
     "output_type": "stream",
     "text": [
      "raw_text 개수:  8042447\n",
      "총 문서 수: 15195\n"
     ]
    }
   ],
   "source": [
    "from langchain_community.document_loaders import Docx2txtLoader\n",
    "from langchain.text_splitter import CharacterTextSplitter\n",
    "\n",
    "from langchain.schema import Document\n",
    "\n",
    "# 텍스트 분할 설정\n",
    "text_splitter = CharacterTextSplitter(\n",
    "    chunk_size=800,\n",
    "    chunk_overlap=128  # 오버랩 설정\n",
    ")\n",
    "\n",
    "# 단일 DOCX 파일 로드\n",
    "file_path = \"./dataset2.docx\"  # 파일 경로를 이곳에 입력하세요\n",
    "loader = Docx2txtLoader(file_path)\n",
    "raw_text = loader.load()[0].page_content  # DOCX 파일의 전체 텍스트 가져오기\n",
    "print(\"raw_text 개수: \", len(raw_text))\n",
    "      \n",
    "# 작품명을 기준으로 텍스트 분리\n",
    "def split_artwork_documents(doc_text):\n",
    "    artworks = doc_text.split(\"\\n\\n작품명:\")  # 작품을 구분\n",
    "    documents = []\n",
    "\n",
    "    for artwork in artworks:\n",
    "        if artwork.strip():  # 빈 텍스트 제외\n",
    "            # \"작품명:\" 추가로 일관성 유지\n",
    "            doc_content = \"작품명:\" + artwork if not artwork.startswith(\"작품명:\") else artwork\n",
    "\n",
    "            # 메타데이터 초기화\n",
    "            metadata = {}\n",
    "            lines = doc_content.split(\"\\n\")  # 텍스트 줄 단위로 나누기\n",
    "\n",
    "            # 메타데이터 추출\n",
    "            for line in lines:\n",
    "                if line.startswith(\"작품명:\"):\n",
    "                    metadata[\"작품명\"] = line.replace(\"작품명:\", \"\").strip()\n",
    "                elif line.startswith(\"작가:\"):\n",
    "                    metadata[\"작가\"] = line.replace(\"작가:\", \"\").strip()\n",
    "                elif line.startswith(\"제작 연도:\"):\n",
    "                    metadata[\"제작 연도\"] = line.replace(\"제작 연도:\", \"\").strip()\n",
    "                elif line.startswith(\"카테고리:\"):\n",
    "                    metadata[\"카테고리\"] = line.replace(\"카테고리:\", \"\").strip()\n",
    "\n",
    "            # Document 객체 생성\n",
    "            documents.append(Document(\n",
    "                page_content=doc_content.strip(),\n",
    "                metadata=metadata\n",
    "            ))\n",
    "\n",
    "    return documents\n",
    "\n",
    "\n",
    "\n",
    "# 작품별 Document 생성\n",
    "documents = split_artwork_documents(raw_text)\n",
    "\n",
    "# 생성된 작품별 Document에 대해 추가 청크 분할\n",
    "chunked_documents = []\n",
    "for doc in documents:\n",
    "    chunks = text_splitter.split_text(doc.page_content)\n",
    "    for chunk in chunks:\n",
    "        # 청크에 원래 Document의 메타데이터 유지\n",
    "        chunked_documents.append(Document(\n",
    "            page_content=chunk,\n",
    "            metadata=doc.metadata  # 원본 메타데이터 복사\n",
    "        ))\n",
    "\n",
    "print(f\"총 문서 수: {len(chunked_documents)}\")"
   ]
  },
  {
   "cell_type": "code",
   "execution_count": 7,
   "id": "c4ddbe99-f6c8-4580-92b6-503253277965",
   "metadata": {},
   "outputs": [
    {
     "data": {
      "text/plain": [
       "Document(metadata={'title': '물방앗간의 아침', 'artist': '김기창 a', 'year': '1939', 'read_count': 30}, page_content='{\\n    \"title\": \"물방앗간의 아침\",\\n    \"title_ch\": \"N/A\",\\n    \"title_eng\": \"Watermill in the Morning\",\\n    \"artist\": \"김기창 a\",\\n    \"artist_eng\": \"KIM Kichang a\",\\n    \"artwork_number\": 11002,\\n    \"year\": \"1939\",\\n    \"size\": \"130×162\",\\n    \"materials\": \"비단에 색\",\\n    \"category\": \"회화 I\",\\n    \"description\": \"운보(雲甫) 김기창(金基昶, 1914-2001)은 어렸을 때 장티푸스에 걸려 청각장애를 갖게 되었다. 17세에 이당 김은호(1892-1979)의 문하에 들어가 동양화를 사사했다. 1930년대에는 《조선미술전람회》 꾸준히 작품을 출품하며 활발한 활동을 했다. 작가는 운포(雲圃)라는 호를 썼으나, 광복 후에는 운보(雲甫)라고 쓰기 시작했으며 일본화풍 청산을 위해 적극적인 모색의 시간을 보냈다. 이후 1947년에 우향 박래현(1920-1976)과 결혼하면서, 1947년부터 1972년까지 거의 매해 부부전을 개최했다. 한국전쟁 때 군산으로 피난 가 있는 동안 반추상과 입체주의를 도입한 새로운 양식의 동양화를 실험하면서 점차 추상과 구상을 자유롭게 넘나드는 폭넓은 창작 세계를 보여주었다. 1957년에 한국화의 새로운 방향을 모색하고자 하는 단체인 백양회(白陽會)를 결성했으며, 1961년에는 동남아 순회전을 하기도 했다. 1975년 즈음부터는 특유의 청록산수, 바보화풍을 제작했다.<물방앗간의 아침>은 물레방아가 돌아가는 방앗간의 아침 풍경을 그린 작품으로, 1939년 《제18회 조선미술전람회》에 입선했다.* 김기창의 초기작에 속하는 이 작품은 사실적이고 세밀 한 묘사에서 스승인 김은호의 영향이 엿보이며, 인물화를 주로 제작했던 시기의 풍경화로 의의가 있다*당시 조선미술전람회에서는 일본어 제목인 <水車小屋の朝>으로 출품되었다.\",\\n    \"read_count\": 30\\n}')"
      ]
     },
     "execution_count": 7,
     "metadata": {},
     "output_type": "execute_result"
    }
   ],
   "source": [
    "documents[11001]"
   ]
  },
  {
   "cell_type": "code",
   "execution_count": 8,
   "id": "c102d292-48e8-4eeb-9280-79dc003ed796",
   "metadata": {},
   "outputs": [
    {
     "data": {
      "text/plain": [
       "1009"
      ]
     },
     "execution_count": 8,
     "metadata": {},
     "output_type": "execute_result"
    }
   ],
   "source": [
    "# 특정 Document 객체의 텍스트 길이 확인\n",
    "len(documents[11001].page_content)"
   ]
  },
  {
   "cell_type": "code",
   "execution_count": 9,
   "id": "bcec14a4-2333-4381-8152-dc30d011ba85",
   "metadata": {},
   "outputs": [
    {
     "name": "stdout",
     "output_type": "stream",
     "text": [
      "800자를 초과하는 Document 개수: 6460\n"
     ]
    }
   ],
   "source": [
    "# 800자를 초과하는 Document 개수 세기\n",
    "over_800_count = sum(1 for doc in documents if len(doc.page_content) > 800)\n",
    "\n",
    "# 결과 출력\n",
    "print(f\"800자를 초과하는 Document 개수: {over_800_count}\")\n"
   ]
  },
  {
   "cell_type": "code",
   "execution_count": 10,
   "id": "6d1ef186",
   "metadata": {},
   "outputs": [],
   "source": [
    "from langchain.vectorstores import FAISS\n",
    "from sentence_transformers import SentenceTransformer\n",
    "import faiss  # FAISS 라이브러리 필요\n",
    "\n",
    "# 1. 임베딩 초기화\n",
    "embedding_model = SentenceTransformer(\"nlpai-lab/KURE-v1\")\n"
   ]
  },
  {
   "cell_type": "code",
   "execution_count": 15,
   "id": "ce036d50",
   "metadata": {},
   "outputs": [],
   "source": [
    "# 2. 문서 데이터와 메타데이터 분리\n",
    "texts = [doc.page_content for doc in documents]  # 문서 텍스트\n",
    "metadatas = [doc.metadata for doc in documents]  # 문서 메타데이터\n",
    "\n",
    "# 3. 문서 임베딩 생성\n",
    "embeddings = embedding_model.encode(texts)"
   ]
  },
  {
   "cell_type": "code",
   "execution_count": 16,
   "id": "23144ef3",
   "metadata": {},
   "outputs": [],
   "source": [
    "# 4. FAISS 인덱스 생성\n",
    "embedding_dim = embeddings.shape[1]  # 벡터 차원 확인\n",
    "faiss_index = faiss.IndexFlatL2(embedding_dim)  # L2 거리 기반 인덱스\n",
    "faiss_index.add(embeddings)  # 벡터 추가\n"
   ]
  },
  {
   "cell_type": "code",
   "execution_count": 17,
   "id": "ba322337",
   "metadata": {},
   "outputs": [],
   "source": [
    "from langchain.docstore.in_memory import InMemoryDocstore\n",
    "\n",
    "# 5. Docstore 생성\n",
    "# 각 문서에 고유 ID를 부여해 InMemoryDocstore 생성\n",
    "docstore = InMemoryDocstore({str(i): doc for i, doc in enumerate(documents)})"
   ]
  },
  {
   "cell_type": "code",
   "execution_count": 18,
   "id": "bbd078ed",
   "metadata": {},
   "outputs": [
    {
     "name": "stderr",
     "output_type": "stream",
     "text": [
      "`embedding_function` is expected to be an Embeddings object, support for passing in a function will soon be removed.\n"
     ]
    },
    {
     "name": "stdout",
     "output_type": "stream",
     "text": [
      "FAISS 데이터베이스가 성공적으로 저장되었습니다!\n"
     ]
    }
   ],
   "source": [
    "# 6. FAISS 벡터스토어 생성\n",
    "def embed_query(text):\n",
    "    return embedding_model.encode([text])[0]  # 단일 쿼리 텍스트를 임베딩\n",
    "\n",
    "index_to_docstore_id = {i: str(i) for i in range(len(documents))}\n",
    "\n",
    "faiss_db = FAISS(\n",
    "    embedding_function=embed_query,\n",
    "    index=faiss_index,\n",
    "    docstore=docstore,\n",
    "    index_to_docstore_id=index_to_docstore_id\n",
    ")\n",
    "\n",
    "# 7. FAISS 데이터베이스 저장\n",
    "faiss_db.save_local(\"./faiss_artworks_0114_docx\")\n",
    "print(\"FAISS 데이터베이스가 성공적으로 저장되었습니다!\")\n"
   ]
  },
  {
   "cell_type": "code",
   "execution_count": 20,
   "id": "2c40e5a7",
   "metadata": {},
   "outputs": [
    {
     "name": "stdout",
     "output_type": "stream",
     "text": [
      "문서 텍스트: 작품명: 설경(雪景) / N/A / Snowy Landscape\n",
      "\n",
      "작가: 박승무 / PARK Seungmoo\n",
      "\n",
      "작품 번호: 9401\n",
      "\n",
      "제작 연도: 1965\n",
      "\n",
      "크기: 157×157\n",
      "\n",
      "재료: 종이에 먹, 색\n",
      "\n",
      "카테고리: 회화 I\n",
      "\n",
      "작품 설명: 심향(深香) 박승무(朴勝武, 1893-1980)는 1913년부터 서화미술회의 안중식(安中植, 1861-1919)과 조석진(趙錫晋, 1853-1920) 문하에서 전통화법을 배웠으며, 졸업한 이듬해 중국 상하이로 향했으나 1919년 3·1 운동 이후 귀국했다. 《조선미술전람회》와 《서화협회전람회》에 출품하며 활동을 시작하였고, 광복 이후에는 대전에 정착하여 작업을 지속했다. 1957년 제1회 충청남도 문화상 미술부문 수상자로 선정되었다.<설경>은 눈 온 후의 산촌 풍경을 담은 산수화로, 박승무가 즐겨 그렸던 주제 중 하나이다. 작가는 화면 왼쪽에 커다란 산을 배치하고, 오른쪽으로는 공간을 시원하게 열어주는 구도를 취했다. 근경의 지팡이를 든 노인과 아이는 박승무의 산수화에 자주 등장하는 인물상으로, 점경인물과 가옥이 어우러져 정감있게 표현되었다.\n",
      "문서 메타데이터: {'작품명': '설경(雪景) / N/A / Snowy Landscape', '작가': '박승무 / PARK Seungmoo', '제작 연도': '1965', '카테고리': '회화 I'}\n",
      "=------------------------------------------\n",
      "문서 텍스트: 작품명: 설경 / 雪景 / Snowscape\n",
      "\n",
      "작가: 박승무 / PARK Seungmoo\n",
      "\n",
      "작품 번호: 3371\n",
      "\n",
      "제작 연도: 1974\n",
      "\n",
      "크기: 65×255\n",
      "\n",
      "재료: 종이에 먹, 색\n",
      "\n",
      "카테고리: 회화 I\n",
      "\n",
      "작품 설명: 심향(深香)박승무(1893-1980)는 설경을 위주로 작품을 해왔다. 눈 덮인 초가집과 나무들의 사실적인 표현과는 달리 배경을 이루는 산의 묘사는 구도에서 도식적이리 만큼 빈번히 등장한다. 먼 산의 윤곽선 및 나무들의 부드럽고 정감 짙은 풍정미, 잔 점과 선의 표현적 특질 등이 그의 독자적인 양식으로 간주된다.<설경>(1974)이 제작된 무렵 박승무는 설경의 명수로서 유명하였으며 종축보다는 단독 회화성이 더 짙은 횡축그림을 많이 그렸다. 그는 자연이 지니고 있는 가장 원형적인 것을 찾아내고 자연의 원형을 자기화함으로써 독특한 양식을 이루어 내었다. 이 작품은 한국의 야산을 대상으로 하여 향토주의 수묵화를 추구하고 있다. 화면 상단의 하늘과 하단의 강물을 중묵의 음영으로 처리하여 설경의 효과를 더욱 실감나게 하였다.\n",
      "문서 메타데이터: {'작품명': '설경 / 雪景 / Snowscape', '작가': '박승무 / PARK Seungmoo', '제작 연도': '1974', '카테고리': '회화 I'}\n",
      "=------------------------------------------\n",
      "문서 텍스트: 작품명: 설경 / 雪景 / Snowy Landscape\n",
      "\n",
      "작가: 박승무 / PARK Seungmoo\n",
      "\n",
      "작품 번호: 289\n",
      "\n",
      "제작 연도: 1959\n",
      "\n",
      "크기: 137×137\n",
      "\n",
      "재료: 종이에 먹, 색\n",
      "\n",
      "카테고리: 회화 I\n",
      "\n",
      "작품 설명: 심향(深香) 박승무(朴勝武, 1893-1980)는 1913년에 서화미술회(書畫美術會)에 들어가 조석진과 안중식에게 동양화를 사사했다. 1917년에 상해로 건너가 3년간 전통 화법(畫法)을 연구하며 견문을 넓혔다. 광복 후 대한민국미술전람회 초대 작가로 제안을 받았으나 모두 거절하고 대전에 정착하여 오로지 창작에만 집중했다. 긴 은둔 생활 끝에 1971년에 서울신문사가 기획한 전시회에 출품했고, 1972년과 1976년에는 국립현대미술관 단체전에 참여하는 등 활발한 활동을 했다.박승무의 초기작은 사실적인 향토 풍경이 주를 이루었으나 1930년대 후반부터 전통 산수화를 제작하며 독자적인 양식을 형성해 나갔으며 1940년대에 이르러 안정된 기법의 전통 산수 양식을 정립했다. 그는 남종화풍을 따랐으나 시각과 준법에 있어서는 엄격한 형식미를 추구했으며 농묵의 변화를 배제하고 대상을 관념적으로 파악했다.<설경>은 작가가 중년 이후 관념화된 작품 경향을 보여 주는 작품으로 눈 덮인 산과 언덕, 나무 등은 모두 전통적인 남종화풍으로 그려졌다. 그러나 먼 산의 윤곽선, 부드럽게 표현된 수목, 태점 등은 작가 특유의 온화하고 소박한 작풍을 보여 준다.준법: 준법은 산수화를 그릴 때 산, 바위 등의 입체감, 양감, 질감, 명암 등을 나타내기 위해표면을 처리하는 기법을 가리킨다.[화제 풀이]雪晴時己亥菊秋 深香散人눈이 갠 후기해년(1959) 국추(菊秋, 음력 9월) 심향산인(深香散人)\n",
      "문서 메타데이터: {'작품명': '설경 / 雪景 / Snowy Landscape', '작가': '박승무 / PARK Seungmoo', '제작 연도': '1959', '카테고리': '회화 I'}\n",
      "=------------------------------------------\n",
      "문서 텍스트: 작품명: 산수 / N/A / Landscape\n",
      "\n",
      "작가: 박승무 / PARK Seungmoo\n",
      "\n",
      "작품 번호: 10837\n",
      "\n",
      "제작 연도: N/A\n",
      "\n",
      "크기: 130×38\n",
      "\n",
      "재료: 비단에 먹, 색\n",
      "\n",
      "카테고리: 회화 I\n",
      "\n",
      "작품 설명: 심향(深香) 박승무(朴勝武, 1893-1980)는 1913년에 서화미술회에 들어가 안중식과 조석진을 사사했다. 1917년에는 중국 상하이로 건너가 3년간 전통화법을 연구하며 견문을 넓혔다. 1940년 조선미술관 주최하에 경성 부민관(府民館)에서 열린 《십대가산수풍경화전(十大家山水風景畵展)》에 초대되어 한국 동양화 십대가 중의 하나로 불렸다. 광복 후에는 《대한민국미술전람회》에 초대작가를 제안받기도 하였으나 거절하고 대전에 정착하여 오로지 작업에만 몰두하였다. 긴 은둔 생활 끝에 1971년 서울신문사에서 기획한 《동양화 6대가전》에 참여하면서부터 활발한 활동을 했다.박승무의 초기작은 현장 사생을 기반으로 한 사실적인 향토 풍경이 주를 이루었으나 1930년대 후반부터는 전통 산수화를 제작하였다. 그는 남종화풍을 따랐으며, 시각과 준법에 있어서는 엄격한 형식미를 추구했다.<산수>는 산수풍경을 그린 것으로, 화면 위 쪽 여백에는 제발문을 적음으로써 시서화를 일치시켰다. 피마준을 사용하여 산의 겉면을 표현했으며, 안개 낀 산의 표현 등에서 남종화풍의 산수임을 알 수 있다. 박승무는 설경산수에 능했고 설경을 주로 그렸으나, 이 작품은 여름날의 풍경을 그린 듯하다. 산에서 시원스레 내려오는 계곡물과 그 앞에 앉아 쉬고 있는 인물은 화면에 생동감을 불어 넣는다.주최 측의 엄격한 심사를 거쳐 선발한 열 명의 화가들로, 박승무, 김은호, 고희동, 허백련, 이상범, 노수현, 변관식, 이용우, 최우석, 이한복 등이다.**피마준(披麻皴)은 동양 산수화의 준법 중 하나로, 산의 겉면을 표현하는데 사용하며 삼베의 올을 풀어 놓은 듯 구불거리는 선을 여러 번 그어 입체적으로 보이게 한다.\n",
      "문서 메타데이터: {'작품명': '산수 / N/A / Landscape', '작가': '박승무 / PARK Seungmoo', '제작 연도': 'N/A', '카테고리': '회화 I'}\n",
      "=------------------------------------------\n",
      "문서 텍스트: 작품명: 연해풍경 / N/A / Seascape\n",
      "\n",
      "작가: 박승무 / PARK Seungmoo\n",
      "\n",
      "작품 번호: 8803\n",
      "\n",
      "제작 연도: 1953\n",
      "\n",
      "크기: 40x61\n",
      "\n",
      "재료: 종이에 먹, 색\n",
      "\n",
      "카테고리: 회화 I\n",
      "\n",
      "작품 설명: 심향(深香) 박승무(朴勝武, 1893-1980)는 1913년부터 서화미술회의 안중식(安中植, 1861-1919)과 조석진(趙錫晋, 1853-1920) 문하에서 전통화법을 배웠으며, 졸업한 이듬해 중국 상하이로 향했으나 1919년 3·1 운동 이후 귀국했다. 《조선미술전람회》와 《서화협회전람회》에 출품하며 활동을 시작하였고, 광복 이후에는 대전에 정착하여 작업을 지속했다. 1957년 제1회 충청남도 문화상 미술부문 수상자로 선정되었다.<연해풍경>은 목포 바닷가의 풍경을 담은 작품으로, 생생한 실경의 느낌을 전달하는 산수화이다. 화면 왼쪽에는 산과 마을을, 오른쪽에는 평온한 바다가 보인다. 바위와 지면의 표현에는 짧은 선을 여러 번 겹치고 미점(米点)을 활용했다. 노를 젓는 사공과 배를 탄 인물들, 옹기종기 모여있는 초가집을 통해 정감 있는 풍치를 담아내고 있다.\n",
      "문서 메타데이터: {'작품명': '연해풍경 / N/A / Seascape', '작가': '박승무 / PARK Seungmoo', '제작 연도': '1953', '카테고리': '회화 I'}\n",
      "=------------------------------------------\n"
     ]
    }
   ],
   "source": [
    "# 9. 검색 테스트\n",
    "query = \"박승무의 설경\"\n",
    "results = faiss_db.similarity_search(query, k=5)\n",
    "\n",
    "# 10. 검색 결과 출력\n",
    "for result in results:\n",
    "    print(\"문서 텍스트:\", result.page_content)\n",
    "    print(\"문서 메타데이터:\", result.metadata)\n",
    "    print('=------------------------------------------')\n"
   ]
  },
  {
   "cell_type": "code",
   "execution_count": 3,
   "id": "b6a00995-3f64-49d2-8b0f-033e8b640085",
   "metadata": {},
   "outputs": [
    {
     "name": "stderr",
     "output_type": "stream",
     "text": [
      "`embedding_function` is expected to be an Embeddings object, support for passing in a function will soon be removed.\n"
     ]
    },
    {
     "name": "stdout",
     "output_type": "stream",
     "text": [
      "FAISS 데이터베이스가 성공적으로 로드되었습니다!\n"
     ]
    }
   ],
   "source": [
    "from langchain_community.vectorstores import FAISS\n",
    "from sentence_transformers import SentenceTransformer\n",
    "embedding_model = SentenceTransformer(\"nlpai-lab/KURE-v1\")\n",
    "\n",
    "\n",
    "# 기존 DB 로드 \n",
    "persist_directory = \"./faiss_artworks_0114_docx\"\n",
    "\n",
    "try:\n",
    "    faiss_db = FAISS.load_local(\n",
    "        folder_path=persist_directory,\n",
    "        embeddings=embedding_model,\n",
    "        allow_dangerous_deserialization=True  # 신뢰할 수 있는 소스에서만 사용\n",
    "    )\n",
    "    \n",
    "    # embedding_function 수정\n",
    "    faiss_db.embedding_function = lambda text: (\n",
    "        embedding_model.encode(text) if isinstance(text, str) else embedding_model.encode(str(text))\n",
    "    )\n",
    "    \n",
    "    print(\"FAISS 데이터베이스가 성공적으로 로드되었습니다!\")\n",
    "except Exception as e:\n",
    "    print(f\"FAISS 데이터베이스 로드 중 오류 발생: {e}\")"
   ]
  },
  {
   "cell_type": "code",
   "execution_count": 4,
   "id": "4607b73e",
   "metadata": {},
   "outputs": [],
   "source": [
    "from transformers import AutoModelForCausalLM, AutoTokenizer, BitsAndBytesConfig\n",
    "import torch\n",
    "\n",
    "quantization_config = BitsAndBytesConfig(\n",
    "    load_in_4bit=True,\n",
    "    bnb_4bit_quant_type=\"nf4\",\n",
    "    bnb_4bit_compute_dtype=\"float16\",\n",
    "    bnb_4bit_use_double_quant=True,\n",
    ")"
   ]
  },
  {
   "cell_type": "code",
   "execution_count": 5,
   "id": "40645602",
   "metadata": {},
   "outputs": [
    {
     "name": "stderr",
     "output_type": "stream",
     "text": [
      "Loading checkpoint shards: 100%|██████████| 7/7 [00:31<00:00,  4.49s/it]\n"
     ]
    }
   ],
   "source": [
    "import torch\n",
    "from langchain import HuggingFacePipeline\n",
    "from transformers import AutoTokenizer, AutoModelForCausalLM, BitsAndBytesConfig, pipeline\n",
    "\n",
    "# 모델과 토크나이저 로드 (CUDA 사용)\n",
    "model_id = \"LGAI-EXAONE/EXAONE-3.5-7.8B-Instruct\"\n",
    "tokenizer = AutoTokenizer.from_pretrained(model_id)\n",
    "model = AutoModelForCausalLM.from_pretrained(\n",
    "    model_id,\n",
    "    quantization_config=quantization_config,\n",
    "    device_map=\"cuda\",  # CUDA에서 자동 배치\n",
    "    trust_remote_code=True\n",
    ")\n"
   ]
  },
  {
   "cell_type": "code",
   "execution_count": 6,
   "id": "b6446fa9",
   "metadata": {},
   "outputs": [
    {
     "name": "stderr",
     "output_type": "stream",
     "text": [
      "Device set to use cuda\n",
      "/tmp/ipykernel_6010/1315975019.py:15: LangChainDeprecationWarning: The class `HuggingFacePipeline` was deprecated in LangChain 0.0.37 and will be removed in 1.0. An updated version of the class exists in the langchain-huggingface package and should be used instead. To use it run `pip install -U langchain-huggingface` and import as `from langchain_huggingface import HuggingFacePipeline`.\n",
      "  llm = HuggingFacePipeline(pipeline=pipe)\n"
     ]
    }
   ],
   "source": [
    "from transformers import pipeline\n",
    "\n",
    "# 파이프라인 생성\n",
    "pipe = pipeline(\n",
    "    \"text-generation\",\n",
    "    model=model,\n",
    "    tokenizer=tokenizer,\n",
    "    max_new_tokens=1024,  # 생성할 최대 토큰 수 증가\n",
    "    do_sample=True,        # 샘플링 활성화\n",
    "    temperature=0.1,      \n",
    "    top_k=50,             \n",
    "    repetition_penalty=1.05\n",
    ")\n",
    "# LangChain의 HuggingFacePipeline 사용\n",
    "llm = HuggingFacePipeline(pipeline=pipe)"
   ]
  },
  {
   "cell_type": "code",
   "execution_count": null,
   "id": "747bc299-6dde-4a89-beeb-0f330ac28baa",
   "metadata": {},
   "outputs": [],
   "source": [
    "from langchain.prompts import ChatPromptTemplate\n",
    "\n",
    "template = '''\n",
    "<|system|>\n",
    "You are a friendly chatbot specializing in artworks and general conversations.\n",
    "Your primary role is to answer questions strictly based on the information provided in the document (context). \n",
    "If the requested information is not found in the document, respond with:\n",
    "\"The document does not contain this information.\" in Korean.\n",
    "\n",
    "However, if the question is a general conversation or does not relate to the document, you should respond naturally as a conversational chatbot. \n",
    "You can talk about art history, artists, exhibitions, and general topics such as daily life, technology, and culture. \n",
    "Maintain a friendly and engaging tone, ensuring all responses are written in **Korean**.\n",
    "Always use **beautiful Markdown formatting** (headings, bullet points, bold or italic text) to enhance readability.\n",
    "\n",
    "<|context|>\n",
    "{context}\n",
    "\n",
    "<|user|>\n",
    "Question: {question}\n",
    "\n",
    "<|assistant|>\n",
    "'''\n",
    "\n",
    "# 프롬프트 템플릿 생성\n",
    "prompt = ChatPromptTemplate.from_template(template)\n"
   ]
  },
  {
   "cell_type": "code",
   "execution_count": 53,
   "id": "137611cd",
   "metadata": {},
   "outputs": [],
   "source": [
    "retriever = faiss_db.as_retriever(\n",
    "    search_kwargs={\n",
    "        \"k\": 5,                # 검색 결과 개수\n",
    "        \"fetch_k\": 20,         # 더 많은 결과 가져오기\n",
    "        \"mmr\": True,           # MMR 활성화\n",
    "        \"mmr_beta\": 0.8      # 다양성과 관련성 간 균형\n",
    "    }\n",
    ")\n"
   ]
  },
  {
   "cell_type": "code",
   "execution_count": 54,
   "id": "4e8023be-86e0-487d-b773-df209eac7842",
   "metadata": {},
   "outputs": [],
   "source": [
    "import re\n",
    "class MarkdownOutputParser:\n",
    "    \"\"\"Enhanced Markdown parser with additional formatting options.\"\"\"\n",
    "\n",
    "    def __call__(self, llm_output):\n",
    "        # <assistant> 이후의 텍스트만 추출\n",
    "        match = re.search(r\"<\\|assistant\\|>\\s*(.*)\", llm_output, re.DOTALL)\n",
    "        if match:\n",
    "            extracted_text = match.group(1).strip()\n",
    "            # 마크다운 코드 블록으로 출력 포맷\n",
    "            return f\"### 모델 결과\\n\\n{extracted_text}\\n\\n\"\n",
    "        else:\n",
    "            # <assistant> 태그가 없는 경우 원래 출력 반환\n",
    "            return f\"### 모델 결과\\n\\n{llm_output.strip()}\\n\\n\"\n"
   ]
  },
  {
   "cell_type": "code",
   "execution_count": 55,
   "id": "0e5af389",
   "metadata": {},
   "outputs": [],
   "source": [
    "from langchain.schema.runnable import RunnablePassthrough, RunnableMap\n",
    "from langchain_core.output_parsers.string import StrOutputParser\n",
    "from langchain.prompts import ChatPromptTemplate\n",
    "chain = (\n",
    "    RunnableMap({\n",
    "        \"context\": retriever,               # Retriever에서 반환된 값을 가져옴\n",
    "        \"question\": RunnablePassthrough()   # 질문은 그대로 전달\n",
    "    })\n",
    "    | (lambda x: {\n",
    "        \"context\": \"\\n\".join([doc.page_content for doc in x[\"context\"]]),\n",
    "        \"question\": x[\"question\"]\n",
    "    })  # context를 문자열로 변환\n",
    "    | prompt                               # Prompt Template에 전달\n",
    "    | llm                                  # LLM으로 응답 생성\n",
    "    | MarkdownOutputParser()                    # 응답을 문자열로 변환\n",
    ")\n"
   ]
  },
  {
   "cell_type": "code",
   "execution_count": 56,
   "id": "fb2b4cd0",
   "metadata": {},
   "outputs": [],
   "source": [
    "query = \"이중섭 작가가 만난 사람들은? 또 언제 만났지?\""
   ]
  },
  {
   "cell_type": "code",
   "execution_count": 57,
   "id": "1ef549de",
   "metadata": {},
   "outputs": [
    {
     "name": "stdout",
     "output_type": "stream",
     "text": [
      "### 모델 결과\n",
      "\n",
      "이중섭 작가가 만난 중요한 인물 중 하나는 일본에서 만난 야마모토 마사코입니다. 동경의 분카학원 시절에 야마모토 마사코와 연애 관계를 맺었으며, 이 시기의 작품들에서는 두 사람의 친밀한 관계를 암시하는 환상적이고 초현실주의적인 이미지들이 표현되어 있습니다. 정확한 연도는 명시되어 있지 않으나, 주로 1930년대 후반부터 1940년대 초반까지의 시기로 추정됩니다. 이 외에도 그의 작품에서 가족 구성원들과도 깊은 관계를 맺고 있었지만, 구체적인 개인에 대한 만남의 시기는 작품 설명에서 명확히 제시되지 않았습니다. 이중섭의 삶과 작품은 가족, 특히 가족을 일본으로 보낸 후의 상황과 깊은 연관이 있었음을 알 수 있습니다.\n",
      "\n",
      "\n"
     ]
    }
   ],
   "source": [
    "response = chain.invoke({\"question\": query})\n",
    "print(response)"
   ]
  },
  {
   "cell_type": "code",
   "execution_count": 44,
   "id": "501b6c07",
   "metadata": {},
   "outputs": [
    {
     "name": "stdout",
     "output_type": "stream",
     "text": [
      "Document 1:\n",
      "Content: {\n",
      "    \"title\": \"흔적 백 F-76\",\n",
      "    \"title_ch\": \"痕迹 白 F-76\",\n",
      "    \"title_eng\": \"Traces. White F-76\",\n",
      "    \"artist\": \"박길웅\",\n",
      "    \"artist_eng\": \"PARK Kiloung\",\n",
      "    \"artwork_number\": 1430,\n",
      "    \"year\": \"1970\",\n",
      "    \"size\": \"70×47\",\n",
      "    \"materials\": \"종이에 아크릴릭 물감, 수채 믈김\",\n",
      "    \"category\": \"회화 II\",\n",
      "    \"description\": \"박길웅(1940-1977)의 회화는 국내 수학시절, 미국 체류시절과 그 직후 그리고 그 이후의 3기로 나눌 수 있다.국내 수학시절에 박길웅은 향후의 회화에 있어 기초 개념이 되는 소(素), 추념(追念), 향(向), 유(流), 정(靜) 등을 개발하였으며《제18회 대한민국미술전람회》(1969) 대통령상을 수상한 <흔적 백 F-75>(1969)에서 이러한 규칙들을 성공적으로 구현했다는 평가를 받았다.미국 체류시절과 그 직후의 작업은 <낮과 밤>, <대화>(1975-1976) 연작에서와 같이 음과 양, 여와 남 등을 상징하는 두 개의 대립하는 색채 및 형상을 보여주는 구조, 즉 '이항대립(二項對立)' 구조로 대표된다.한편, 그가 타계하던 1977년 한 해에 걸쳐 시도하였던 <원초공간>에서는 끝이 불규칙한 굵고 검은 띠를 횡으로 반복하면서 띠 가운데 강한 원색의 원환들을 새기듯 그려 넣는 화면으로 전환하였다.\",\n",
      "    \"read_count\": 3\n",
      "}\n",
      "Metadata: {'title': '흔적 백 F-76', 'artist': '박길웅', 'year': '1970', 'read_count': 3}\n",
      "--------------------------------------------------\n",
      "Document 2:\n",
      "Content: {\n",
      "    \"title\": \"원전 76-3\",\n",
      "    \"title_ch\": \"N/A\",\n",
      "    \"title_eng\": \"Original Test 76-3\",\n",
      "    \"artist\": \"이동진\",\n",
      "    \"artist_eng\": \"LEE Dongchin\",\n",
      "    \"artwork_number\": 5313,\n",
      "    \"year\": \"1976\",\n",
      "    \"size\": \"162×130.3\",\n",
      "    \"materials\": \"캔버스에 혼합재료\",\n",
      "    \"category\": \"회화 II\",\n",
      "    \"description\": \"이동진(1939- )은 '벽동인'으로 1960년대에 한국미술계의 보수 세력과 맞서 저항하며 새로운 물결에 동참한 작가이다. 당시 한국화단은 추상표현주의라는 거센 물결과《대한민국미술전람회》를 중심으로 한 아카데미즘이 서로 대립되기 시작하던 시기로 많은 젊은 작가들이 이러한 영향을 받았다. 그는 이 시기에 전통적인 화풍에 속하지 않고 추상화를 수용하여 자기만의 세계를 확립할 수 있는 근간을 마련하게 된다. 이동진은 이러한 시대정신의 기반 위에 '벽의 정신'을 표현하려고 노력하였으며, 원시자형(原始字形)에서 이미지를 추출하여 <원전> 연작도 제작하였다. 또한 선적인 형체가 점과 면으로 확산 되면서 우연적인 힘에 의해 일그러진 형체로 변모되기도 하고 직선적인 구획으로 가두어 놓았다가 해체하기도 한다.1960년대가 그의 회화세계를 형성하는 기본적인 개념을 형성하는 기간이었다면 1970년대는 회화적 실험의 시기라고 할 수 있다. 자연대상을 근원적으로 연구하는 시기로서, 새로운 방법으로 대상을 주시하는 시각상의 실험을 꾀한다. 자연 가운데 내재된 비가시적인 상을 독자적으로 해석하여 표현하는 것에 문제를 삼고 있다. 그는 자연이 내포하고 있는 가장 원시적인 형상을 표현하고자 애쓰는데 외형적인 현상에 집중하기 보다 본질적인 것을 포착하려고 한다. 그는 원시자형에서 이미지를 추출하여 원전이라는 타이틀을 붙이기도 하는데 <원전 75-3>(1976)은 이러한 경향의 이동진의 대표작으로《제25회 대한민국미술전람회》(1976)에서 특선을 수상한 작품이다.\",\n",
      "    \"read_count\": 7\n",
      "}\n",
      "Metadata: {'title': '원전 76-3', 'artist': '이동진', 'year': '1976', 'read_count': 7}\n",
      "--------------------------------------------------\n",
      "Document 3:\n",
      "Content: {\n",
      "    \"title\": \"대화 76-32\",\n",
      "    \"title_ch\": \"對話 76-32\",\n",
      "    \"title_eng\": \"Conversation 76-32\",\n",
      "    \"artist\": \"박길웅\",\n",
      "    \"artist_eng\": \"PARK Kiloung\",\n",
      "    \"artwork_number\": 1504,\n",
      "    \"year\": \"1976\",\n",
      "    \"size\": \"71.6x34.3\",\n",
      "    \"materials\": \"종이에 동판화\",\n",
      "    \"category\": \"판화\",\n",
      "    \"description\": \"황해도 사리원에서 출생한 박길웅(1940-1977)은《제18회 대한민국미술전람회》(1969)에서 <흔적 白 F-75>(1969)로 추상회화 최초로 대통령상을 수상하였으며, 그 후 1970년부터 3년 동안 뉴욕 아트 스튜던트 리그에서 판화 수업을 받는 등 미국화단을 무대로 활발한 작품활동에 매진하다 1977년 서울에서 열린《제11회 개인전》을 끝으로 일생을 마감한 작가이다.그는 초기에는 1950년대 후반 한국화단에 활발하게 대두되었던 앵포르멜(Informel) 경향을 바탕으로 강인한 생명력을 느끼게 하는 작품들을 선보였지만 이 후 기하학적이고 상징적인 추상화풍의 단계적인 조형을 보여주는 등 끊임없이 연구하고 노력하는 작화 자세를 보여주었다. 또한 그는 작품을 제작함에 있어 삶의 생성요소인 모태나 음양 등을 주제로 하거나 토벽, 흔적 등의 물질성을 위주로 하기도 하였으며, 나무 오브제(Object)를 캔버스에 결합시킨 에로틱한 형상의 입체작품을 보여주었다. 박길웅은 미국 유학 중 판화에 대해 새로운 관심을 갖고 에칭(Etching) 기법을 사용한 여러 판화작품들을 제작하였다. 이러한 그의 판화작업은 1977년 사망할 때까지 지속되는데, 이 판화 작품들에는 이전에 그가 회화로 제작하였던 <흔적>연작에 나타난 모티브들이 그대로 반영되어 있다. 이는 초기의 <흔적> 연작에서 거둔 조형적 성과를 판화로 번안하고자 한 것이다.<대화 76-32>(1976)는 판화로 제작된 <대화> 연작 중의 하나이다. 복잡한 문양이 그려진 직선의 띠가 화면을 좌우로 이등분하고 있으며, 화면 중앙의 원을 관통하고 있는 화살 형상은 화면을 상하로 나누고 있어서 전체적으로 화면은 상하좌우의 대칭구조를 이루고 있다. 또한 기하학적인 질서 위에 안정감 있는 구성을 보여주는 이 작품은 원과 화살의 결합된 형상을 통해 이원적 요소의 통합이라는 상징성을 내포한다.[참고문헌]* 국립현대미술관,『박길웅 작고 30주기 기념전』, 국립현대미술관, 2007.\",\n",
      "    \"read_count\": 10\n",
      "}\n",
      "Metadata: {'title': '대화 76-32', 'artist': '박길웅', 'year': '1976', 'read_count': 10}\n",
      "--------------------------------------------------\n",
      "Document 4:\n",
      "Content: {\n",
      "    \"title\": \"대화 76-30\",\n",
      "    \"title_ch\": \"對話 76-30\",\n",
      "    \"title_eng\": \"Conversation 76-30\",\n",
      "    \"artist\": \"박길웅\",\n",
      "    \"artist_eng\": \"PARK Kiloung\",\n",
      "    \"artwork_number\": 1503,\n",
      "    \"year\": \"1976\",\n",
      "    \"size\": \"71.6x34.3\",\n",
      "    \"materials\": \"종이에 동판화\",\n",
      "    \"category\": \"판화\",\n",
      "    \"description\": \"황해도 사리원에서 출생한 박길웅(1940-1977)은《제18회 대한민국미술전람회》(1969)에서 <흔적 白 F-75>(1969)로 추상회화 최초로 대통령상을 수상하였으며, 그 후 1970년부터 3년 동안 뉴욕 아트 스튜던트 리그에서 판화 수업을 받는 등 미국화단을 무대로 활발한 작품활동에 매진하다 1977년 서울에서 열린《제11회 개인전》을 끝으로 일생을 마감한 작가이다.그는 초기에는 1950년대 후반 한국화단에 활발하게 대두되었던 앵포르멜(Informel) 경향을 바탕으로 강인한 생명력을 느끼게 하는 작품들을 선보였지만 이 후 기하학적이고 상징적인 추상화풍의 단계적인 조형을 보여주는 등 끊임없이 연구하고 노력하는 작화 자세를 보여주었다. 또한 그는 작품을 제작함에 있어 삶의 생성요소인 모태나 음양 등을 주제로 하거나 토벽, 흔적 등의 물질성을 위주로 하기도 하였으며, 나무 오브제(Object)를 캔버스에 결합시킨 에로틱한 형상의 입체작품을 보여주었다. 박길웅은 미국 유학 중 판화에 대해 새로운 관심을 갖고 에칭(Etching) 기법을 사용한 여러 판화작품들을 제작하였다. 이러한 그의 판화작업은 1977년 사망할 때까지 지속되는데, 이 판화 작품들에는 이전에 그가 회화로 제작하였던 <흔적>연작에 나타난 모티브들이 그대로 반영되어 있다. 이는 초기의 <흔적> 연작에서 거둔 조형적 성과를 판화로 번안하고자 한 것이다.<대화 76-30>(1976)은 판화로 제작된 <대화> 연작 중의 하나이다. 복잡한 문양이 그려진 직선의 띠가 화면을 좌우로 이등분하고 있으며, 화면 중앙의 원을 관통하고 있는 화살 형상은 화면을 상하로 나누고 있어서 전체적으로 화면은 상하좌우의 대칭구조를 이루고 있다. 또한 기하학적인 질서 위에 안정감 있는 구성을 보여주는 이 작품은 원과 화살의 결합된 형상을 통해 이원적 요소의 통합이라는 상징성을 내포한다.[참고문헌]* 국립현대미술관,『박길웅 작고 30주기 기념전』, 국립현대미술관, 2007.\",\n",
      "    \"read_count\": 8\n",
      "}\n",
      "Metadata: {'title': '대화 76-30', 'artist': '박길웅', 'year': '1976', 'read_count': 8}\n",
      "--------------------------------------------------\n",
      "Document 5:\n",
      "Content: {\n",
      "    \"title\": \"대화 76-31\",\n",
      "    \"title_ch\": \"對話 76-31\",\n",
      "    \"title_eng\": \"Conversation 76-31\",\n",
      "    \"artist\": \"박길웅\",\n",
      "    \"artist_eng\": \"PARK Kiloung\",\n",
      "    \"artwork_number\": 1502,\n",
      "    \"year\": \"1976\",\n",
      "    \"size\": \"68.1x40.3\",\n",
      "    \"materials\": \"종이에 동판화\",\n",
      "    \"category\": \"판화\",\n",
      "    \"description\": \"황해도 사리원에서 출생한 박길웅(1940-1977)은《제18회 대한민국미술전람회》(1969)에서 <흔적 白 F-75>(1969)로 추상회화 최초로 대통령상을 수상하였으며, 그 후 1970년부터 3년 동안 뉴욕 아트 스튜던트 리그에서 판화 수업을 받는 등 미국화단을 무대로 활발한 작품활동에 매진하다 1977년 서울에서 열린《제11회 개인전》을 끝으로 일생을 마감한 작가이다.그는 초기에는 1950년대 후반 한국화단에 활발하게 대두되었던 앵포르멜(Informel) 경향을 바탕으로 강인한 생명력을 느끼게 하는 작품들을 선보였지만 이 후 기하학적이고 상징적인 추상화풍의 단계적인 조형을 보여주는 등 끊임없이 연구하고 노력하는 작화 자세를 보여주었다. 또한 그는 작품을 제작함에 있어 삶의 생성요소인 모태나 음양 등을 주제로 하거나 토벽, 흔적 등의 물질성을 위주로 하기도 하였으며, 나무 오브제(Object)를 캔버스에 결합시킨 에로틱한 형상의 입체작품을 보여주었다. 박길웅은 미국 유학 중 판화에 대해 새로운 관심을 갖고 에칭(Etching) 기법을 사용한 여러 판화작품들을 제작하였다. 이러한 그의 판화작업은 1977년 사망할 때까지 지속되는데, 이 판화 작품들에는 이전에 그가 회화로 제작하였던 <흔적>연작에 나타난 모티브들이 그대로 반영되어 있다. 이는 초기의 <흔적> 연작에서 거둔 조형적 성과를 판화로 번안하고자 한 것이다.<대화 76-31>(1976)은 판화로 제작된 <대화> 연작 중의 하나이다. 복잡한 문양이 그려진 직선의 띠가 화면을 좌우로 이등분하고 있으며, 화면 중앙의 원을 관통하고 있는 화살 형상은 화면을 상하로 나누고 있어서 전체적으로 화면은 상하좌우의 대칭구조를 이루고 있다. 또한 기하학적인 질서 위에 안정감 있는 구성을 보여주는 이 작품은 원과 화살의 결합된 형상을 통해 이원적 요소의 통합이라는 상징성을 내포한다.[참고문헌]* 국립현대미술관,『박길웅 작고 30주기 기념전』, 국립현대미술관, 2007.\",\n",
      "    \"read_count\": 5\n",
      "}\n",
      "Metadata: {'title': '대화 76-31', 'artist': '박길웅', 'year': '1976', 'read_count': 5}\n",
      "--------------------------------------------------\n"
     ]
    }
   ],
   "source": [
    "retrieved_docs = retriever.get_relevant_documents(query)\n",
    "for i, doc in enumerate(retrieved_docs):\n",
    "    print(f\"Document {i+1}:\")\n",
    "    print(f\"Content: {doc.page_content}\")  # 문서의 실제 내용\n",
    "    print(f\"Metadata: {doc.metadata}\")    # 메타데이터 (예: 출처, 페이지 등)\n",
    "    print(\"-\" * 50)\n"
   ]
  },
  {
   "cell_type": "code",
   "execution_count": 28,
   "id": "25b13d46-a624-421e-80bd-f1f041d77b2d",
   "metadata": {},
   "outputs": [
    {
     "name": "stdout",
     "output_type": "stream",
     "text": [
      "검색된 문서 수: 5\n",
      "\n",
      "문서 1:\n",
      "  파일명: N/A\n",
      "  유사도 점수: 0.9295\n",
      "  전체 내용: {\n",
      "    \"title\": \"페인팅-78-1\",\n",
      "    \"title_ch\": \"N/A\",\n",
      "    \"title_eng\": \"Painting-78-1\",\n",
      "    \"artist\": \"이강소\",\n",
      "    \"artist_eng\": \"LEE Kangso\",\n",
      "    \"artwork_number\": 7871,\n",
      "    \"year\": \"1978\",\n",
      "    \"size\": \"30분\",\n",
      "    \"materials\": \"단채널 영상, 컬러, 무음\",\n",
      "    \"category\": \"뉴미디어\",\n",
      "    \"description\": \"1970년대에 설치, 퍼포먼스, 판화, 비디오 등 다양한 매체로 전위미술운동을 전개했던 이강소(李康昭, 1943- )는 《대구현대미술제》를 개최하는데 있어 큰 역할을 담당한 바 있다. 《대구현대미술제》는 회화와 조각뿐만 아니라 설치와 야외 이벤트를 수용하면서 미술의 영역을 확장해 나갔고, 70년대 말에는 영상 작업도 받아들이게 된다. 그때 이강소는 박현기, 김영진, 최병소 등과 영상을 촬영했는데, 당시 제작했던 것이 <페인팅-78-1>이다. 이 작품은 《제4회 대구현대미술제》(1978)에 출품되었다.<페인팅-78-1>에서 작가는 카메라 앞에 유리를 세워놓고, 그 유리에 물감을 칠했다. 그러면 그것은 마치 카메라 렌즈에 물감을 칠하는 것처럼 보인다. 회화에 관심이 많았던 이강소는 그림을 그리는 과정을 관객에게 보여주고 싶었다고 한다. 화가가 캔버스에 그림을 그리면, 관객은 캔버스에 물감이 칠해지는 것을, 즉 캔버스의 앞면을 보게 된다. 하지만 <페인팅-78-1>에서 관객은 캔버스 뒷면 방향에서 물감이 칠해지는 것을 볼 수 있다.\",\n",
      "    \"read_count\": 499\n",
      "}\n",
      "\n",
      "문서 2:\n",
      "  파일명: N/A\n",
      "  유사도 점수: 0.9498\n",
      "  전체 내용: {\n",
      "    \"title\": \"원전 76-3\",\n",
      "    \"title_ch\": \"N/A\",\n",
      "    \"title_eng\": \"Original Test 76-3\",\n",
      "    \"artist\": \"이동진\",\n",
      "    \"artist_eng\": \"LEE Dongchin\",\n",
      "    \"artwork_number\": 5313,\n",
      "    \"year\": \"1976\",\n",
      "    \"size\": \"162×130.3\",\n",
      "    \"materials\": \"캔버스에 혼합재료\",\n",
      "    \"category\": \"회화 II\",\n",
      "    \"description\": \"이동진(1939- )은 '벽동인'으로 1960년대에 한국미술계의 보수 세력과 맞서 저항하며 새로운 물결에 동참한 작가이다. 당시 한국화단은 추상표현주의라는 거센 물결과《대한민국미술전람회》를 중심으로 한 아카데미즘이 서로 대립되기 시작하던 시기로 많은 젊은 작가들이 이러한 영향을 받았다. 그는 이 시기에 전통적인 화풍에 속하지 않고 추상화를 수용하여 자기만의 세계를 확립할 수 있는 근간을 마련하게 된다. 이동진은 이러한 시대정신의 기반 위에 '벽의 정신'을 표현하려고 노력하였으며, 원시자형(原始字形)에서 이미지를 추출하여 <원전> 연작도 제작하였다. 또한 선적인 형체가 점과 면으로 확산 되면서 우연적인 힘에 의해 일그러진 형체로 변모되기도 하고 직선적인 구획으로 가두어 놓았다가 해체하기도 한다.1960년대가 그의 회화세계를 형성하는 기본적인 개념을 형성하는 기간이었다면 1970년대는 회화적 실험의 시기라고 할 수 있다. 자연대상을 근원적으로 연구하는 시기로서, 새로운 방법으로 대상을 주시하는 시각상의 실험을 꾀한다. 자연 가운데 내재된 비가시적인 상을 독자적으로 해석하여 표현하는 것에 문제를 삼고 있다. 그는 자연이 내포하고 있는 가장 원시적인 형상을 표현하고자 애쓰는데 외형적인 현상에 집중하기 보다 본질적인 것을 포착하려고 한다. 그는 원시자형에서 이미지를 추출하여 원전이라는 타이틀을 붙이기도 하는데 <원전 75-3>(1976)은 이러한 경향의 이동진의 대표작으로《제25회 대한민국미술전람회》(1976)에서 특선을 수상한 작품이다.\",\n",
      "    \"read_count\": 7\n",
      "}\n",
      "\n",
      "문서 3:\n",
      "  파일명: N/A\n",
      "  유사도 점수: 0.9507\n",
      "  전체 내용: {\n",
      "    \"title\": \"동시성 76-41\",\n",
      "    \"title_ch\": \"N/A\",\n",
      "    \"title_eng\": \"Simultaneity 76-41\",\n",
      "    \"artist\": \"서승원\",\n",
      "    \"artist_eng\": \"SUH Seungwon\",\n",
      "    \"artwork_number\": 4715,\n",
      "    \"year\": \"1976\",\n",
      "    \"size\": \"162.2×130.3\",\n",
      "    \"materials\": \"캔버스에 유화 물감\",\n",
      "    \"category\": \"회화 II\",\n",
      "    \"description\": \"서승원(1942- )은 1960년대 초기에 매우 기하학적인 화면을 통해 절제되고 규범적인 작품 세계를 보여줌으로써 앵포르멜(Informel) 회화의 격정적이고 비합리적인 측면을 부정하는 새로운 회화를 전개하였다. 이후 그는 지속적으로 기하학적인 작품을 제작하여 자기 세계를 구현해왔으며, 그는 이것을 '동시성'이라 명명하였다. 동시성이란 회화의 제 요소들 즉, 형태와 색채, 그리고 공간(평면)이라는 세 요소가 각기 가장 환원적인 상태에서 서로 같은 가치를 갖는 것을 의미한다. 즉 이 세 요소가 하나의 화면에서 통일성을 유지한다는 것을 뜻하며, 더불어 서구미술에 대항한 한국 미술의 동시대적인 존재라는 의미까지도 포함하고 있다. 이는 또한 1970년대 한국 모노크롬(Monochrome) 미술의 핵심적인 주제 의식과도 근접해 있는 것이기도 하다.<동시성 76-41>(1976)은 부유하는 공간의 독특한 감각을 구현하여 지지체의 표현의 간극을 무마시킨 작품으로 이 시기의 그의 작품 경향을 보여주는 대표작이라 할 수 있다.\",\n",
      "    \"read_count\": 26\n",
      "}\n",
      "\n",
      "문서 4:\n",
      "  파일명: N/A\n",
      "  유사도 점수: 0.9531\n",
      "  전체 내용: {\n",
      "    \"title\": \"흔적 백 F-76\",\n",
      "    \"title_ch\": \"痕迹 白 F-76\",\n",
      "    \"title_eng\": \"Traces. White F-76\",\n",
      "    \"artist\": \"박길웅\",\n",
      "    \"artist_eng\": \"PARK Kiloung\",\n",
      "    \"artwork_number\": 1430,\n",
      "    \"year\": \"1970\",\n",
      "    \"size\": \"70×47\",\n",
      "    \"materials\": \"종이에 아크릴릭 물감, 수채 믈김\",\n",
      "    \"category\": \"회화 II\",\n",
      "    \"description\": \"박길웅(1940-1977)의 회화는 국내 수학시절, 미국 체류시절과 그 직후 그리고 그 이후의 3기로 나눌 수 있다.국내 수학시절에 박길웅은 향후의 회화에 있어 기초 개념이 되는 소(素), 추념(追念), 향(向), 유(流), 정(靜) 등을 개발하였으며《제18회 대한민국미술전람회》(1969) 대통령상을 수상한 <흔적 백 F-75>(1969)에서 이러한 규칙들을 성공적으로 구현했다는 평가를 받았다.미국 체류시절과 그 직후의 작업은 <낮과 밤>, <대화>(1975-1976) 연작에서와 같이 음과 양, 여와 남 등을 상징하는 두 개의 대립하는 색채 및 형상을 보여주는 구조, 즉 '이항대립(二項對立)' 구조로 대표된다.한편, 그가 타계하던 1977년 한 해에 걸쳐 시도하였던 <원초공간>에서는 끝이 불규칙한 굵고 검은 띠를 횡으로 반복하면서 띠 가운데 강한 원색의 원환들을 새기듯 그려 넣는 화면으로 전환하였다.\",\n",
      "    \"read_count\": 3\n",
      "}\n",
      "\n",
      "문서 5:\n",
      "  파일명: N/A\n",
      "  유사도 점수: 0.9683\n",
      "  전체 내용: {\n",
      "    \"title\": \"인간들의 계절\",\n",
      "    \"title_ch\": \"N/A\",\n",
      "    \"title_eng\": \"Season of Human\",\n",
      "    \"artist\": \"김영주\",\n",
      "    \"artist_eng\": \"KIM Youngjoo\",\n",
      "    \"artwork_number\": 4746,\n",
      "    \"year\": \"1973\",\n",
      "    \"size\": \"105.5×91\",\n",
      "    \"materials\": \"캔버스에 유화 물감\",\n",
      "    \"category\": \"회화 II\",\n",
      "    \"description\": \"1957년 조선일보 주최《현대작가초대전》과 '한국미술평론가협회'의 창설은 한국에서 현대미술운동이 태동하는데 있어 매우 중요한 사건이었다. 노담(老譚) 김영주(1920-1995)는 이 두 기구의 창설에 주도적인 역할을 한 작가 겸 이론가로 당시 서구의 새로운 미술사조가 지닌 철학적 배경에 많은 관심을 가졌다. 그의 작품에는 기본적으로 추상적인 색면 위에 각종 기호와 다양한 형상들이 복합적으로 등장한다. 구상적 요소와 추상적 요소가 혼재되어 있는 그림 속의 상징적인 요소들은 거침없는 선묘로 이루어져 김영주 특유의 개성적 회화 언어 체계를 이루고 있다.<인간들의 계절>(1973)은 <현대 인물도>(1968-1971), <현대 풍경도>(1968-1972) 등과 함께 그가 1970년대에 주로 제작한 작품 중 하나라 할 수 있다. 작품에는 김영주의 손길이 느껴지는 필선이 가득한 한편, 인간의 몸 형태로 보이는 선이 부드럽게 물결치듯 그려져 있다. 화면 위쪽으로는 단순화된 선묘로 이루어진 우의적인 얼굴형상들이 나란히 등장하여 김영주 회화의 특성을 잘 보여주고 있다.\",\n",
      "    \"read_count\": 22\n",
      "}\n"
     ]
    }
   ],
   "source": [
    "# 검색 수행: 유사도 점수와 함께 반환\n",
    "docs_and_scores = retriever.vectorstore.similarity_search_with_score(query, k=5)\n",
    "\n",
    "# 검색된 문서 수 출력\n",
    "print(f\"검색된 문서 수: {len(docs_and_scores)}\")\n",
    "\n",
    "# 각 문서의 파일명, 전체 내용, 유사도 점수 출력\n",
    "for i, (doc, score) in enumerate(docs_and_scores, 1):\n",
    "    print(f\"\\n문서 {i}:\")\n",
    "    print(f\"  파일명: {doc.metadata.get('source', 'N/A')}\")\n",
    "    print(f\"  유사도 점수: {score:.4f}\")\n",
    "    print(f\"  전체 내용: {doc.page_content}\")\n"
   ]
  },
  {
   "cell_type": "code",
   "execution_count": null,
   "id": "8227476a-1804-4ac4-89dc-4197c5ed6f9d",
   "metadata": {},
   "outputs": [],
   "source": []
  }
 ],
 "metadata": {
  "kernelspec": {
   "display_name": "faiss_env",
   "language": "python",
   "name": "python3"
  },
  "language_info": {
   "codemirror_mode": {
    "name": "ipython",
    "version": 3
   },
   "file_extension": ".py",
   "mimetype": "text/x-python",
   "name": "python",
   "nbconvert_exporter": "python",
   "pygments_lexer": "ipython3",
   "version": "3.10.16"
  }
 },
 "nbformat": 4,
 "nbformat_minor": 5
}
