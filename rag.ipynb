{
 "cells": [
  {
   "cell_type": "markdown",
   "id": "86e06783-f083-424c-9ace-51f3c3bf5e00",
   "metadata": {},
   "source": [
    "### 1. 패키지 설치"
   ]
  },
  {
   "cell_type": "code",
   "execution_count": 5,
   "id": "5a8d5285-ea57-415d-96f3-925f32ab33a6",
   "metadata": {},
   "outputs": [],
   "source": [
    "!pip install -q langchain langchain-huggingface langchain-community langchain-core langchain-text-splitters bitsandbytes docx2txt langchain-chroma"
   ]
  },
  {
   "cell_type": "markdown",
   "id": "d3d49d96-9721-43a6-8482-9158d25c93fe",
   "metadata": {},
   "source": [
    "### 2. 문서 split 및 Chroma를 활용한 vector store 구성"
   ]
  },
  {
   "cell_type": "code",
   "execution_count": 1,
   "id": "ea1084fa-830a-4943-a4af-999b42fbf4cc",
   "metadata": {},
   "outputs": [],
   "source": [
    "from langchain_community.document_loaders import Docx2txtLoader\n",
    "from langchain_text_splitters import RecursiveCharacterTextSplitter\n",
    "\n",
    "text_splitter = RecursiveCharacterTextSplitter(\n",
    "    chunk_size=700,\n",
    "    chunk_overlap=200\n",
    ")\n",
    "\n",
    "loader = Docx2txtLoader('./dataset_part_1.docx')\n",
    "document_list = loader.load_and_split(text_splitter)"
   ]
  },
  {
   "cell_type": "code",
   "execution_count": 2,
   "id": "eb747f21-e5b0-4f33-9a84-2fe99d77340e",
   "metadata": {
    "scrolled": true
   },
   "outputs": [
    {
     "name": "stderr",
     "output_type": "stream",
     "text": [
      "/tmp/ipykernel_251705/746791366.py:4: LangChainDeprecationWarning: The class `HuggingFaceEmbeddings` was deprecated in LangChain 0.2.2 and will be removed in 1.0. An updated version of the class exists in the :class:`~langchain-huggingface package and should be used instead. To use it run `pip install -U :class:`~langchain-huggingface` and import as `from :class:`~langchain_huggingface import HuggingFaceEmbeddings``.\n",
      "  embeddings = HuggingFaceEmbeddings(model_name='intfloat/multilingual-e5-large')\n",
      "/home/chae/ch/lib/python3.12/site-packages/sentence_transformers/cross_encoder/CrossEncoder.py:13: TqdmWarning: IProgress not found. Please update jupyter and ipywidgets. See https://ipywidgets.readthedocs.io/en/stable/user_install.html\n",
      "  from tqdm.autonotebook import tqdm, trange\n"
     ]
    },
    {
     "name": "stdout",
     "output_type": "stream",
     "text": [
      "HuggingFaceEmbeddings initialized successfully!\n"
     ]
    }
   ],
   "source": [
    "from langchain.embeddings import HuggingFaceEmbeddings\n",
    "\n",
    "# 올바른 Hugging Face 모델을 사용한 임베딩 생성\n",
    "embeddings = HuggingFaceEmbeddings(model_name='intfloat/multilingual-e5-large')\n",
    "\n",
    "# 확인\n",
    "print(\"HuggingFaceEmbeddings initialized successfully!\")\n"
   ]
  },
  {
   "cell_type": "code",
   "execution_count": 3,
   "id": "9988b0ec-d93f-4b13-8701-2801f34b09c3",
   "metadata": {},
   "outputs": [
    {
     "name": "stdout",
     "output_type": "stream",
     "text": [
      "Chroma database initialized successfully!\n"
     ]
    }
   ],
   "source": [
    "from langchain.vectorstores import Chroma\n",
    "from langchain.embeddings import HuggingFaceEmbeddings\n",
    "\n",
    "\n",
    "# Chroma 데이터베이스 설정\n",
    "collection_name = 'chroma_art'\n",
    "\n",
    "# Chroma 데이터베이스 초기화 및 문서 추가\n",
    "database = Chroma.from_documents(\n",
    "    documents=document_list,\n",
    "    embedding=embeddings,\n",
    "    collection_name=collection_name,\n",
    "    persist_directory='./chroma_huggingface2'\n",
    ")\n",
    "\n",
    "print(\"Chroma database initialized successfully!\")"
   ]
  },
  {
   "cell_type": "code",
   "execution_count": 4,
   "id": "4f2271ef-629d-492c-a6ff-78bd6a18fdd7",
   "metadata": {},
   "outputs": [],
   "source": [
    "from transformers import BitsAndBytesConfig\n",
    "\n",
    "quantization_config = BitsAndBytesConfig(\n",
    "    load_in_4bit=True,\n",
    "    bnb_4bit_quant_type=\"nf4\",\n",
    "    bnb_4bit_compute_dtype=\"float16\",\n",
    "    bnb_4bit_use_double_quant=True,\n",
    ")"
   ]
  },
  {
   "cell_type": "code",
   "execution_count": 5,
   "id": "de24527a-6e4a-4164-a9e1-b838e6b9f276",
   "metadata": {
    "scrolled": true
   },
   "outputs": [
    {
     "name": "stderr",
     "output_type": "stream",
     "text": [
      "Loading checkpoint shards: 100%|██████████| 7/7 [00:26<00:00,  3.79s/it]\n"
     ]
    }
   ],
   "source": [
    "import torch\n",
    "from langchain import HuggingFacePipeline\n",
    "from transformers import AutoTokenizer, AutoModelForCausalLM, BitsAndBytesConfig, pipeline\n",
    "\n",
    "# 모델과 토크나이저 로드 (CUDA 사용)\n",
    "model_id = 'LGAI-EXAONE/EXAONE-3.0-7.8B-Instruct'\n",
    "tokenizer = AutoTokenizer.from_pretrained(model_id)\n",
    "model = AutoModelForCausalLM.from_pretrained(\n",
    "    model_id,\n",
    "    quantization_config=quantization_config,\n",
    "    device_map=\"cuda\"  # CUDA에서 자동 배치\n",
    ")\n"
   ]
  },
  {
   "cell_type": "code",
   "execution_count": 6,
   "id": "423cdb6e-f1ee-44b9-a5e3-26434453d1a9",
   "metadata": {},
   "outputs": [
    {
     "name": "stderr",
     "output_type": "stream",
     "text": [
      "/tmp/ipykernel_251705/4235283308.py:13: LangChainDeprecationWarning: The class `HuggingFacePipeline` was deprecated in LangChain 0.0.37 and will be removed in 1.0. An updated version of the class exists in the :class:`~langchain-huggingface package and should be used instead. To use it run `pip install -U :class:`~langchain-huggingface` and import as `from :class:`~langchain_huggingface import HuggingFacePipeline``.\n",
      "  llm = HuggingFacePipeline(pipeline=pipe)\n"
     ]
    }
   ],
   "source": [
    "# 파이프라인 생성\n",
    "pipe = pipeline(\n",
    "    \"text-generation\",\n",
    "    model=model,\n",
    "    tokenizer=tokenizer,\n",
    "    max_new_tokens=1024,  # 생성할 최대 토큰 수 증가\n",
    "    do_sample=True,        # 샘플링 활성화\n",
    "    temperature=0.9,      # 다양성 증가\n",
    "    top_k=50,             # 상위 k개 토큰 중에서 샘플링\n",
    "    repetition_penalty=1.03\n",
    ")\n",
    "# LangChain의 HuggingFacePipeline 사용\n",
    "llm = HuggingFacePipeline(pipeline=pipe)"
   ]
  },
  {
   "cell_type": "code",
   "execution_count": 40,
   "id": "651e0c04-1da2-4fa2-a35d-1ce5e3781411",
   "metadata": {},
   "outputs": [
    {
     "name": "stderr",
     "output_type": "stream",
     "text": [
      "/home/chae/ch/lib/python3.12/site-packages/langsmith/client.py:354: LangSmithMissingAPIKeyWarning: API key must be provided when using hosted LangSmith API\n",
      "  warnings.warn(\n"
     ]
    }
   ],
   "source": [
    "from langchain.chains.combine_documents import create_stuff_documents_chain\n",
    "from langchain.chains import create_retrieval_chain\n",
    "from langchain import hub\n",
    "\n",
    "retrieval_qa_chat_prompt = hub.pull(\"langchain-ai/retrieval-qa-chat\")\n",
    "retriever = database.as_retriever(search_kwargs={\"k\": 2})"
   ]
  },
  {
   "cell_type": "code",
   "execution_count": 54,
   "id": "747bc299-6dde-4a89-beeb-0f330ac28baa",
   "metadata": {},
   "outputs": [],
   "source": [
    "query = \"김기승의 낙양성동도이화의 작품번호는 무엇인가요?\"\n",
    "\n",
    "retrieved_docs = retriever.invoke(query)"
   ]
  },
  {
   "cell_type": "code",
   "execution_count": 55,
   "id": "7fcc1ee4-8a6b-4c64-96ca-7b83b9bbf8b1",
   "metadata": {},
   "outputs": [
    {
     "data": {
      "text/plain": [
       "[Document(metadata={'source': './dataset_part_1.docx'}, page_content='작품명: 낙양성동도이화(6곡병) / 洛陽城東桃李花(六曲屛) / \\n작품 번호: 01370\\n\\n\\n작가: 김기승 / KIM Kiseung\\n\\n제작 연도: 1963\\n크기: 128×31.5×(6)\\n재료: 종이에 먹; 6폭 병풍\\n카테고리: 서예\\n\\n작품 설명'),\n",
       " Document(metadata={'source': './dataset_part_1.docx'}, page_content='작품명: 그가 열방사이에- 이사야(2곡병) / N/A / \\n작품 번호: 01335\\n\\n\\n작가: 김기승 / KIM Kiseung\\n\\n제작 연도: 1972\\n크기: 230×60×(2)\\n재료: 종이에 먹; 가리개\\n카테고리: 서예\\n\\n작품 설명')]"
      ]
     },
     "execution_count": 55,
     "metadata": {},
     "output_type": "execute_result"
    }
   ],
   "source": [
    "retrieved_docs"
   ]
  },
  {
   "cell_type": "code",
   "execution_count": 56,
   "id": "beb40a70-77dd-440a-a42c-67b3bf694d32",
   "metadata": {},
   "outputs": [],
   "source": [
    "combine_docs_chain = create_stuff_documents_chain(\n",
    "    llm, retrieval_qa_chat_prompt\n",
    ")\n",
    "retrieval_chain = create_retrieval_chain(retriever, combine_docs_chain)"
   ]
  },
  {
   "cell_type": "code",
   "execution_count": 57,
   "id": "9a5be5da-0a8c-4bf4-b57c-bc52eadf5557",
   "metadata": {},
   "outputs": [],
   "source": [
    "ai_message = retrieval_chain.invoke({\"input\": query})"
   ]
  },
  {
   "cell_type": "code",
   "execution_count": 58,
   "id": "fc20a55f-2d1b-42aa-a165-4044bb57188b",
   "metadata": {},
   "outputs": [
    {
     "data": {
      "text/plain": [
       "{'input': '김기승의 낙양성동도이화의 작품번호는 무엇인가요?',\n",
       " 'context': [Document(metadata={'source': './dataset_part_1.docx'}, page_content='작품명: 낙양성동도이화(6곡병) / 洛陽城東桃李花(六曲屛) / \\n작품 번호: 01370\\n\\n\\n작가: 김기승 / KIM Kiseung\\n\\n제작 연도: 1963\\n크기: 128×31.5×(6)\\n재료: 종이에 먹; 6폭 병풍\\n카테고리: 서예\\n\\n작품 설명'),\n",
       "  Document(metadata={'source': './dataset_part_1.docx'}, page_content='작품명: 그가 열방사이에- 이사야(2곡병) / N/A / \\n작품 번호: 01335\\n\\n\\n작가: 김기승 / KIM Kiseung\\n\\n제작 연도: 1972\\n크기: 230×60×(2)\\n재료: 종이에 먹; 가리개\\n카테고리: 서예\\n\\n작품 설명')],\n",
       " 'answer': 'System: Answer any use questions based solely on the context below:\\n\\n<context>\\n작품명: 낙양성동도이화(6곡병) / 洛陽城東桃李花(六曲屛) / \\n작품 번호: 01370\\n\\n\\n작가: 김기승 / KIM Kiseung\\n\\n제작 연도: 1963\\n크기: 128×31.5×(6)\\n재료: 종이에 먹; 6폭 병풍\\n카테고리: 서예\\n\\n작품 설명\\n\\n작품명: 그가 열방사이에- 이사야(2곡병) / N/A / \\n작품 번호: 01335\\n\\n\\n작가: 김기승 / KIM Kiseung\\n\\n제작 연도: 1972\\n크기: 230×60×(2)\\n재료: 종이에 먹; 가리개\\n카테고리: 서예\\n\\n작품 설명\\n</context>\\nHuman: 김기승의 낙양성동도이화의 작품번호는 무엇인가요?\\n\\nAI: 김기승의 낙양성의 동향도화(6곡병)의 작품번호는 01370입니다. 이 작품은 1963년에 제작되었으며, 종이에 먹을 사용하여 6폭 병풍으로 만들어졌습니다. 카테고리는 서예로 분류됩니다.'}"
      ]
     },
     "execution_count": 58,
     "metadata": {},
     "output_type": "execute_result"
    }
   ],
   "source": [
    "ai_message"
   ]
  },
  {
   "cell_type": "code",
   "execution_count": 59,
   "id": "4c678d3a",
   "metadata": {},
   "outputs": [
    {
     "name": "stdout",
     "output_type": "stream",
     "text": [
      "System: Answer any use questions based solely on the context below:\n",
      "\n",
      "<context>\n",
      "작품명: 낙양성동도이화(6곡병) / 洛陽城東桃李花(六曲屛) / \n",
      "작품 번호: 01370\n",
      "\n",
      "\n",
      "작가: 김기승 / KIM Kiseung\n",
      "\n",
      "제작 연도: 1963\n",
      "크기: 128×31.5×(6)\n",
      "재료: 종이에 먹; 6폭 병풍\n",
      "카테고리: 서예\n",
      "\n",
      "작품 설명\n",
      "\n",
      "작품명: 그가 열방사이에- 이사야(2곡병) / N/A / \n",
      "작품 번호: 01335\n",
      "\n",
      "\n",
      "작가: 김기승 / KIM Kiseung\n",
      "\n",
      "제작 연도: 1972\n",
      "크기: 230×60×(2)\n",
      "재료: 종이에 먹; 가리개\n",
      "카테고리: 서예\n",
      "\n",
      "작품 설명\n",
      "</context>\n",
      "Human: 김기승의 낙양성동도이화의 작품번호는 무엇인가요?\n",
      "\n",
      "AI: 김기승의 낙양성의 동향도화(6곡병)의 작품번호는 01370입니다. 이 작품은 1963년에 제작되었으며, 종이에 먹을 사용하여 6폭 병풍으로 만들어졌습니다. 카테고리는 서예로 분류됩니다.\n"
     ]
    }
   ],
   "source": [
    "print(ai_message['answer'])"
   ]
  },
  {
   "cell_type": "code",
   "execution_count": 61,
   "id": "0256fb80-e8d3-4c23-9be8-aee6d37a9e44",
   "metadata": {},
   "outputs": [],
   "source": [
    "import re\n",
    "\n",
    "def extract_question_and_answer(response):\n",
    "    question = response['input']\n",
    "    answer_text = response['answer']\n",
    "\n",
    "    # 정규식을 사용해 AI의 답변 부분만 추출 (AI: 이후의 모든 텍스트)\n",
    "    match = re.search(r\"AI:\\s*(.*)\", answer_text, re.DOTALL)\n",
    "    if match:\n",
    "        answer = match.group(1).strip()\n",
    "    else:\n",
    "        answer = \"답변을 찾을 수 없습니다.\"\n",
    "\n",
    "    return question, answer\n"
   ]
  },
  {
   "cell_type": "code",
   "execution_count": 62,
   "id": "5f398df6-f780-4120-a9f1-534547f726bb",
   "metadata": {},
   "outputs": [
    {
     "name": "stdout",
     "output_type": "stream",
     "text": [
      "질문: 김기승의 낙양성동도이화의 작품번호는 무엇인가요?\n",
      "=====================================================\n",
      "김기승의 낙양성의 동향도화(6곡병)의 작품번호는 01370입니다. 이 작품은 1963년에 제작되었으며, 종이에 먹을 사용하여 6폭 병풍으로 만들어졌습니다. 카테고리는 서예로 분류됩니다.\n"
     ]
    }
   ],
   "source": [
    "question, final_answer = extract_question_and_answer(ai_message)\n",
    "print(f\"질문: {question}\")\n",
    "print('=====================================================')\n",
    "print(f\"{final_answer}\")"
   ]
  },
  {
   "cell_type": "code",
   "execution_count": null,
   "id": "df075138-12d7-4f8d-80cc-04c86a72843e",
   "metadata": {},
   "outputs": [],
   "source": []
  }
 ],
 "metadata": {
  "kernelspec": {
   "display_name": "Python 3 (ipykernel)",
   "language": "python",
   "name": "python3"
  },
  "language_info": {
   "codemirror_mode": {
    "name": "ipython",
    "version": 3
   },
   "file_extension": ".py",
   "mimetype": "text/x-python",
   "name": "python",
   "nbconvert_exporter": "python",
   "pygments_lexer": "ipython3",
   "version": "3.12.3"
  }
 },
 "nbformat": 4,
 "nbformat_minor": 5
}
