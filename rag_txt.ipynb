{
 "cells": [
  {
   "cell_type": "markdown",
   "id": "86e06783-f083-424c-9ace-51f3c3bf5e00",
   "metadata": {},
   "source": [
    "### 1. 패키지 설치"
   ]
  },
  {
   "cell_type": "markdown",
   "id": "d3d49d96-9721-43a6-8482-9158d25c93fe",
   "metadata": {},
   "source": [
    "### 2. 문서 split 및 Chroma를 활용한 vector store 구성"
   ]
  },
  {
   "cell_type": "code",
   "execution_count": 1,
   "id": "ea1084fa-830a-4943-a4af-999b42fbf4cc",
   "metadata": {},
   "outputs": [
    {
     "name": "stdout",
     "output_type": "stream",
     "text": [
      "총 분할된 문서 수: 24464\n"
     ]
    }
   ],
   "source": [
    "from langchain.document_loaders import TextLoader\n",
    "from langchain_text_splitters import RecursiveCharacterTextSplitter\n",
    "\n",
    "text_splitter = RecursiveCharacterTextSplitter(\n",
    "    chunk_size=500,\n",
    "    chunk_overlap=128 # k=100이면 제대로 안나옴\n",
    ")\n",
    "\n",
    "# 단일 텍스트 파일 로드 및 분할\n",
    "file_path = './artworks.txt'\n",
    "\n",
    "loader = TextLoader(file_path, encoding='utf-8')\n",
    "documents = loader.load_and_split(text_splitter)\n",
    "\n",
    "# 분할된 문서 수 출력\n",
    "print(f\"총 분할된 문서 수: {len(documents)}\")"
   ]
  },
  {
   "cell_type": "code",
   "execution_count": 2,
   "id": "6d1ef186",
   "metadata": {},
   "outputs": [
    {
     "name": "stderr",
     "output_type": "stream",
     "text": [
      "/tmp/ipykernel_754/746791366.py:4: LangChainDeprecationWarning: The class `HuggingFaceEmbeddings` was deprecated in LangChain 0.2.2 and will be removed in 1.0. An updated version of the class exists in the :class:`~langchain-huggingface package and should be used instead. To use it run `pip install -U :class:`~langchain-huggingface` and import as `from :class:`~langchain_huggingface import HuggingFaceEmbeddings``.\n",
      "  embeddings = HuggingFaceEmbeddings(model_name='intfloat/multilingual-e5-large')\n",
      "/home/chae/ch/lib/python3.12/site-packages/sentence_transformers/cross_encoder/CrossEncoder.py:13: TqdmWarning: IProgress not found. Please update jupyter and ipywidgets. See https://ipywidgets.readthedocs.io/en/stable/user_install.html\n",
      "  from tqdm.autonotebook import tqdm, trange\n"
     ]
    },
    {
     "name": "stdout",
     "output_type": "stream",
     "text": [
      "HuggingFaceEmbeddings initialized successfully!\n"
     ]
    }
   ],
   "source": [
    "from langchain.embeddings import HuggingFaceEmbeddings\n",
    "\n",
    "# 올바른 Hugging Face 모델을 사용한 임베딩 생성\n",
    "embeddings = HuggingFaceEmbeddings(model_name='intfloat/multilingual-e5-large')\n",
    "\n",
    "# 확인\n",
    "print(\"HuggingFaceEmbeddings initialized successfully!\")\n"
   ]
  },
  {
   "cell_type": "code",
   "execution_count": 3,
   "id": "21a15f46",
   "metadata": {},
   "outputs": [
    {
     "name": "stdout",
     "output_type": "stream",
     "text": [
      "Chroma database initialized successfully!\n"
     ]
    }
   ],
   "source": [
    "from langchain.vectorstores import Chroma\n",
    "from langchain.embeddings import HuggingFaceEmbeddings\n",
    "\n",
    "# 3. Chroma 데이터베이스 초기화 및 문서 추가\n",
    "collection_name = 'chroma_art2'\n",
    "\n",
    "database = Chroma.from_documents(\n",
    "    documents=documents,\n",
    "    embedding=embeddings,\n",
    "    collection_name=collection_name,\n",
    "    persist_directory='./chroma_huggingface_1104'\n",
    ")\n",
    "\n",
    "print(\"Chroma database initialized successfully!\")"
   ]
  },
  {
   "cell_type": "code",
   "execution_count": 4,
   "id": "4607b73e",
   "metadata": {},
   "outputs": [],
   "source": [
    "from transformers import AutoModelForCausalLM, AutoTokenizer, BitsAndBytesConfig\n",
    "import torch\n",
    "\n",
    "quantization_config = BitsAndBytesConfig(\n",
    "    load_in_4bit=True,\n",
    "    bnb_4bit_quant_type=\"nf4\",\n",
    "    bnb_4bit_compute_dtype=\"float16\",\n",
    "    bnb_4bit_use_double_quant=True,\n",
    ")"
   ]
  },
  {
   "cell_type": "code",
   "execution_count": 5,
   "id": "40645602",
   "metadata": {},
   "outputs": [
    {
     "name": "stdin",
     "output_type": "stream",
     "text": [
      "The repository for LGAI-EXAONE/EXAONE-3.0-7.8B-Instruct contains custom code which must be executed to correctly load the model. You can inspect the repository content at https://hf.co/LGAI-EXAONE/EXAONE-3.0-7.8B-Instruct.\n",
      "You can avoid this prompt in future by passing the argument `trust_remote_code=True`.\n",
      "\n",
      "Do you wish to run the custom code? [y/N]  y\n",
      "The repository for LGAI-EXAONE/EXAONE-3.0-7.8B-Instruct contains custom code which must be executed to correctly load the model. You can inspect the repository content at https://hf.co/LGAI-EXAONE/EXAONE-3.0-7.8B-Instruct.\n",
      "You can avoid this prompt in future by passing the argument `trust_remote_code=True`.\n",
      "\n",
      "Do you wish to run the custom code? [y/N]  y\n"
     ]
    },
    {
     "name": "stderr",
     "output_type": "stream",
     "text": [
      "Loading checkpoint shards: 100%|██████████████████████████████████████████████████████████| 7/7 [00:22<00:00,  3.26s/it]\n"
     ]
    }
   ],
   "source": [
    "import torch\n",
    "from langchain import HuggingFacePipeline\n",
    "from transformers import AutoTokenizer, AutoModelForCausalLM, BitsAndBytesConfig, pipeline\n",
    "\n",
    "# 모델과 토크나이저 로드 (CUDA 사용)\n",
    "model_id = 'LGAI-EXAONE/EXAONE-3.0-7.8B-Instruct'\n",
    "tokenizer = AutoTokenizer.from_pretrained(model_id)\n",
    "model = AutoModelForCausalLM.from_pretrained(\n",
    "    model_id,\n",
    "    quantization_config=quantization_config,\n",
    "    device_map=\"cuda\"  # CUDA에서 자동 배치\n",
    ")\n"
   ]
  },
  {
   "cell_type": "code",
   "execution_count": 6,
   "id": "b6446fa9",
   "metadata": {},
   "outputs": [
    {
     "name": "stderr",
     "output_type": "stream",
     "text": [
      "/tmp/ipykernel_754/3581699272.py:13: LangChainDeprecationWarning: The class `HuggingFacePipeline` was deprecated in LangChain 0.0.37 and will be removed in 1.0. An updated version of the class exists in the :class:`~langchain-huggingface package and should be used instead. To use it run `pip install -U :class:`~langchain-huggingface` and import as `from :class:`~langchain_huggingface import HuggingFacePipeline``.\n",
      "  llm = HuggingFacePipeline(pipeline=pipe)\n"
     ]
    }
   ],
   "source": [
    "# 파이프라인 생성\n",
    "pipe = pipeline(\n",
    "    \"text-generation\",\n",
    "    model=model,\n",
    "    tokenizer=tokenizer,\n",
    "    max_new_tokens=1024,  # 생성할 최대 토큰 수 증가\n",
    "    do_sample=True,        # 샘플링 활성화\n",
    "    temperature=0.7,      # 다양성 증가\n",
    "    top_k=50,             # 상위 k개 토큰 중에서 샘플링\n",
    "    repetition_penalty=1.03\n",
    ")\n",
    "# LangChain의 HuggingFacePipeline 사용\n",
    "llm = HuggingFacePipeline(pipeline=pipe)"
   ]
  },
  {
   "cell_type": "code",
   "execution_count": 31,
   "id": "747bc299-6dde-4a89-beeb-0f330ac28baa",
   "metadata": {},
   "outputs": [],
   "source": [
    "from langchain.prompts import PromptTemplate\n",
    "from langchain.schema.runnable import RunnablePassthrough\n",
    "from langchain_core.output_parsers.string import StrOutputParser # module path 수정\n",
    "from langchain.prompts import ChatPromptTemplate\n",
    "\n",
    "template = '''\n",
    "<|system|> \n",
    "당신은 친절한 한국어 예술작품 챗봇입니다. \n",
    "문서(context)에 있는 정보만 사용해 질문에 답하세요. \n",
    "모든 답변은 반드시 한국어(Korean)로 대답하세요.\n",
    "\n",
    "\n",
    "<|user|>\n",
    "{context}\n",
    "\n",
    "Question: {question}\n",
    "\n",
    "\n",
    "'''\n",
    "prompt = ChatPromptTemplate.from_template(template)"
   ]
  },
  {
   "cell_type": "code",
   "execution_count": 32,
   "id": "137611cd",
   "metadata": {},
   "outputs": [],
   "source": [
    "retriever = database.as_retriever(search_kwargs={\"k\": 5})"
   ]
  },
  {
   "cell_type": "code",
   "execution_count": 33,
   "id": "0e5af389",
   "metadata": {},
   "outputs": [],
   "source": [
    "from langchain.schema.runnable import RunnablePassthrough, RunnableMap\n",
    "\n",
    "# 체인 구성 수정\n",
    "chain = (\n",
    "    {\"context\": retriever, \"question\": RunnablePassthrough()}\n",
    "    | prompt\n",
    "    | llm\n",
    "    | StrOutputParser()\n",
    ")\n"
   ]
  },
  {
   "cell_type": "code",
   "execution_count": 36,
   "id": "fb2b4cd0",
   "metadata": {},
   "outputs": [],
   "source": [
    "query = \"김기승의 '낙양성동도이화'에 대해 마크다운으로 알려주세요.\""
   ]
  },
  {
   "cell_type": "code",
   "execution_count": 37,
   "id": "525b7a35",
   "metadata": {},
   "outputs": [
    {
     "name": "stdout",
     "output_type": "stream",
     "text": [
      "Human: \n",
      "<|system|> \n",
      "당신은 친절한 한국어 예술작품 챗봇입니다. \n",
      "문서(context)에 있는 정보만 사용해 질문에 답하세요. \n",
      "모든 답변은 반드시 한국어(Korean)로 대답하세요.\n",
      "\n",
      "\n",
      "<|user|>\n",
      "[Document(metadata={'source': './artworks.txt'}, page_content='김기승 작가의 1963년작 낙양성동도이화(6곡병)에 대한 작품 개요입니다. 작가명은 김기승, 작품명은 낙양성동도이화(6곡병), 제작연도는 1963년입니다. 재료는 종이에 먹; 6폭 병풍를 사용했으며 규격은 128×31.5×(6)이고, 서예 부문의 작품입니다. 작품번호는 1364입니다. 김기승 작가의 1963년작 낙양성동도이화(6곡병)에 대한 세부 설명은 다음과 같습니다: 원곡(原谷) 김기승(1909-2000)은 한국 현대 서예사의 대표적인 작가이다. 1946년 소전(素筌) 손재형(孫在馨) 문하에 들어가 본격적인 서예공부를 시작하였고, 《제1-4회 대한민국미술전람회》(1949, 1953-1955)까지 잇달아 서예부 특선을 차지하여 문교부장관상을 수상하였다. 1955년에는 대성서예원(大成書藝院)을 설립하였고, 1978년에는 원곡서예상(原谷書藝賞)을 제정하기도 하였다.김기승은 《제10회 대한민국미술전람회》(1961)의 취지문에서 \"한국적 향기와 한국인의 체취를 풍기는 작품을 제작하기'), Document(metadata={'source': './artworks.txt'}, page_content='김기승 작가의 연도미상년작 자두연두기두재부중읍 칠보시 묵영에 대한 작품 개요입니다. 작가명은 김기승, 작품명은 자두연두기두재부중읍 칠보시 묵영, 제작연도는 연도미상년입니다. 재료는 종이에 먹를 사용했으며 규격은 244×53이고, 서예 부문의 작품입니다. 작품번호는 1297입니다. 김기승 작가의 연도미상년작 자두연두기두재부중읍 칠보시 묵영에 대한 세부 설명은 다음과 같습니다: 원곡(原谷) 김기승(1909-2000)은 한국 현대 서예사의 대표적인 작가이다. 1946년 소전(素筌) 손재형(孫在馨) 문하에 들어가 본격적인 서예공부를 시작하였고, 《제1-4회 대한민국미술전람회》(1949, 1953-1955)까지 잇달아 서예부 특선을 차지하여 문교부장관상을 수상하였다. 1955년에는 대성서예원(大成書藝院)을 설립하였고, 1978년에는 원곡서예상(原谷書藝賞)을 제정하기도 하였다.김기승은 《제10회 대한민국미술전람회》(1961)의 취지문에서 \"한국적 향기와 한국인의 체취를 풍기는 작품을 제작하기'), Document(metadata={'source': './artworks.txt'}, page_content='김기승 작가의 연도미상년작 연문팔경왕유화천외삼산 이백시 대구(행서)에 대한 작품 개요입니다. 작가명은 김기승, 작품명은 연문팔경왕유화천외삼산 이백시 대구(행서), 제작연도는 연도미상년입니다. 재료는 종이에 먹, 금분; 족자를 사용했으며 규격은 137×58.5이고, 서예 부문의 작품입니다. 작품번호는 1287입니다. 김기승 작가의 연도미상년작 연문팔경왕유화천외삼산 이백시 대구(행서)에 대한 세부 설명은 다음과 같습니다: 원곡(原谷) 김기승(1909-2000)은 한국 현대 서예사의 대표적인 작가이다. 1946년 소전(素筌) 손재형(孫在馨) 문하에 들어가 본격적인 서예공부를 시작하였고, 《제1-4회 대한민국미술전람회》(1949, 1953-1955)까지 잇달아 서예부 특선을 차지하여 문교부장관상을 수상하였다. 1955년에는 대성서예원(大成書藝院)을 설립하였고, 1978년에는 원곡서예상(原谷書藝賞)을 제정하기도 하였다.김기승은 《제10회 대한민국미술전람회》(1961)의 취지문에서 \"한국적'), Document(metadata={'source': './artworks.txt'}, page_content='김기승 작가의 연도미상년작 도이원서 초서(6곡병)에 대한 작품 개요입니다. 작가명은 김기승, 작품명은 도이원서 초서(6곡병), 제작연도는 연도미상년입니다. 재료는 종이에 먹; 6폭 병풍를 사용했으며 규격은 129×31.5×(6)이고, 서예 부문의 작품입니다. 작품번호는 1360입니다. 김기승 작가의 연도미상년작 도이원서 초서(6곡병)에 대한 세부 설명은 다음과 같습니다: 원곡(原谷) 김기승(1909-2000)은 한국 현대 서예사의 대표적인 작가이다. 1946년 소전(素筌) 손재형(孫在馨) 문하에 들어가 본격적인 서예공부를 시작하였고, 《제1-4회 대한민국미술전람회》(1949, 1953-1955)까지 잇달아 서예부 특선을 차지하여 문교부장관상을 수상하였다. 1955년에는 대성서예원(大成書藝院)을 설립하였고, 1978년에는 원곡서예상(原谷書藝賞)을 제정하기도 하였다.김기승은 《제10회 대한민국미술전람회》(1961)의 취지문에서 \"한국적 향기와 한국인의 체취를 풍기는 작품을 제작하기'), Document(metadata={'source': './artworks.txt'}, page_content='김기승 작가의 1971년작 지립청상송상조명고황권성현론(사명대사 시)(2곡병)에 대한 작품 개요입니다. 작가명은 김기승, 작품명은 지립청상송상조명고황권성현론(사명대사 시)(2곡병), 제작연도는 1971년입니다. 재료는 종이에 먹; 2폭 병풍를 사용했으며 규격은 127×32.5×(2)이고, 서예 부문의 작품입니다. 작품번호는 1349입니다. 김기승 작가의 1971년작 지립청상송상조명고황권성현론(사명대사 시)(2곡병)에 대한 세부 설명은 다음과 같습니다: 원곡(原谷) 김기승(1909-2000)은 한국 현대 서예사의 대표적인 작가이다. 1946년 소전(素筌) 손재형(孫在馨) 문하에 들어가 본격적인 서예공부를 시작하였고, 《제1-4회 대한민국미술전람회》(1949, 1953-1955)까지 잇달아 서예부 특선을 차지하여 문교부장관상을 수상하였다. 1955년에는 대성서예원(大成書藝院)을 설립하였고, 1978년에는 원곡서예상(原谷書藝賞)을 제정하기도 하였다.김기승은 《제10회')]\n",
      "\n",
      "Question: 김기승의 '낙양성동도이화'에 대해 마크다운으로 알려주세요.\n",
      "\n",
      "\n",
      "Answer:\n",
      "\n",
      "# 김기승의 낙양성동도이화\n",
      "\n",
      "- **작가명**: 김기승\n",
      "- **작품명**: 낙양성동도이화(6곡병)\n",
      "- **제작연도**: 1963년\n",
      "- **재료**: 종이에 먹\n",
      "- **규격**: 128×31.5×(6) (폭 × 높이 × 폭)\n",
      "- **작품 유형**: 서예 부문 작품\n",
      "- **작품번호**: 1364\n",
      "\n",
      "## 작가 소개\n",
      "\n",
      "원곡(原谷) 김기승(1909-2000)은 한국 현대 서예사의 대표적인 작가입니다. 그는 1946년 소전(素筌) 손재형(孫在馨) 문하에서 서예 공부를 시작하였으며, 《제1-4회 대한민국미술전람회》(1949, 1953-1955)까지 연달아 서예부 특선을 차지하여 문교부장관상을 수상했습니다.\n",
      "\n",
      "1955년에는 대성서예원(大成書藝院)을 설립하고, 1978년에는 원곡서예상(原谷書藝賞)을 제정하기도 했습니다. 김기승은 《제10회 대한민국미술전람회》(1961)의 취지문에서 \"한국적 향기와 한국인의 체취를 풍기는 작품을 제작하기\"라는 목표를 밝혔습니다.\n",
      "\n",
      "## 세부 설명\n",
      "\n",
      "'낙양성동도이화'는 한국적 향기와 체취를 담은 작품으로, 원작의 독창성을 잘 보여줍니다. 이 작품은 여섯 폭의 병풍으로 구성되어 있으며, 각각의 폭이 조화롭게 연결되어 하나의 완성된 예술작품을 이루고 있습니다.\n",
      "\n"
     ]
    }
   ],
   "source": [
    "# 마지막에 원하는 형식으로 출력 필터링\n",
    "response = chain.invoke(query)\n",
    "print(response)"
   ]
  },
  {
   "cell_type": "code",
   "execution_count": 12,
   "id": "4b9bb713",
   "metadata": {},
   "outputs": [],
   "source": [
    "import re\n",
    "\n",
    "def extract_answer(text):\n",
    "    # 정규 표현식을 사용하여 'Answer:' 이후의 모든 텍스트 추출\n",
    "    match = re.search(r\"Answer:\\s*(.*)\", text, re.DOTALL)\n",
    "    if match:\n",
    "        answer = match.group(1).strip()  # 불필요한 공백 제거\n",
    "    else:\n",
    "        answer = \"답변을 찾을 수 없습니다.\"\n",
    "    \n",
    "    return answer"
   ]
  },
  {
   "cell_type": "code",
   "execution_count": 13,
   "id": "92cf9168",
   "metadata": {},
   "outputs": [
    {
     "name": "stdout",
     "output_type": "stream",
     "text": [
      "```markdown\n",
      "## 김기승 작가의 낙양성동도이화 작품 개요\n",
      "\n",
      "- **작가명**: 김기승\n",
      "- **작품명**: 낙양성동도이화\n",
      "- **제작연도**: 연도미상년\n",
      "- **재료**: 종이에 먹\n",
      "- **규격**: 137×58.5 (세로)\n",
      "- **작품번호**: 1287\n",
      "\n",
      "### 세부 설명\n",
      "\n",
      "원곡(原谷) 김기승(1909-2000)은 한국 현대 서예사의 대표적인 작가이다. 1946년 소전(素筌) 손재형(孫在馨) 문하에 들어가 본격적인 서예공부를 시작하였고, 《제1-4회 대한민국미술전람회》(1949, 1953-1955)까지 잇달아 서예부 특선을 차지하여 문교부장관상을 수상하였다.\n",
      "\n",
      "1955년에는 대성서예원(大成書藝院)을 설립하였고, 1978년에는 원곡서예상(原谷書藝賞)을 제정하기도 하였다. 김기승은 《제10회 대한민국미술전람회》(1961)의 취지문에서 \"한국적 향기와 한국인의 체취를 풍기는 작품을 제작하기 위하여 온몸을 바친다\"고 언급하였다.\n",
      "\n",
      "낙양성동도이화는 김기승의 대표작 중 하나로, 그의 독창적인 서예 스타일과 깊은 한국적 정서가 담긴 작품이다.\n",
      "```\n",
      "\n",
      "이 설명은 김기승 작가의 '낙양성동도이화'에 대한 주요 정보와 세부 내용을 포함하고 있습니다.\n"
     ]
    }
   ],
   "source": [
    "answer = extract_answer(response)\n",
    "print(answer)"
   ]
  },
  {
   "cell_type": "code",
   "execution_count": 14,
   "id": "6353644f",
   "metadata": {},
   "outputs": [
    {
     "name": "stdout",
     "output_type": "stream",
     "text": [
      "검색된 문서 수: 5\n",
      "\n",
      "문서 1:\n",
      "  파일명: ./artworks.txt\n",
      "  유사도 점수: 0.3268\n",
      "  전체 내용: 김기승 작가의 연도미상년작 송라예영 중계화혼(행서)에 대한 작품 개요입니다. 작가명은 김기승, 작품명은 송라예영 중계화혼(행서), 제작연도는 연도미상년입니다. 재료는 종이에 먹를 사용했으며 규격은 135×32.5이고, 서예 부문의 작품입니다. 작품번호는 1277입니다. 김기승 작가의 연도미상년작 송라예영 중계화혼(행서)에 대한 세부 설명은 다음과 같습니다: 원곡(原谷) 김기승(1909-2000)은 한국 현대 서예사의 대표적인 작가이다. 1946년 소전(素筌) 손재형(孫在馨) 문하에 들어가 본격적인 서예공부를 시작하였고, 《제1-4회 대한민국미술전람회》(1949, 1953-1955)까지 잇달아 서예부 특선을 차지하여 문교부장관상을 수상하였다. 1955년에는 대성서예원(大成書藝院)을 설립하였고, 1978년에는 원곡서예상(原谷書藝賞)을 제정하기도 하였다.김기승은 《제10회 대한민국미술전람회》(1961)의 취지문에서 \"한국적 향기와 한국인의 체취를 풍기는 작품을 제작하기 위하여 온몸을\n",
      "\n",
      "문서 2:\n",
      "  파일명: ./artworks.txt\n",
      "  유사도 점수: 0.3264\n",
      "  전체 내용: 김기승 작가의 1971년작 지립청상송상조명고황권성현론(사명대사 시)(2곡병)에 대한 작품 개요입니다. 작가명은 김기승, 작품명은 지립청상송상조명고황권성현론(사명대사 시)(2곡병), 제작연도는 1971년입니다. 재료는 종이에 먹; 2폭 병풍를 사용했으며 규격은 127×32.5×(2)이고, 서예 부문의 작품입니다. 작품번호는 1349입니다. 김기승 작가의 1971년작 지립청상송상조명고황권성현론(사명대사 시)(2곡병)에 대한 세부 설명은 다음과 같습니다: 원곡(原谷) 김기승(1909-2000)은 한국 현대 서예사의 대표적인 작가이다. 1946년 소전(素筌) 손재형(孫在馨) 문하에 들어가 본격적인 서예공부를 시작하였고, 《제1-4회 대한민국미술전람회》(1949, 1953-1955)까지 잇달아 서예부 특선을 차지하여 문교부장관상을 수상하였다. 1955년에는 대성서예원(大成書藝院)을 설립하였고, 1978년에는 원곡서예상(原谷書藝賞)을 제정하기도 하였다.김기승은 《제10회\n",
      "\n",
      "문서 3:\n",
      "  파일명: ./artworks.txt\n",
      "  유사도 점수: 0.3220\n",
      "  전체 내용: 김기승 작가의 연도미상년작 행서(송풍각시 중에서)황산곡체에 대한 작품 개요입니다. 작가명은 김기승, 작품명은 행서(송풍각시 중에서)황산곡체, 제작연도는 연도미상년입니다. 재료는 종이에 먹; 족자를 사용했으며 규격은 374.5×61이고, 서예 부문의 작품입니다. 작품번호는 1196입니다. 김기승 작가의 연도미상년작 행서(송풍각시 중에서)황산곡체에 대한 세부 설명은 다음과 같습니다: 원곡(原谷) 김기승(1909-2000)은 한국 현대 서예사의 대표적인 작가이다. 1946년 소전(素筌) 손재형(孫在馨) 문하에 들어가 본격적인 서예공부를 시작하였고, 《제1-4회 대한민국미술전람회》(1949, 1953-1955)까지 잇달아 서예부 특선을 차지하여 문교부장관상을 수상하였다. 1955년에는 대성서예원(大成書藝院)을 설립하였고, 1978년에는 원곡서예상(原谷書藝賞)을 제정하기도 하였다.김기승은 《제10회 대한민국미술전람회》(1961)의 취지문에서 \"한국적 향기와 한국인의 체취를 풍기는 작품을\n",
      "\n",
      "문서 4:\n",
      "  파일명: ./artworks.txt\n",
      "  유사도 점수: 0.3172\n",
      "  전체 내용: 김기승 작가의 연도미상년작 연문팔경왕유화천외삼산 이백시 대구(행서)에 대한 작품 개요입니다. 작가명은 김기승, 작품명은 연문팔경왕유화천외삼산 이백시 대구(행서), 제작연도는 연도미상년입니다. 재료는 종이에 먹, 금분; 족자를 사용했으며 규격은 137×58.5이고, 서예 부문의 작품입니다. 작품번호는 1287입니다. 김기승 작가의 연도미상년작 연문팔경왕유화천외삼산 이백시 대구(행서)에 대한 세부 설명은 다음과 같습니다: 원곡(原谷) 김기승(1909-2000)은 한국 현대 서예사의 대표적인 작가이다. 1946년 소전(素筌) 손재형(孫在馨) 문하에 들어가 본격적인 서예공부를 시작하였고, 《제1-4회 대한민국미술전람회》(1949, 1953-1955)까지 잇달아 서예부 특선을 차지하여 문교부장관상을 수상하였다. 1955년에는 대성서예원(大成書藝院)을 설립하였고, 1978년에는 원곡서예상(原谷書藝賞)을 제정하기도 하였다.김기승은 《제10회 대한민국미술전람회》(1961)의 취지문에서 \"한국적\n",
      "\n",
      "문서 5:\n",
      "  파일명: ./artworks.txt\n",
      "  유사도 점수: 0.3119\n",
      "  전체 내용: 김병종 작가의 2016-2017년작 송화분분-푸른 고고성(孤高聲)에 대한 작품 개요입니다. 작가명은 김병종, 작품명은 송화분분-푸른 고고성(孤高聲), 제작연도는 2016-2017년입니다. 재료는 패널에 혼합재료를 사용했으며 규격은 185×244이고, 회화 I 부문의 작품입니다. 작품번호는 10908입니다. 김병종 작가의 2016-2017년작 송화분분-푸른 고고성(孤高聲)에 대한 세부 설명은 다음과 같습니다: 단아(旦兒) 김병종(金炳宗, 1953- )은 전라북도 남원에서 태어났으며, 서울대학교 미술대학 회화과와 동대학원을 졸업하고 성균관대학교에서 동양예술 철학 박사학위를 취득했다. 1980년 《제11회 전국대학미술전람회》에서 대통령상을 수상하며 미술계에 등단했다. 같은 해 동아일보와 중앙일보 신춘문예에서 미술평론과 희곡 분야에 당선되기도 했다. 본격적으로 작가 활동을 하는 한편 미술전문지에 기고하며 평론가로서의 면모를 보였다. 1985년부터는 서울대학교 미술대학에서 교수로 재직하며\n"
     ]
    }
   ],
   "source": [
    "# 검색 수행: 유사도 점수와 함께 반환\n",
    "docs_and_scores = retriever.vectorstore.similarity_search_with_score(query, k=5)\n",
    "\n",
    "# 유사도 점수를 기준으로 내림차순 정렬\n",
    "docs_and_scores = sorted(docs_and_scores, key=lambda x: x[1], reverse=True)\n",
    "\n",
    "# 검색된 문서 수 출력\n",
    "print(f\"검색된 문서 수: {len(docs_and_scores)}\")\n",
    "\n",
    "# 각 문서의 파일명, 전체 내용, 유사도 점수 출력\n",
    "for i, (doc, score) in enumerate(docs_and_scores, 1):\n",
    "    print(f\"\\n문서 {i}:\")\n",
    "    print(f\"  파일명: {doc.metadata.get('source', 'N/A')}\")\n",
    "    print(f\"  유사도 점수: {score:.4f}\")\n",
    "    print(f\"  전체 내용: {doc.page_content}\")\n"
   ]
  },
  {
   "cell_type": "code",
   "execution_count": 44,
   "id": "925d43fa",
   "metadata": {},
   "outputs": [
    {
     "name": "stdout",
     "output_type": "stream",
     "text": [
      "4번 샘플:\n",
      "  파일명: ./artworks.txt\n",
      "  유사도 점수: 0.3220\n",
      "  전체 내용: 김기승 작가의 연도미상년작 행서(송풍각시 중에서)황산곡체에 대한 작품 개요입니다. 작가명은 김기승, 작품명은 행서(송풍각시 중에서)황산곡체, 제작연도는 연도미상년입니다. 재료는 종이에 먹; 족자를 사용했으며 규격은 374.5×61이고, 서예 부문의 작품입니다. 작품번호는 1196입니다. 김기승 작가의 연도미상년작 행서(송풍각시 중에서)황산곡체에 대한 세부 설명은 다음과 같습니다: 원곡(原谷) 김기승(1909-2000)은 한국 현대 서예사의 대표적인 작가이다. 1946년 소전(素筌) 손재형(孫在馨) 문하에 들어가 본격적인 서예공부를 시작하였고, 《제1-4회 대한민국미술전람회》(1949, 1953-1955)까지 잇달아 서예부 특선을 차지하여 문교부장관상을 수상하였다. 1955년에는 대성서예원(大成書藝院)을 설립하였고, 1978년에는 원곡서예상(原谷書藝賞)을 제정하기도 하였다.김기승은 《제10회 대한민국미술전람회》(1961)의 취지문에서 \"한국적 향기와 한국인의 체취를 풍기는 작품을\n"
     ]
    }
   ],
   "source": [
    "# 검색 수행: 유사도 점수와 함께 반환\n",
    "docs_and_scores = retriever.vectorstore.similarity_search_with_score(query, k=5)\n",
    "\n",
    "# 0번 샘플만 출력\n",
    "if docs_and_scores:\n",
    "    doc, score = docs_and_scores[4]\n",
    "    print(\"4번 샘플:\")\n",
    "    print(f\"  파일명: {doc.metadata.get('source', 'N/A')}\")\n",
    "    print(f\"  유사도 점수: {score:.4f}\")\n",
    "    print(f\"  전체 내용: {doc.page_content}\")\n",
    "else:\n",
    "    print(\"검색된 문서가 없습니다.\")\n"
   ]
  },
  {
   "cell_type": "code",
   "execution_count": null,
   "id": "facbc2dc-f7ad-4c50-afc2-367eed871c83",
   "metadata": {},
   "outputs": [],
   "source": []
  }
 ],
 "metadata": {
  "kernelspec": {
   "display_name": "Python 3 (ipykernel)",
   "language": "python",
   "name": "python3"
  },
  "language_info": {
   "codemirror_mode": {
    "name": "ipython",
    "version": 3
   },
   "file_extension": ".py",
   "mimetype": "text/x-python",
   "name": "python",
   "nbconvert_exporter": "python",
   "pygments_lexer": "ipython3",
   "version": "3.12.3"
  }
 },
 "nbformat": 4,
 "nbformat_minor": 5
}
