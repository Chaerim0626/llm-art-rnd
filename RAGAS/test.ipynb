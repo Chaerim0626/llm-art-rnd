{
 "cells": [
  {
   "cell_type": "markdown",
   "id": "5ec35dab",
   "metadata": {},
   "source": [
    "## 합성 테스트 데이터셋 생성"
   ]
  },
  {
   "cell_type": "code",
   "execution_count": 32,
   "id": "4320ad61",
   "metadata": {},
   "outputs": [
    {
     "name": "stdout",
     "output_type": "stream",
     "text": [
      "LangChain Version: 0.2.17\n",
      "Ragas Version: 0.1.19\n"
     ]
    }
   ],
   "source": [
    "import langchain\n",
    "import ragas\n",
    "\n",
    "print(f\"LangChain Version: {langchain.__version__}\")\n",
    "print(f\"Ragas Version: {ragas.__version__}\")"
   ]
  },
  {
   "cell_type": "code",
   "execution_count": 33,
   "id": "b486d0ad",
   "metadata": {},
   "outputs": [
    {
     "data": {
      "text/plain": [
       "True"
      ]
     },
     "execution_count": 33,
     "metadata": {},
     "output_type": "execute_result"
    }
   ],
   "source": [
    "# API KEY를 환경변수로 관리하기 위한 설정 파일\n",
    "from dotenv import load_dotenv\n",
    "\n",
    "# API KEY 정보로드\n",
    "load_dotenv()"
   ]
  },
  {
   "cell_type": "code",
   "execution_count": 4,
   "id": "bf9a5dfa",
   "metadata": {},
   "outputs": [
    {
     "data": {
      "text/plain": [
       "101"
      ]
     },
     "execution_count": 4,
     "metadata": {},
     "output_type": "execute_result"
    }
   ],
   "source": [
    "from langchain_community.document_loaders import PDFPlumberLoader\n",
    "\n",
    "# 문서 로더 생성\n",
    "loader = PDFPlumberLoader(\"./data.pdf\")\n",
    "\n",
    "# 문서 로딩\n",
    "docs = loader.load()\n",
    "\n",
    "# 문서의 페이지수\n",
    "len(docs)"
   ]
  },
  {
   "cell_type": "code",
   "execution_count": 5,
   "id": "aa4c0732",
   "metadata": {},
   "outputs": [
    {
     "name": "stdout",
     "output_type": "stream",
     "text": [
      "101\n"
     ]
    }
   ],
   "source": [
    "print(len(docs))"
   ]
  },
  {
   "cell_type": "code",
   "execution_count": 6,
   "id": "8b39da8d",
   "metadata": {},
   "outputs": [],
   "source": [
    "# metadata 설정(filename 이 존재해야 함)\n",
    "for doc in docs:\n",
    "    doc.metadata[\"filename\"] = doc.metadata[\"source\"]"
   ]
  },
  {
   "cell_type": "code",
   "execution_count": 64,
   "id": "cdc2bc2b",
   "metadata": {},
   "outputs": [
    {
     "name": "stdout",
     "output_type": "stream",
     "text": [
      "🔄 진행률: 50.00% 완료\n",
      "🔄 진행률: 100.00% 완료\n",
      "📄 분리된 문서 수: 2\n"
     ]
    }
   ],
   "source": [
    "from langchain_community.document_loaders import Docx2txtLoader\n",
    "from langchain_core.documents import Document\n",
    "import time\n",
    "\n",
    "# Docx2txtLoader로 변경\n",
    "loader = Docx2txtLoader(\"../dataset2.docx\")\n",
    "docs = loader.load()\n",
    "\n",
    "# 작품명을 기준으로 문서 분리 함수\n",
    "def split_by_artwork_title(docs):\n",
    "    split_docs = []\n",
    "    total_docs = len(docs)\n",
    "\n",
    "    for idx, doc in enumerate(docs):\n",
    "        content = doc.page_content  # 수정: Document 객체의 내용을 가져옴\n",
    "        # 작품명을 기준으로 분리\n",
    "        artworks = content.split(\"\\n\\n작품명:\")\n",
    "        for art in artworks:\n",
    "            lines = art.strip().split(\"\\n\")\n",
    "            title = \"알 수 없음\"\n",
    "            if lines and lines[0].startswith(\"작품명:\"):\n",
    "                title = lines[0].replace(\"작품명:\", \"\").strip()\n",
    "            split_docs.append(Document(page_content=art.strip(), metadata={\"작품명\": title}))\n",
    "\n",
    "        # 진행률 출력\n",
    "        progress = ((idx + 1) / total_docs) * 100\n",
    "        print(f\"🔄 진행률: {progress:.2f}% 완료\")\n",
    "        time.sleep(0.1)  # 출력이 너무 빠르지 않도록 잠시 대기\n",
    "\n",
    "    return split_docs\n",
    "\n",
    "# 작품명을 기준으로 분리\n",
    "docs = split_by_artwork_title(docs)\n",
    "print(f\"📄 분리된 문서 수: {len(docs)}\")\n"
   ]
  },
  {
   "cell_type": "code",
   "execution_count": 7,
   "id": "fd86974f",
   "metadata": {},
   "outputs": [
    {
     "name": "stdout",
     "output_type": "stream",
     "text": [
      "<class 'langchain_core.documents.base.Document'>\n"
     ]
    }
   ],
   "source": [
    "print(type(docs[50]))\n"
   ]
  },
  {
   "cell_type": "code",
   "execution_count": 8,
   "id": "69a4bffd",
   "metadata": {},
   "outputs": [
    {
     "data": {
      "text/plain": [
       "{'source': './data.pdf',\n",
       " 'file_path': './data.pdf',\n",
       " 'page': 0,\n",
       " 'total_pages': 101,\n",
       " 'Producer': 'iLovePDF',\n",
       " 'ModDate': 'D:20250112103612Z',\n",
       " 'filename': './data.pdf'}"
      ]
     },
     "execution_count": 8,
     "metadata": {},
     "output_type": "execute_result"
    }
   ],
   "source": [
    "docs[0].metadata"
   ]
  },
  {
   "cell_type": "code",
   "execution_count": 17,
   "id": "832a5252",
   "metadata": {},
   "outputs": [],
   "source": [
    "\n",
    "from ragas.llms import LangchainLLMWrapper\n",
    "from ragas.embeddings import LangchainEmbeddingsWrapper\n",
    "from langchain_openai import ChatOpenAI, OpenAIEmbeddings\n",
    "from langchain.text_splitter import RecursiveCharacterTextSplitter\n",
    "\n",
    "# 데이터셋 생성기\n",
    "generator_llm = ChatOpenAI(model=\"gpt-4o-mini\")\n",
    "# 데이터셋 비평기\n",
    "critic_llm = ChatOpenAI(model=\"gpt-4o-mini\")\n",
    "# 문서 임베딩\n",
    "embeddings = OpenAIEmbeddings(model=\"text-embedding-3-small\")"
   ]
  },
  {
   "cell_type": "code",
   "execution_count": 18,
   "id": "e03a5781",
   "metadata": {},
   "outputs": [],
   "source": [
    "from ragas.testset.generator import TestsetGenerator\n",
    "from ragas.testset.evolutions import simple, reasoning, multi_context, conditional\n",
    "from ragas.llms import LangchainLLMWrapper\n",
    "from ragas.embeddings import LangchainEmbeddingsWrapper\n",
    "from ragas.testset.extractor import KeyphraseExtractor\n",
    "from ragas.testset.docstore import InMemoryDocumentStore\n",
    "\n",
    "from langchain_openai import ChatOpenAI, OpenAIEmbeddings\n",
    "from langchain.text_splitter import RecursiveCharacterTextSplitter\n",
    "\n",
    "# 텍스트 분할기를 설정합니다.\n",
    "splitter = RecursiveCharacterTextSplitter(chunk_size=1000, chunk_overlap=50)\n",
    "\n",
    "# LangChain의 ChatOpenAI 모델을 LangchainLLMWrapper로 감싸 Ragas와 호환되게 만듭니다.\n",
    "langchain_llm = LangchainLLMWrapper(ChatOpenAI(model=\"gpt-4o-mini\"))\n",
    "\n",
    "# 주요 구문 추출기를 초기화합니다. 위에서 정의한 LLM을 사용합니다.\n",
    "keyphrase_extractor = KeyphraseExtractor(llm=langchain_llm)\n",
    "\n",
    "# ragas_embeddings 생성\n",
    "ragas_embeddings = LangchainEmbeddingsWrapper(embeddings)\n",
    "\n",
    "# InMemoryDocumentStore를 초기화합니다.\n",
    "# 이는 문서를 메모리에 저장하고 관리하는 저장소입니다.\n",
    "docstore = InMemoryDocumentStore(\n",
    "    splitter=splitter,\n",
    "    embeddings=ragas_embeddings,\n",
    "    extractor=keyphrase_extractor,\n",
    ")"
   ]
  },
  {
   "cell_type": "code",
   "execution_count": 19,
   "id": "935595ba",
   "metadata": {},
   "outputs": [],
   "source": [
    "generator = TestsetGenerator.from_langchain(\n",
    "    generator_llm,\n",
    "    critic_llm,\n",
    "    ragas_embeddings,\n",
    "    docstore=docstore,\n",
    ")"
   ]
  },
  {
   "cell_type": "code",
   "execution_count": 20,
   "id": "7d62a6e9",
   "metadata": {},
   "outputs": [],
   "source": [
    "# 질문 유형별 분포 결정\n",
    "# simple: 간단한 질문, reasoning: 추론이 필요한 질문, multi_context: 여러 맥락을 고려해야 하는 질문, conditional: 조건부 질문\n",
    "distributions = {simple: 1}"
   ]
  },
  {
   "cell_type": "code",
   "execution_count": 21,
   "id": "bdd3cfbb",
   "metadata": {},
   "outputs": [
    {
     "name": "stderr",
     "output_type": "stream",
     "text": [
      "Generating:   0%|          | 0/1 [00:00<?, ?it/s]                 [ragas.testset.filters.DEBUG] context scoring: {'clarity': 1, 'depth': 2, 'structure': 1, 'relevance': 2, 'score': 1.5}\n",
      "[ragas.testset.evolutions.DEBUG] keyphrases in merged node: ['KIM Kyujin', 'Ancient Chinese engineers', '1913', '1922', 'Glory']\n",
      "[ragas.testset.evolutions.INFO] seed question generated: \"What significant events related to the year 1922 are mentioned in the context?\"\n",
      "[ragas.testset.filters.DEBUG] filtered question: {'feedback': \"The question asks about significant events related to the year 1922, but it refers to 'the context' without providing any specific details or information about what that context entails. This reliance on unspecified external information makes the question unclear and unanswerable for someone who does not have access to that context. To improve clarity and answerability, the question could either include a brief description of the context or specify the type of events being inquired about (e.g., political, cultural, scientific) to provide a clearer framework for the answer.\", 'verdict': 0}\n",
      "[ragas.testset.evolutions.INFO] rewritten question: \"What significant political, cultural, or scientific events related to the year 1922 are mentioned in the provided context?\"\n",
      "[ragas.testset.filters.DEBUG] filtered question: {'feedback': \"The question asks for significant political, cultural, or scientific events related to the year 1922, referencing 'the provided context' without including or describing this context within the query. This reliance on unspecified external information makes the question unclear and unanswerable for those who do not have access to the context. To improve clarity and answerability, the question could either include a brief summary of the relevant context or be rephrased to ask for general significant events of 1922 without depending on external references. For example, it could be rephrased as 'What were some significant political, cultural, or scientific events that occurred in 1922?'.\", 'verdict': 0}\n",
      "[ragas.testset.evolutions.INFO] retrying evolution: 1 times\n",
      "[ragas.testset.filters.DEBUG] context scoring: {'clarity': 1, 'depth': 2, 'structure': 1, 'relevance': 2, 'score': 1.5}\n",
      "[ragas.testset.evolutions.DEBUG] keyphrases in merged node: ['Figuration I', 'LEE Jongsang', 'Landscape', 'KIM Okjin', 'Artistic expression']\n",
      "[ragas.testset.evolutions.INFO] seed question generated: \"What is the significance of landscape in the context of the artwork by KIM Okjin?\"\n",
      "[ragas.testset.filters.DEBUG] filtered question: {'feedback': 'The question asks about the significance of landscape in the context of artwork by KIM Okjin. It is relatively clear in its intent, specifying both the subject (landscape) and the artist (KIM Okjin). However, it may still be somewhat vague as it does not specify which particular artwork or aspects of significance are being referred to (e.g., emotional, thematic, cultural). To improve clarity and answerability, the question could specify a particular piece of artwork or provide more context about what aspects of significance are of interest (e.g., how landscape contributes to the overall message or theme of the artwork).', 'verdict': 0}\n",
      "[ragas.testset.evolutions.INFO] rewritten question: \"What is the significance of landscape in KIM Okjin's artwork 'Landscape' from 1972?\"\n",
      "[ragas.testset.filters.DEBUG] filtered question: {'feedback': \"The question asks about the significance of landscape in KIM Okjin's artwork titled 'Landscape' from 1972. It is specific in its focus on a particular artwork and artist, making the intent clear. However, the question may still require some background knowledge about KIM Okjin and the context of the artwork to provide a comprehensive answer. To enhance clarity and answerability, the question could include a brief description of the artwork or its themes, or specify what aspects of significance are of interest (e.g., cultural, emotional, historical).\", 'verdict': 1}\n",
      "[ragas.testset.evolutions.DEBUG] answer generated: {'answer': \"The significance of landscape in KIM Okjin's artwork 'Landscape' from 1972 is not explicitly mentioned in the context provided.\", 'verdict': -1}\n",
      "Generating: 100%|██████████| 1/1 [00:21<00:00, 21.55s/it]\n"
     ]
    }
   ],
   "source": [
    "# 테스트셋 생성\n",
    "# docs: 문서 데이터, 10: 생성할 질문의 수, distributions: 질문 유형별 분포, with_debugging_logs: 디버깅 로그 출력 여부\n",
    "testset = generator.generate_with_langchain_docs(\n",
    "    documents=docs,\n",
    "    test_size=1,\n",
    "    distributions=distributions,\n",
    "    with_debugging_logs=True,\n",
    "    raise_exceptions=False,\n",
    ")"
   ]
  },
  {
   "cell_type": "code",
   "execution_count": 22,
   "id": "211b4d0c",
   "metadata": {},
   "outputs": [
    {
     "data": {
      "text/html": [
       "<div>\n",
       "<style scoped>\n",
       "    .dataframe tbody tr th:only-of-type {\n",
       "        vertical-align: middle;\n",
       "    }\n",
       "\n",
       "    .dataframe tbody tr th {\n",
       "        vertical-align: top;\n",
       "    }\n",
       "\n",
       "    .dataframe thead th {\n",
       "        text-align: right;\n",
       "    }\n",
       "</style>\n",
       "<table border=\"1\" class=\"dataframe\">\n",
       "  <thead>\n",
       "    <tr style=\"text-align: right;\">\n",
       "      <th></th>\n",
       "      <th>question</th>\n",
       "      <th>contexts</th>\n",
       "      <th>ground_truth</th>\n",
       "      <th>evolution_type</th>\n",
       "      <th>metadata</th>\n",
       "      <th>episode_done</th>\n",
       "    </tr>\n",
       "  </thead>\n",
       "  <tbody>\n",
       "    <tr>\n",
       "      <th>0</th>\n",
       "      <td>What is the significance of landscape in KIM O...</td>\n",
       "      <td>[• 작품명: 취상I / 取象I / Figuration I\\n• 작가: 이종상 / ...</td>\n",
       "      <td>The significance of landscape in KIM Okjin's a...</td>\n",
       "      <td>simple</td>\n",
       "      <td>[{'source': './data.pdf', 'file_path': './data...</td>\n",
       "      <td>True</td>\n",
       "    </tr>\n",
       "  </tbody>\n",
       "</table>\n",
       "</div>"
      ],
      "text/plain": [
       "                                            question  \\\n",
       "0  What is the significance of landscape in KIM O...   \n",
       "\n",
       "                                            contexts  \\\n",
       "0  [• 작품명: 취상I / 取象I / Figuration I\\n• 작가: 이종상 / ...   \n",
       "\n",
       "                                        ground_truth evolution_type  \\\n",
       "0  The significance of landscape in KIM Okjin's a...         simple   \n",
       "\n",
       "                                            metadata  episode_done  \n",
       "0  [{'source': './data.pdf', 'file_path': './data...          True  "
      ]
     },
     "execution_count": 22,
     "metadata": {},
     "output_type": "execute_result"
    }
   ],
   "source": [
    "# 생성된 테스트셋을 pandas DataFrame으로 변환\n",
    "test_df = testset.to_pandas()\n",
    "test_df"
   ]
  },
  {
   "cell_type": "code",
   "execution_count": 23,
   "id": "66e88cf9",
   "metadata": {},
   "outputs": [
    {
     "data": {
      "text/html": [
       "<div>\n",
       "<style scoped>\n",
       "    .dataframe tbody tr th:only-of-type {\n",
       "        vertical-align: middle;\n",
       "    }\n",
       "\n",
       "    .dataframe tbody tr th {\n",
       "        vertical-align: top;\n",
       "    }\n",
       "\n",
       "    .dataframe thead th {\n",
       "        text-align: right;\n",
       "    }\n",
       "</style>\n",
       "<table border=\"1\" class=\"dataframe\">\n",
       "  <thead>\n",
       "    <tr style=\"text-align: right;\">\n",
       "      <th></th>\n",
       "      <th>question</th>\n",
       "      <th>contexts</th>\n",
       "      <th>ground_truth</th>\n",
       "      <th>evolution_type</th>\n",
       "      <th>metadata</th>\n",
       "      <th>episode_done</th>\n",
       "    </tr>\n",
       "  </thead>\n",
       "  <tbody>\n",
       "    <tr>\n",
       "      <th>0</th>\n",
       "      <td>What is the significance of landscape in KIM O...</td>\n",
       "      <td>[• 작품명: 취상I / 取象I / Figuration I\\n• 작가: 이종상 / ...</td>\n",
       "      <td>The significance of landscape in KIM Okjin's a...</td>\n",
       "      <td>simple</td>\n",
       "      <td>[{'source': './data.pdf', 'file_path': './data...</td>\n",
       "      <td>True</td>\n",
       "    </tr>\n",
       "  </tbody>\n",
       "</table>\n",
       "</div>"
      ],
      "text/plain": [
       "                                            question  \\\n",
       "0  What is the significance of landscape in KIM O...   \n",
       "\n",
       "                                            contexts  \\\n",
       "0  [• 작품명: 취상I / 取象I / Figuration I\\n• 작가: 이종상 / ...   \n",
       "\n",
       "                                        ground_truth evolution_type  \\\n",
       "0  The significance of landscape in KIM Okjin's a...         simple   \n",
       "\n",
       "                                            metadata  episode_done  \n",
       "0  [{'source': './data.pdf', 'file_path': './data...          True  "
      ]
     },
     "execution_count": 23,
     "metadata": {},
     "output_type": "execute_result"
    }
   ],
   "source": [
    "# DataFrame의 상위 5개 행 출력\n",
    "test_df.head()"
   ]
  },
  {
   "cell_type": "code",
   "execution_count": 20,
   "id": "bf313954",
   "metadata": {},
   "outputs": [],
   "source": [
    "# DataFrame을 CSV 파일로 저장\n",
    "test_df.to_csv(\"./ragas_qa_0112.csv\", index=False)"
   ]
  },
  {
   "cell_type": "markdown",
   "id": "277c5042",
   "metadata": {},
   "source": [
    "## RAGAS를 활용한 평가"
   ]
  },
  {
   "cell_type": "code",
   "execution_count": 21,
   "id": "bcd93891-8d98-4878-b63d-f8e03687d824",
   "metadata": {},
   "outputs": [],
   "source": [
    "!pip install -qU faiss-cpu ragas"
   ]
  },
  {
   "cell_type": "code",
   "execution_count": 34,
   "id": "c414771e",
   "metadata": {},
   "outputs": [
    {
     "data": {
      "text/html": [
       "<div>\n",
       "<style scoped>\n",
       "    .dataframe tbody tr th:only-of-type {\n",
       "        vertical-align: middle;\n",
       "    }\n",
       "\n",
       "    .dataframe tbody tr th {\n",
       "        vertical-align: top;\n",
       "    }\n",
       "\n",
       "    .dataframe thead th {\n",
       "        text-align: right;\n",
       "    }\n",
       "</style>\n",
       "<table border=\"1\" class=\"dataframe\">\n",
       "  <thead>\n",
       "    <tr style=\"text-align: right;\">\n",
       "      <th></th>\n",
       "      <th>contexts</th>\n",
       "      <th>evolution_type</th>\n",
       "      <th>metadata</th>\n",
       "      <th>episode_done</th>\n",
       "      <th>question</th>\n",
       "      <th>ground_truth</th>\n",
       "    </tr>\n",
       "  </thead>\n",
       "  <tbody>\n",
       "    <tr>\n",
       "      <th>0</th>\n",
       "      <td>남관의 '세느강변'(1968)은 파리 체류기 동안 제작된 작품으로, 세느강변의 야경...</td>\n",
       "      <td>single_turn</td>\n",
       "      <td>{}</td>\n",
       "      <td>True</td>\n",
       "      <td>'세느강변' 작품에서 작가는 어떤 기법을 사용했나요?</td>\n",
       "      <td>남관은 청색의 농도 변화와 어두운 음영을 사용하여 서정적인 풍경을 표현했습니다.</td>\n",
       "    </tr>\n",
       "    <tr>\n",
       "      <th>1</th>\n",
       "      <td>윤영자의 '작품'(1976)은 청동으로 제작되었으며, 리드미컬하고 유기적인 형태를 ...</td>\n",
       "      <td>single_turn</td>\n",
       "      <td>{}</td>\n",
       "      <td>True</td>\n",
       "      <td>'작품'은 어떤 감정을 전달하나요?</td>\n",
       "      <td>윤영자의 '작품'은 리드미컬한 형태와 유기적 곡선을 통해 생명의 맥박과 따뜻한 정감...</td>\n",
       "    </tr>\n",
       "    <tr>\n",
       "      <th>2</th>\n",
       "      <td>최만린의 '일월 72-7'(1972)은 유기적인 형태를 통해 생명의 지속성과 우주의...</td>\n",
       "      <td>single_turn</td>\n",
       "      <td>{}</td>\n",
       "      <td>True</td>\n",
       "      <td>'일월 72-7'에서 표현된 생명의 이미지는 무엇인가요?</td>\n",
       "      <td>최만린의 '일월 72-7'은 유기적인 형태를 통해 생명의 지속성과 우주의 성장을 표...</td>\n",
       "    </tr>\n",
       "  </tbody>\n",
       "</table>\n",
       "</div>"
      ],
      "text/plain": [
       "                                            contexts evolution_type metadata  \\\n",
       "0  남관의 '세느강변'(1968)은 파리 체류기 동안 제작된 작품으로, 세느강변의 야경...    single_turn       {}   \n",
       "1  윤영자의 '작품'(1976)은 청동으로 제작되었으며, 리드미컬하고 유기적인 형태를 ...    single_turn       {}   \n",
       "2  최만린의 '일월 72-7'(1972)은 유기적인 형태를 통해 생명의 지속성과 우주의...    single_turn       {}   \n",
       "\n",
       "   episode_done                         question  \\\n",
       "0          True    '세느강변' 작품에서 작가는 어떤 기법을 사용했나요?   \n",
       "1          True              '작품'은 어떤 감정을 전달하나요?   \n",
       "2          True  '일월 72-7'에서 표현된 생명의 이미지는 무엇인가요?   \n",
       "\n",
       "                                        ground_truth  \n",
       "0       남관은 청색의 농도 변화와 어두운 음영을 사용하여 서정적인 풍경을 표현했습니다.  \n",
       "1  윤영자의 '작품'은 리드미컬한 형태와 유기적 곡선을 통해 생명의 맥박과 따뜻한 정감...  \n",
       "2  최만린의 '일월 72-7'은 유기적인 형태를 통해 생명의 지속성과 우주의 성장을 표...  "
      ]
     },
     "execution_count": 34,
     "metadata": {},
     "output_type": "execute_result"
    }
   ],
   "source": [
    "import pandas as pd\n",
    "\n",
    "df = pd.read_csv(\"tmp.csv\")\n",
    "df"
   ]
  },
  {
   "cell_type": "code",
   "execution_count": 48,
   "id": "7b6b1c81",
   "metadata": {},
   "outputs": [],
   "source": [
    "test_dataset = test_dataset.add_column(\"question\", [\"'세느강변' 작품에서 작가는 어떤 기법을 사용했나요?\", \"'작품'은 어떤 감정을 전달하나요?\", \"'일월 72-7'에서 표현된 생명의 이미지는 무엇인가요?\"])  # 예시 데이터\n"
   ]
  },
  {
   "cell_type": "code",
   "execution_count": 35,
   "id": "3df4ad89",
   "metadata": {},
   "outputs": [
    {
     "data": {
      "text/html": [
       "<div>\n",
       "<style scoped>\n",
       "    .dataframe tbody tr th:only-of-type {\n",
       "        vertical-align: middle;\n",
       "    }\n",
       "\n",
       "    .dataframe tbody tr th {\n",
       "        vertical-align: top;\n",
       "    }\n",
       "\n",
       "    .dataframe thead th {\n",
       "        text-align: right;\n",
       "    }\n",
       "</style>\n",
       "<table border=\"1\" class=\"dataframe\">\n",
       "  <thead>\n",
       "    <tr style=\"text-align: right;\">\n",
       "      <th></th>\n",
       "      <th>contexts</th>\n",
       "      <th>evolution_type</th>\n",
       "      <th>metadata</th>\n",
       "      <th>episode_done</th>\n",
       "    </tr>\n",
       "  </thead>\n",
       "  <tbody>\n",
       "    <tr>\n",
       "      <th>0</th>\n",
       "      <td>남관의 '세느강변'(1968)은 파리 체류기 동안 제작된 작품으로, 세느강변의 야경...</td>\n",
       "      <td>single_turn</td>\n",
       "      <td>{}</td>\n",
       "      <td>True</td>\n",
       "    </tr>\n",
       "    <tr>\n",
       "      <th>1</th>\n",
       "      <td>윤영자의 '작품'(1976)은 청동으로 제작되었으며, 리드미컬하고 유기적인 형태를 ...</td>\n",
       "      <td>single_turn</td>\n",
       "      <td>{}</td>\n",
       "      <td>True</td>\n",
       "    </tr>\n",
       "    <tr>\n",
       "      <th>2</th>\n",
       "      <td>최만린의 '일월 72-7'(1972)은 유기적인 형태를 통해 생명의 지속성과 우주의...</td>\n",
       "      <td>single_turn</td>\n",
       "      <td>{}</td>\n",
       "      <td>True</td>\n",
       "    </tr>\n",
       "  </tbody>\n",
       "</table>\n",
       "</div>"
      ],
      "text/plain": [
       "                                            contexts evolution_type metadata  \\\n",
       "0  남관의 '세느강변'(1968)은 파리 체류기 동안 제작된 작품으로, 세느강변의 야경...    single_turn       {}   \n",
       "1  윤영자의 '작품'(1976)은 청동으로 제작되었으며, 리드미컬하고 유기적인 형태를 ...    single_turn       {}   \n",
       "2  최만린의 '일월 72-7'(1972)은 유기적인 형태를 통해 생명의 지속성과 우주의...    single_turn       {}   \n",
       "\n",
       "   episode_done  \n",
       "0          True  \n",
       "1          True  \n",
       "2          True  "
      ]
     },
     "execution_count": 35,
     "metadata": {},
     "output_type": "execute_result"
    }
   ],
   "source": [
    "df.drop(columns=[\"question\", \"ground_truth\"], inplace=True)\n",
    "df.rename(\n",
    "    columns={\n",
    "        \"question_translated\": \"question\",\n",
    "        \"ground_truth_translated\": \"ground_truth\",\n",
    "    },\n",
    "    inplace=True,\n",
    ")\n",
    "df.head()"
   ]
  },
  {
   "cell_type": "code",
   "execution_count": 36,
   "id": "e2568d81",
   "metadata": {},
   "outputs": [
    {
     "data": {
      "text/plain": [
       "Dataset({\n",
       "    features: ['contexts', 'evolution_type', 'metadata', 'episode_done'],\n",
       "    num_rows: 3\n",
       "})"
      ]
     },
     "execution_count": 36,
     "metadata": {},
     "output_type": "execute_result"
    }
   ],
   "source": [
    "from datasets import Dataset\n",
    "\n",
    "test_dataset = Dataset.from_pandas(df)\n",
    "test_dataset"
   ]
  },
  {
   "cell_type": "code",
   "execution_count": 38,
   "id": "d85dec76",
   "metadata": {},
   "outputs": [
    {
     "name": "stderr",
     "output_type": "stream",
     "text": [
      "Map: 100%|██████████| 3/3 [00:00<00:00, 156.40 examples/s]\n"
     ]
    }
   ],
   "source": [
    "def convert_to_list(example):\n",
    "    # contexts가 문자열이면 리스트로 변환\n",
    "    if not isinstance(example[\"contexts\"], list):\n",
    "        example[\"contexts\"] = [example[\"contexts\"]]\n",
    "    return example\n",
    "\n",
    "# map 적용\n",
    "test_dataset = test_dataset.map(convert_to_list)\n"
   ]
  },
  {
   "cell_type": "code",
   "execution_count": 39,
   "id": "16a94a57",
   "metadata": {},
   "outputs": [
    {
     "data": {
      "text/plain": [
       "[\"윤영자의 '작품'(1976)은 청동으로 제작되었으며, 리드미컬하고 유기적인 형태를 통해 생명의 맥박과 따뜻한 정감을 전달한다.\"]"
      ]
     },
     "execution_count": 39,
     "metadata": {},
     "output_type": "execute_result"
    }
   ],
   "source": [
    "test_dataset[1][\"contexts\"]"
   ]
  },
  {
   "cell_type": "code",
   "execution_count": 103,
   "id": "28b8aa83",
   "metadata": {},
   "outputs": [],
   "source": [
    "from transformers import AutoModelForCausalLM, AutoTokenizer, BitsAndBytesConfig\n",
    "import torch\n",
    "\n",
    "quantization_config = BitsAndBytesConfig(\n",
    "    load_in_4bit=True,\n",
    "    bnb_4bit_quant_type=\"nf4\",\n",
    "    bnb_4bit_compute_dtype=\"float16\",\n",
    "    bnb_4bit_use_double_quant=True,\n",
    ")"
   ]
  },
  {
   "cell_type": "code",
   "execution_count": 104,
   "id": "72481d8b",
   "metadata": {},
   "outputs": [
    {
     "name": "stderr",
     "output_type": "stream",
     "text": [
      "Loading checkpoint shards: 100%|██████████| 7/7 [00:39<00:00,  5.62s/it]\n"
     ]
    }
   ],
   "source": [
    "import torch\n",
    "from langchain import HuggingFacePipeline\n",
    "from transformers import AutoTokenizer, AutoModelForCausalLM, BitsAndBytesConfig, pipeline\n",
    "\n",
    "# 모델과 토크나이저 로드 (CUDA 사용)\n",
    "model_id = \"LGAI-EXAONE/EXAONE-3.5-7.8B-Instruct\"\n",
    "tokenizer = AutoTokenizer.from_pretrained(model_id)\n",
    "model = AutoModelForCausalLM.from_pretrained(\n",
    "    model_id,\n",
    "    quantization_config=quantization_config,\n",
    "    device_map=\"cuda\",  # CUDA에서 자동 배치\n",
    "    trust_remote_code=True\n",
    ")\n"
   ]
  },
  {
   "cell_type": "code",
   "execution_count": 106,
   "id": "a215e129",
   "metadata": {},
   "outputs": [
    {
     "name": "stderr",
     "output_type": "stream",
     "text": [
      "Device set to use cuda\n"
     ]
    }
   ],
   "source": [
    "from transformers import pipeline\n",
    "\n",
    "# 파이프라인 생성\n",
    "pipe = pipeline(\n",
    "    \"text-generation\",\n",
    "    model=model,\n",
    "    tokenizer=tokenizer,\n",
    "    max_new_tokens=1024,  # 생성할 최대 토큰 수 증가\n",
    "    do_sample=True,        # 샘플링 활성화\n",
    "    temperature=0.1,      \n",
    "    top_k=50,             \n",
    "    repetition_penalty=1.05\n",
    ")\n",
    "# LangChain의 HuggingFacePipeline 사용\n",
    "llm = HuggingFacePipeline(pipeline=pipe)"
   ]
  },
  {
   "cell_type": "code",
   "execution_count": 40,
   "id": "2821f0f0",
   "metadata": {},
   "outputs": [],
   "source": [
    "from langchain.prompts import ChatPromptTemplate\n",
    "\n",
    "template = '''\n",
    "<|system|>\n",
    "You are a friendly chatbot specializing in artworks. \n",
    "Answer questions strictly based on the information provided in the document (context). \n",
    "If the requested information is not found in the document, respond with \"The document does not contain this information.\" \n",
    "Provide detailed and comprehensive answers, always include the artwork number, and ensure all answers are written in Korean. \n",
    "All answers should be formatted using beautiful Markdown syntax to make the response visually appealing and easy to read. Use headings, bullet points, and bold or italic text where appropriate to enrich the response.\n",
    "\n",
    "<|context|>\n",
    "{context}\n",
    "\n",
    "<|user|>\n",
    "Question: {question}\n",
    "\n",
    "<|assistant|>\n",
    "'''\n",
    "\n",
    "\n",
    "# 프롬프트 템플릿 생성\n",
    "prompt = ChatPromptTemplate.from_template(template)\n"
   ]
  },
  {
   "cell_type": "code",
   "execution_count": 41,
   "id": "8a30d012",
   "metadata": {},
   "outputs": [],
   "source": [
    "import re\n",
    "class MarkdownOutputParser:\n",
    "    \"\"\"Enhanced Markdown parser with additional formatting options.\"\"\"\n",
    "\n",
    "    def __call__(self, llm_output):\n",
    "        # <assistant> 이후의 텍스트만 추출\n",
    "        match = re.search(r\"<\\|assistant\\|>\\s*(.*)\", llm_output, re.DOTALL)\n",
    "        if match:\n",
    "            extracted_text = match.group(1).strip()\n",
    "            # 마크다운 코드 블록으로 출력 포맷\n",
    "            return f\"### \\n\\n{extracted_text}\\n\\n\"\n",
    "        else:\n",
    "            # <assistant> 태그가 없는 경우 원래 출력 반환\n",
    "            return f\"### \\n\\n{llm_output.strip()}\\n\\n\"\n"
   ]
  },
  {
   "cell_type": "code",
   "execution_count": 42,
   "id": "fd1b18ae",
   "metadata": {},
   "outputs": [
    {
     "name": "stderr",
     "output_type": "stream",
     "text": [
      "`embedding_function` is expected to be an Embeddings object, support for passing in a function will soon be removed.\n"
     ]
    },
    {
     "name": "stdout",
     "output_type": "stream",
     "text": [
      "FAISS 데이터베이스가 성공적으로 로드되었습니다!\n"
     ]
    }
   ],
   "source": [
    "from langchain_community.vectorstores import FAISS\n",
    "from sentence_transformers import SentenceTransformer\n",
    "embedding_model = SentenceTransformer(\"nlpai-lab/KURE-v1\")\n",
    "\n",
    "# 2. FAISS 데이터베이스 로드\n",
    "persist_directory = \"../faiss_artworks_0114\"\n",
    "\n",
    "try:\n",
    "    faiss_db = FAISS.load_local(\n",
    "        folder_path=persist_directory,\n",
    "        embeddings=embedding_model,\n",
    "        allow_dangerous_deserialization=True  # 신뢰할 수 있는 소스에서만 사용\n",
    "    )\n",
    "    \n",
    "    # embedding_function 수정\n",
    "    faiss_db.embedding_function = lambda text: (\n",
    "        embedding_model.encode(text) if isinstance(text, str) else embedding_model.encode(str(text))\n",
    "    )\n",
    "    \n",
    "    print(\"FAISS 데이터베이스가 성공적으로 로드되었습니다!\")\n",
    "except Exception as e:\n",
    "    print(f\"FAISS 데이터베이스 로드 중 오류 발생: {e}\")"
   ]
  },
  {
   "cell_type": "code",
   "execution_count": 43,
   "id": "1aec90cb",
   "metadata": {},
   "outputs": [],
   "source": [
    "retriever = faiss_db.as_retriever(\n",
    "    search_kwargs={\n",
    "        \"k\": 5,                # 검색 결과 개수\n",
    "        \"fetch_k\": 15,         # 더 많은 결과 가져오기\n",
    "        \"mmr\": True,           # MMR 활성화\n",
    "        \"mmr_beta\": 0.5        # 다양성과 관련성 간 균형\n",
    "    }\n",
    ")\n"
   ]
  },
  {
   "cell_type": "code",
   "execution_count": 44,
   "id": "885551d0",
   "metadata": {},
   "outputs": [],
   "source": [
    "from langchain_core.output_parsers import StrOutputParser\n",
    "from langchain_core.runnables import RunnablePassthrough, RunnableMap\n",
    "# 단계 8: 체인(Chain) 생성\n",
    "chain = (\n",
    "    RunnableMap({\n",
    "        \"context\": retriever,               # Retriever에서 반환된 값을 가져옴\n",
    "        \"question\": RunnablePassthrough()   # 질문은 그대로 전달\n",
    "    })\n",
    "    | (lambda x: {\n",
    "        \"context\": \"\\n\".join([doc.page_content for doc in x[\"context\"]]),\n",
    "        \"question\": x[\"question\"]\n",
    "    })  # context를 문자열로 변환\n",
    "    | prompt                               # Prompt Template에 전달\n",
    "    | llm                                  # LLM으로 응답 생성\n",
    "    | MarkdownOutputParser()                    # 응답을 문자열로 변환\n",
    ")"
   ]
  },
  {
   "cell_type": "code",
   "execution_count": 45,
   "id": "abf3f95d",
   "metadata": {},
   "outputs": [
    {
     "name": "stdout",
     "output_type": "stream",
     "text": [
      "### \n",
      "\n",
      "**낙양성동도이화 작품 번호:**  **1364**\n",
      "\n",
      "\n"
     ]
    }
   ],
   "source": [
    "response = chain.invoke({\"question\": \"낙양성동도이화작품번호는?\"})\n",
    "print(response)"
   ]
  },
  {
   "cell_type": "code",
   "execution_count": 47,
   "id": "494e01b3",
   "metadata": {},
   "outputs": [
    {
     "name": "stdout",
     "output_type": "stream",
     "text": [
      "['contexts', 'evolution_type', 'metadata', 'episode_done']\n"
     ]
    }
   ],
   "source": [
    "print(test_dataset.column_names)"
   ]
  },
  {
   "cell_type": "code",
   "execution_count": 49,
   "id": "95c4b028",
   "metadata": {},
   "outputs": [
    {
     "data": {
      "text/plain": [
       "[\"'세느강변' 작품에서 작가는 어떤 기법을 사용했나요?\",\n",
       " \"'작품'은 어떤 감정을 전달하나요?\",\n",
       " \"'일월 72-7'에서 표현된 생명의 이미지는 무엇인가요?\"]"
      ]
     },
     "execution_count": 49,
     "metadata": {},
     "output_type": "execute_result"
    }
   ],
   "source": [
    "batch_dataset = [question for question in test_dataset[\"question\"]]\n",
    "batch_dataset[:3]"
   ]
  },
  {
   "cell_type": "code",
   "execution_count": 17,
   "id": "cad6c49a",
   "metadata": {},
   "outputs": [],
   "source": [
    "import os\n",
    "\n",
    "# LangChain Tracing 비활성화\n",
    "os.environ[\"LANGCHAIN_TRACING_V2\"] = \"false\"\n",
    "os.environ[\"LANGCHAIN_ENDPOINT\"] = \"\"\n"
   ]
  },
  {
   "cell_type": "code",
   "execution_count": 52,
   "id": "45d21ee3",
   "metadata": {},
   "outputs": [
    {
     "data": {
      "text/plain": [
       "[\"### \\n\\n**'세느강변' (Artwork Number: 157)에서 남관 작가의 기법:**\\n\\n- **색채 처리 기법:**  \\n  남관 작가는 이 작품에서 **청색의 농도를 변화시키고 어둠에 변화를 주어** 화면 전체를 단색조로 표현합니다. 이러한 미묘한 색채 조절은 고도의 기술을 필요로 하며, 깊은 서정적 감정을 불러일으킵니다.\\n\\n- **추상화 기법:**  \\n  세느강의 야경 속 불빛과 그림자를 연상시키는 어두운 음영을 통해 **추상화된 풍경**을 구현합니다. 이는 서정적인 분위기를 더하며, 구체적인 묘사보다는 감성적인 표현에 초점을 맞춥니다.\\n\\n이러한 기법들은 남관 작가의 독특한 동양적 추상 화법을 잘 보여줍니다.\\n\\n\",\n",
       " \"### \\n\\n## '작품'의 감정적 특징\\n\\n제공된 문서에 나열된 각 작품은 다음과 같은 감정적 특징을 전달합니다:\\n\\n**1. 양수아의 <작품> (1962, 번호: 2660)**\\n* **분위기:** 침울하고 우울한 분위기\\n* **감정:** 전쟁 이후의 염세적이고 우울한 인생관을 반영하며, 내면의 고뇌나 불안을 표현합니다. 짙은 암갈색과 황토색의 대비, 그리고 흰색의 운동감은 작가의 심리적 갈등을 시각적으로 전달합니다.\\n\\n**2. 양광자의 <작품> (1984, 번호: 1991)**\\n* **분위기:** 심각함과 구원에 대한 갈망이 공존하는 분위기\\n* **감정:** 작품 속 인물의 변형된 모습과 색채의 강렬한 사용은 심각한 좌절감과 동시에 구원을 갈망하는 열망을 표현합니다. 작가의 이중 문화 경험이 반영되어 한국인도 서구인도 아닌 독특한 인간상을 보여줍니다.\\n\\n**3. 황규태의 <작품> (1989, 번호: 2956)**\\n* **분위기:** 비판적이고 묵시록적인 분위기\\n* **감정:** 현대 문명에 대한 비판적 시각을 전달하며, 형광물질이 풍기는 미래적이면서도 위협적인 분위기는 현대인의 삶에 대한 경고를 담고 있습니다.\\n\\n**4. 김홍자의 <작품> (1988, 번호: 2962)**\\n* **분위기:** 관객 참여형의 상호작용적 분위기\\n* **감정:** 작품을 통해 관람자 자신을 돌아보게 하여 자아 성찰의 기회를 제공합니다. 작품 속 거울은 관객의 존재와 반응을 작품의 핵심 요소로 만들어, 주체적인 참여를 요구합니다.\\n\\n**5. 오광섭의 <작품> (1986, 번호: 3224)**\\n* **분위기:** 초현실주의적이고 기계화된 분위기\\n* **감정:** 현대 사회의 기계화와 물질화에 대한 허무주의적 시각을 전달합니다. 기이한 형태와 기하학적 구조는 미래 사회의 냉혹함과 인간의 무력함을 상징적으로 표현합니다.\\n\\n\",\n",
       " '### \\n\\n**생명의 이미지 설명**  \\n**작품 번호:** 일월 72-7 (Artwork Number: 159)  \\n**작가:** 최만린 (Artist: CHOI Manlin)  \\n**표현 내용:**  \\n<일월 72-7>(1972)에서 최만린은 여러 번 굽는 과정을 통해 상승하고 있는 유기적인 형태들을 통해 생명의 성장 이미지를 표현합니다. 특히 작품은 성장의 지속성을 강조하기 위해 세밀하게 계획된 절제된 형태를 통해 비가시적인 생명의 원리를 가시화합니다. 이는 자연스럽게 성장하는 식물의 모습을 통해 생명의 역동적이고 지속적인 특성을 시각적으로 전달합니다. 이러한 표현 방식은 서구 생명주의 예술가들의 작업과는 달리, 더 절제되고 계산된 형태를 통해 생명의 성장과 발전을 묘사합니다.\\n\\n']"
      ]
     },
     "execution_count": 52,
     "metadata": {},
     "output_type": "execute_result"
    }
   ],
   "source": [
    "answer = chain.batch(batch_dataset)\n",
    "answer[:3]"
   ]
  },
  {
   "cell_type": "code",
   "execution_count": 53,
   "id": "363648e1",
   "metadata": {},
   "outputs": [],
   "source": [
    "# 'answer' 컬럼 덮어쓰기 또는 추가\n",
    "if \"answer\" in test_dataset.column_names:\n",
    "    test_dataset = test_dataset.remove_columns([\"answer\"]).add_column(\"answer\", answer)\n",
    "else:\n",
    "    test_dataset = test_dataset.add_column(\"answer\", answer)"
   ]
  },
  {
   "cell_type": "code",
   "execution_count": 59,
   "id": "dee69e22",
   "metadata": {},
   "outputs": [],
   "source": [
    "# 'answer' 컬럼을 'reference'로 복사\n",
    "test_dataset = test_dataset.add_column(\"reference\", test_dataset[\"answer\"])\n"
   ]
  },
  {
   "cell_type": "code",
   "execution_count": 54,
   "id": "c15b8f59",
   "metadata": {},
   "outputs": [
    {
     "data": {
      "text/plain": [
       "Dataset({\n",
       "    features: ['contexts', 'evolution_type', 'metadata', 'episode_done', 'question', 'answer'],\n",
       "    num_rows: 3\n",
       "})"
      ]
     },
     "execution_count": 54,
     "metadata": {},
     "output_type": "execute_result"
    }
   ],
   "source": [
    "test_dataset"
   ]
  },
  {
   "cell_type": "code",
   "execution_count": 60,
   "id": "d85a17cb",
   "metadata": {},
   "outputs": [
    {
     "name": "stderr",
     "output_type": "stream",
     "text": [
      "Evaluating: 100%|██████████| 12/12 [00:21<00:00,  1.83s/it]\n"
     ]
    },
    {
     "data": {
      "text/plain": [
       "{'context_precision': 1.0000, 'faithfulness': 0.4630, 'answer_relevancy': 0.0000, 'context_recall': 0.1667}"
      ]
     },
     "execution_count": 60,
     "metadata": {},
     "output_type": "execute_result"
    }
   ],
   "source": [
    "from ragas import evaluate\n",
    "from ragas.metrics import (\n",
    "    answer_relevancy,\n",
    "    faithfulness,\n",
    "    context_recall,\n",
    "    context_precision,\n",
    ")\n",
    "\n",
    "result = evaluate(\n",
    "    dataset=test_dataset,\n",
    "    metrics=[\n",
    "        context_precision,\n",
    "        faithfulness,\n",
    "        answer_relevancy,\n",
    "        context_recall,\n",
    "    ],\n",
    ")\n",
    "\n",
    "result"
   ]
  },
  {
   "cell_type": "code",
   "execution_count": 148,
   "id": "179fe40c",
   "metadata": {},
   "outputs": [
    {
     "data": {
      "text/html": [
       "<div>\n",
       "<style scoped>\n",
       "    .dataframe tbody tr th:only-of-type {\n",
       "        vertical-align: middle;\n",
       "    }\n",
       "\n",
       "    .dataframe tbody tr th {\n",
       "        vertical-align: top;\n",
       "    }\n",
       "\n",
       "    .dataframe thead th {\n",
       "        text-align: right;\n",
       "    }\n",
       "</style>\n",
       "<table border=\"1\" class=\"dataframe\">\n",
       "  <thead>\n",
       "    <tr style=\"text-align: right;\">\n",
       "      <th></th>\n",
       "      <th>user_input</th>\n",
       "      <th>retrieved_contexts</th>\n",
       "      <th>response</th>\n",
       "      <th>reference</th>\n",
       "      <th>context_precision</th>\n",
       "      <th>faithfulness</th>\n",
       "      <th>answer_relevancy</th>\n",
       "      <th>context_recall</th>\n",
       "    </tr>\n",
       "  </thead>\n",
       "  <tbody>\n",
       "    <tr>\n",
       "      <th>0</th>\n",
       "      <td>'산천'이라는 제목의 작품이 갖는 의미는 무엇인가요?</td>\n",
       "      <td>[• 작품 번호: 172\\n• 제작 연도: 1974\\n• 크기: 36.5×20×20...</td>\n",
       "      <td>### \\n\\n# '산천' 작품의 의미\\n\\n문서에 명시적으로 '산천'이라는 제목의...</td>\n",
       "      <td>'산천'이라는 제목의 작품이 갖는 의미는 문맥에서 드러나지 않습니다.</td>\n",
       "      <td>0.0</td>\n",
       "      <td>0.666667</td>\n",
       "      <td>0.000000</td>\n",
       "      <td>0.0</td>\n",
       "    </tr>\n",
       "    <tr>\n",
       "      <th>1</th>\n",
       "      <td>춘향전의 맥락에서 조용승이 갖는 의미는 무엇인가요?</td>\n",
       "      <td>[수상했다. 광복 후 대한민국미술전람회의 초대 작가 및 심사 위원을 역임하고,\\n서...</td>\n",
       "      <td>### \\n\\n## 조용승의 의미: 춘향전 맥락에서\\n\\n조용승은 **조선시대 전통...</td>\n",
       "      <td>조용승은 1937년 출간된 '춘향전'을 각색한 '춘향이야기'의 작가라는 점에서 춘향...</td>\n",
       "      <td>1.0</td>\n",
       "      <td>0.500000</td>\n",
       "      <td>0.833598</td>\n",
       "      <td>0.5</td>\n",
       "    </tr>\n",
       "    <tr>\n",
       "      <th>2</th>\n",
       "      <td>한국 근대 미술 운동은 20세기 문화 지형에 어떤 중요한 공헌을 했나요?</td>\n",
       "      <td>[작가라는 점에는 이견이 없다. 그의 작품세계는 1970년대 중반 이후부터 많은\\n...</td>\n",
       "      <td>### \\n\\n## 한국 근대 미술 운동의 20세기 문화 지형에 대한 공헌\\n\\n한...</td>\n",
       "      <td>주어진 질문에 대한 답변이 컨텍스트에 없습니다.</td>\n",
       "      <td>0.0</td>\n",
       "      <td>0.000000</td>\n",
       "      <td>0.887446</td>\n",
       "      <td>1.0</td>\n",
       "    </tr>\n",
       "    <tr>\n",
       "      <th>3</th>\n",
       "      <td>이순자 작가의 작품 '중첩 3번'의 의미는 무엇인가요?</td>\n",
       "      <td>[• 작품명: 해초 따는 여인 / 海草 따는 女人 / Woman Taking Sea...</td>\n",
       "      <td>### \\n\\n**작품 정보:**\\n- **제목:** 중첩 작품3  \\n- **작가...</td>\n",
       "      <td>주어진 질문에 대한 답변이 컨텍스트에 없습니다.</td>\n",
       "      <td>0.0</td>\n",
       "      <td>0.470588</td>\n",
       "      <td>0.916761</td>\n",
       "      <td>1.0</td>\n",
       "    </tr>\n",
       "    <tr>\n",
       "      <th>4</th>\n",
       "      <td>심형구 작가와 '포즈'라는 작품 사이에 문체적인 연관성이 있나요?</td>\n",
       "      <td>[수상했다. 광복 후 대한민국미술전람회의 초대 작가 및 심사 위원을 역임하고,\\n서...</td>\n",
       "      <td>### \\n\\n**문체적 연관성 분석**\\n\\n심형구 작가와 그의 작품 **\"&lt;포즈...</td>\n",
       "      <td>주어진 질문에 대한 답변이 컨텍스트에 없습니다.</td>\n",
       "      <td>0.0</td>\n",
       "      <td>0.764706</td>\n",
       "      <td>0.000000</td>\n",
       "      <td>1.0</td>\n",
       "    </tr>\n",
       "  </tbody>\n",
       "</table>\n",
       "</div>"
      ],
      "text/plain": [
       "                                 user_input  \\\n",
       "0             '산천'이라는 제목의 작품이 갖는 의미는 무엇인가요?   \n",
       "1              춘향전의 맥락에서 조용승이 갖는 의미는 무엇인가요?   \n",
       "2  한국 근대 미술 운동은 20세기 문화 지형에 어떤 중요한 공헌을 했나요?   \n",
       "3            이순자 작가의 작품 '중첩 3번'의 의미는 무엇인가요?   \n",
       "4      심형구 작가와 '포즈'라는 작품 사이에 문체적인 연관성이 있나요?   \n",
       "\n",
       "                                  retrieved_contexts  \\\n",
       "0  [• 작품 번호: 172\\n• 제작 연도: 1974\\n• 크기: 36.5×20×20...   \n",
       "1  [수상했다. 광복 후 대한민국미술전람회의 초대 작가 및 심사 위원을 역임하고,\\n서...   \n",
       "2  [작가라는 점에는 이견이 없다. 그의 작품세계는 1970년대 중반 이후부터 많은\\n...   \n",
       "3  [• 작품명: 해초 따는 여인 / 海草 따는 女人 / Woman Taking Sea...   \n",
       "4  [수상했다. 광복 후 대한민국미술전람회의 초대 작가 및 심사 위원을 역임하고,\\n서...   \n",
       "\n",
       "                                            response  \\\n",
       "0  ### \\n\\n# '산천' 작품의 의미\\n\\n문서에 명시적으로 '산천'이라는 제목의...   \n",
       "1  ### \\n\\n## 조용승의 의미: 춘향전 맥락에서\\n\\n조용승은 **조선시대 전통...   \n",
       "2  ### \\n\\n## 한국 근대 미술 운동의 20세기 문화 지형에 대한 공헌\\n\\n한...   \n",
       "3  ### \\n\\n**작품 정보:**\\n- **제목:** 중첩 작품3  \\n- **작가...   \n",
       "4  ### \\n\\n**문체적 연관성 분석**\\n\\n심형구 작가와 그의 작품 **\"<포즈...   \n",
       "\n",
       "                                           reference  context_precision  \\\n",
       "0             '산천'이라는 제목의 작품이 갖는 의미는 문맥에서 드러나지 않습니다.                0.0   \n",
       "1  조용승은 1937년 출간된 '춘향전'을 각색한 '춘향이야기'의 작가라는 점에서 춘향...                1.0   \n",
       "2                         주어진 질문에 대한 답변이 컨텍스트에 없습니다.                0.0   \n",
       "3                         주어진 질문에 대한 답변이 컨텍스트에 없습니다.                0.0   \n",
       "4                         주어진 질문에 대한 답변이 컨텍스트에 없습니다.                0.0   \n",
       "\n",
       "   faithfulness  answer_relevancy  context_recall  \n",
       "0      0.666667          0.000000             0.0  \n",
       "1      0.500000          0.833598             0.5  \n",
       "2      0.000000          0.887446             1.0  \n",
       "3      0.470588          0.916761             1.0  \n",
       "4      0.764706          0.000000             1.0  "
      ]
     },
     "execution_count": 148,
     "metadata": {},
     "output_type": "execute_result"
    }
   ],
   "source": [
    "result_df = result.to_pandas()\n",
    "result_df.head()"
   ]
  },
  {
   "cell_type": "code",
   "execution_count": 135,
   "id": "a0c54536",
   "metadata": {},
   "outputs": [],
   "source": [
    "result_df.to_csv(\"ragas_evaluation_0113.csv\", index=False)"
   ]
  },
  {
   "cell_type": "code",
   "execution_count": 149,
   "id": "03210a98",
   "metadata": {},
   "outputs": [
    {
     "data": {
      "text/html": [
       "<div>\n",
       "<style scoped>\n",
       "    .dataframe tbody tr th:only-of-type {\n",
       "        vertical-align: middle;\n",
       "    }\n",
       "\n",
       "    .dataframe tbody tr th {\n",
       "        vertical-align: top;\n",
       "    }\n",
       "\n",
       "    .dataframe thead th {\n",
       "        text-align: right;\n",
       "    }\n",
       "</style>\n",
       "<table border=\"1\" class=\"dataframe\">\n",
       "  <thead>\n",
       "    <tr style=\"text-align: right;\">\n",
       "      <th></th>\n",
       "      <th>context_precision</th>\n",
       "      <th>faithfulness</th>\n",
       "      <th>answer_relevancy</th>\n",
       "      <th>context_recall</th>\n",
       "    </tr>\n",
       "  </thead>\n",
       "  <tbody>\n",
       "    <tr>\n",
       "      <th>0</th>\n",
       "      <td>0.0</td>\n",
       "      <td>0.666667</td>\n",
       "      <td>0.000000</td>\n",
       "      <td>0.0</td>\n",
       "    </tr>\n",
       "    <tr>\n",
       "      <th>1</th>\n",
       "      <td>1.0</td>\n",
       "      <td>0.500000</td>\n",
       "      <td>0.833598</td>\n",
       "      <td>0.5</td>\n",
       "    </tr>\n",
       "    <tr>\n",
       "      <th>2</th>\n",
       "      <td>0.0</td>\n",
       "      <td>0.000000</td>\n",
       "      <td>0.887446</td>\n",
       "      <td>1.0</td>\n",
       "    </tr>\n",
       "    <tr>\n",
       "      <th>3</th>\n",
       "      <td>0.0</td>\n",
       "      <td>0.470588</td>\n",
       "      <td>0.916761</td>\n",
       "      <td>1.0</td>\n",
       "    </tr>\n",
       "    <tr>\n",
       "      <th>4</th>\n",
       "      <td>0.0</td>\n",
       "      <td>0.764706</td>\n",
       "      <td>0.000000</td>\n",
       "      <td>1.0</td>\n",
       "    </tr>\n",
       "    <tr>\n",
       "      <th>5</th>\n",
       "      <td>0.0</td>\n",
       "      <td>0.666667</td>\n",
       "      <td>0.898201</td>\n",
       "      <td>1.0</td>\n",
       "    </tr>\n",
       "    <tr>\n",
       "      <th>6</th>\n",
       "      <td>1.0</td>\n",
       "      <td>0.047619</td>\n",
       "      <td>0.919782</td>\n",
       "      <td>0.5</td>\n",
       "    </tr>\n",
       "    <tr>\n",
       "      <th>7</th>\n",
       "      <td>0.0</td>\n",
       "      <td>0.000000</td>\n",
       "      <td>0.000000</td>\n",
       "      <td>1.0</td>\n",
       "    </tr>\n",
       "    <tr>\n",
       "      <th>8</th>\n",
       "      <td>0.5</td>\n",
       "      <td>0.500000</td>\n",
       "      <td>0.000000</td>\n",
       "      <td>1.0</td>\n",
       "    </tr>\n",
       "  </tbody>\n",
       "</table>\n",
       "</div>"
      ],
      "text/plain": [
       "   context_precision  faithfulness  answer_relevancy  context_recall\n",
       "0                0.0      0.666667          0.000000             0.0\n",
       "1                1.0      0.500000          0.833598             0.5\n",
       "2                0.0      0.000000          0.887446             1.0\n",
       "3                0.0      0.470588          0.916761             1.0\n",
       "4                0.0      0.764706          0.000000             1.0\n",
       "5                0.0      0.666667          0.898201             1.0\n",
       "6                1.0      0.047619          0.919782             0.5\n",
       "7                0.0      0.000000          0.000000             1.0\n",
       "8                0.5      0.500000          0.000000             1.0"
      ]
     },
     "execution_count": 149,
     "metadata": {},
     "output_type": "execute_result"
    }
   ],
   "source": [
    "result_df.loc[:, \"context_precision\":\"context_recall\"]"
   ]
  },
  {
   "cell_type": "markdown",
   "id": "529a79c0",
   "metadata": {},
   "source": [
    "## DeepL을 사용해 데이터셋 번역"
   ]
  },
  {
   "cell_type": "code",
   "execution_count": 1,
   "id": "1546ad3d",
   "metadata": {},
   "outputs": [
    {
     "data": {
      "text/plain": [
       "True"
      ]
     },
     "execution_count": 1,
     "metadata": {},
     "output_type": "execute_result"
    }
   ],
   "source": [
    "from dotenv import load_dotenv\n",
    "\n",
    "load_dotenv()"
   ]
  },
  {
   "cell_type": "code",
   "execution_count": 37,
   "id": "00b7a37a",
   "metadata": {},
   "outputs": [
    {
     "data": {
      "text/html": [
       "<div>\n",
       "<style scoped>\n",
       "    .dataframe tbody tr th:only-of-type {\n",
       "        vertical-align: middle;\n",
       "    }\n",
       "\n",
       "    .dataframe tbody tr th {\n",
       "        vertical-align: top;\n",
       "    }\n",
       "\n",
       "    .dataframe thead th {\n",
       "        text-align: right;\n",
       "    }\n",
       "</style>\n",
       "<table border=\"1\" class=\"dataframe\">\n",
       "  <thead>\n",
       "    <tr style=\"text-align: right;\">\n",
       "      <th></th>\n",
       "      <th>question</th>\n",
       "      <th>contexts</th>\n",
       "      <th>ground_truth</th>\n",
       "      <th>evolution_type</th>\n",
       "      <th>metadata</th>\n",
       "      <th>episode_done</th>\n",
       "    </tr>\n",
       "  </thead>\n",
       "  <tbody>\n",
       "    <tr>\n",
       "      <th>0</th>\n",
       "      <td>What specific movements or styles emerged in v...</td>\n",
       "      <td>['• 작가: 김규진 / KIM Kyujin\\n• 작품 번호: 279\\n• 제작 연...</td>\n",
       "      <td>The answer to given question is not present in...</td>\n",
       "      <td>simple</td>\n",
       "      <td>[{'source': './data.pdf', 'file_path': './data...</td>\n",
       "      <td>True</td>\n",
       "    </tr>\n",
       "    <tr>\n",
       "      <th>1</th>\n",
       "      <td>What significant art exhibition took place in ...</td>\n",
       "      <td>[\"• 작품명: 취상I / 取象I / Figuration I\\n• 작가: 이종상 /...</td>\n",
       "      <td>The significant art exhibition that took place...</td>\n",
       "      <td>simple</td>\n",
       "      <td>[{'source': './data.pdf', 'file_path': './data...</td>\n",
       "      <td>True</td>\n",
       "    </tr>\n",
       "    <tr>\n",
       "      <th>2</th>\n",
       "      <td>What is the significance of the song 'Graceful...</td>\n",
       "      <td>['• 작품명: 향가일취 / 鄕家逸趣 / A Scene of Native Villa...</td>\n",
       "      <td>The answer to given question is not present in...</td>\n",
       "      <td>simple</td>\n",
       "      <td>[{'source': './data.pdf', 'file_path': './data...</td>\n",
       "      <td>True</td>\n",
       "    </tr>\n",
       "    <tr>\n",
       "      <th>3</th>\n",
       "      <td>What is the significance of Korean traditional...</td>\n",
       "      <td>['• 작품 번호: 186\\n• 제작 연도: 1937\\n• 크기: 71×51\\n• ...</td>\n",
       "      <td>The answer to given question is not present in...</td>\n",
       "      <td>simple</td>\n",
       "      <td>[{'source': './data.pdf', 'file_path': './data...</td>\n",
       "      <td>True</td>\n",
       "    </tr>\n",
       "    <tr>\n",
       "      <th>4</th>\n",
       "      <td>What themes link 'Spring Dream' to modern lit?</td>\n",
       "      <td>['산수화 기법인 미점준(米點皴)을 사용했으며, 원근법을 사용하여 대상 간에\\n거리...</td>\n",
       "      <td>The answer to given question is not present in...</td>\n",
       "      <td>reasoning</td>\n",
       "      <td>[{'source': './data.pdf', 'file_path': './data...</td>\n",
       "      <td>True</td>\n",
       "    </tr>\n",
       "  </tbody>\n",
       "</table>\n",
       "</div>"
      ],
      "text/plain": [
       "                                            question  \\\n",
       "0  What specific movements or styles emerged in v...   \n",
       "1  What significant art exhibition took place in ...   \n",
       "2  What is the significance of the song 'Graceful...   \n",
       "3  What is the significance of Korean traditional...   \n",
       "4     What themes link 'Spring Dream' to modern lit?   \n",
       "\n",
       "                                            contexts  \\\n",
       "0  ['• 작가: 김규진 / KIM Kyujin\\n• 작품 번호: 279\\n• 제작 연...   \n",
       "1  [\"• 작품명: 취상I / 取象I / Figuration I\\n• 작가: 이종상 /...   \n",
       "2  ['• 작품명: 향가일취 / 鄕家逸趣 / A Scene of Native Villa...   \n",
       "3  ['• 작품 번호: 186\\n• 제작 연도: 1937\\n• 크기: 71×51\\n• ...   \n",
       "4  ['산수화 기법인 미점준(米點皴)을 사용했으며, 원근법을 사용하여 대상 간에\\n거리...   \n",
       "\n",
       "                                        ground_truth evolution_type  \\\n",
       "0  The answer to given question is not present in...         simple   \n",
       "1  The significant art exhibition that took place...         simple   \n",
       "2  The answer to given question is not present in...         simple   \n",
       "3  The answer to given question is not present in...         simple   \n",
       "4  The answer to given question is not present in...      reasoning   \n",
       "\n",
       "                                            metadata  episode_done  \n",
       "0  [{'source': './data.pdf', 'file_path': './data...          True  \n",
       "1  [{'source': './data.pdf', 'file_path': './data...          True  \n",
       "2  [{'source': './data.pdf', 'file_path': './data...          True  \n",
       "3  [{'source': './data.pdf', 'file_path': './data...          True  \n",
       "4  [{'source': './data.pdf', 'file_path': './data...          True  "
      ]
     },
     "execution_count": 37,
     "metadata": {},
     "output_type": "execute_result"
    }
   ],
   "source": [
    "import pandas as pd\n",
    "\n",
    "df = pd.read_csv(\"./ragas_qa_0113.csv\")\n",
    "df.head()"
   ]
  },
  {
   "cell_type": "code",
   "execution_count": 38,
   "id": "8dcb101f",
   "metadata": {},
   "outputs": [
    {
     "name": "stdout",
     "output_type": "stream",
     "text": [
      "안녕하세요, 만나서 반가워요\n"
     ]
    }
   ],
   "source": [
    "import os\n",
    "from langchain_teddynote.translate import Translator\n",
    "\n",
    "# api키 설정\n",
    "deepl_api_key = os.getenv(\"DEEPL_API_KEY\")\n",
    "\n",
    "# 객체 생성\n",
    "translator = Translator(deepl_api_key, \"EN\", \"KO\")\n",
    "\n",
    "# 번역 실행\n",
    "translated_text = translator(\"hello, nice to meet you\")\n",
    "print(translated_text)"
   ]
  },
  {
   "cell_type": "code",
   "execution_count": 39,
   "id": "0560ff84",
   "metadata": {},
   "outputs": [
    {
     "name": "stderr",
     "output_type": "stream",
     "text": [
      "번역 진행 중: 100%|██████████| 9/9 [00:07<00:00,  1.27it/s]\n"
     ]
    }
   ],
   "source": [
    "from tqdm import tqdm\n",
    "\n",
    "# 번역\n",
    "for i, row in tqdm(df.iterrows(), total=len(df), desc=\"번역 진행 중\"):\n",
    "    df.loc[i, \"question_translated\"] = translator(row[\"question\"])\n",
    "    df.loc[i, \"ground_truth_translated\"] = translator(row[\"ground_truth\"])"
   ]
  },
  {
   "cell_type": "code",
   "execution_count": 40,
   "id": "6b934ada",
   "metadata": {},
   "outputs": [
    {
     "data": {
      "text/html": [
       "<div>\n",
       "<style scoped>\n",
       "    .dataframe tbody tr th:only-of-type {\n",
       "        vertical-align: middle;\n",
       "    }\n",
       "\n",
       "    .dataframe tbody tr th {\n",
       "        vertical-align: top;\n",
       "    }\n",
       "\n",
       "    .dataframe thead th {\n",
       "        text-align: right;\n",
       "    }\n",
       "</style>\n",
       "<table border=\"1\" class=\"dataframe\">\n",
       "  <thead>\n",
       "    <tr style=\"text-align: right;\">\n",
       "      <th></th>\n",
       "      <th>question</th>\n",
       "      <th>contexts</th>\n",
       "      <th>ground_truth</th>\n",
       "      <th>evolution_type</th>\n",
       "      <th>metadata</th>\n",
       "      <th>episode_done</th>\n",
       "      <th>question_translated</th>\n",
       "      <th>ground_truth_translated</th>\n",
       "    </tr>\n",
       "  </thead>\n",
       "  <tbody>\n",
       "    <tr>\n",
       "      <th>0</th>\n",
       "      <td>What specific movements or styles emerged in v...</td>\n",
       "      <td>['• 작가: 김규진 / KIM Kyujin\\n• 작품 번호: 279\\n• 제작 연...</td>\n",
       "      <td>The answer to given question is not present in...</td>\n",
       "      <td>simple</td>\n",
       "      <td>[{'source': './data.pdf', 'file_path': './data...</td>\n",
       "      <td>True</td>\n",
       "      <td>1950년대와 1960년대에 시각 예술에 어떤 특정한 사조나 스타일이 등장했으며, ...</td>\n",
       "      <td>주어진 질문에 대한 답변이 컨텍스트에 없습니다.</td>\n",
       "    </tr>\n",
       "    <tr>\n",
       "      <th>1</th>\n",
       "      <td>What significant art exhibition took place in ...</td>\n",
       "      <td>[\"• 작품명: 취상I / 取象I / Figuration I\\n• 작가: 이종상 /...</td>\n",
       "      <td>The significant art exhibition that took place...</td>\n",
       "      <td>simple</td>\n",
       "      <td>[{'source': './data.pdf', 'file_path': './data...</td>\n",
       "      <td>True</td>\n",
       "      <td>1976년에 어떤 중요한 미술 전시회가 열렸나요?</td>\n",
       "      <td>1976년에 열린 이 중요한 미술 전시회의 제목은 '형상을 제안하다'(그림 I)입니다.</td>\n",
       "    </tr>\n",
       "    <tr>\n",
       "      <th>2</th>\n",
       "      <td>What is the significance of the song 'Graceful...</td>\n",
       "      <td>['• 작품명: 향가일취 / 鄕家逸趣 / A Scene of Native Villa...</td>\n",
       "      <td>The answer to given question is not present in...</td>\n",
       "      <td>simple</td>\n",
       "      <td>[{'source': './data.pdf', 'file_path': './data...</td>\n",
       "      <td>True</td>\n",
       "      <td>'우아한 세상'이라는 곡이 발매와 테마의 맥락에서 어떤 의미가 있나요?</td>\n",
       "      <td>주어진 질문에 대한 답변이 컨텍스트에 없습니다.</td>\n",
       "    </tr>\n",
       "    <tr>\n",
       "      <th>3</th>\n",
       "      <td>What is the significance of Korean traditional...</td>\n",
       "      <td>['• 작품 번호: 186\\n• 제작 연도: 1937\\n• 크기: 71×51\\n• ...</td>\n",
       "      <td>The answer to given question is not present in...</td>\n",
       "      <td>simple</td>\n",
       "      <td>[{'source': './data.pdf', 'file_path': './data...</td>\n",
       "      <td>True</td>\n",
       "      <td>한국 전통 공연이 문화 표현에서 갖는 의미는 무엇인가요?</td>\n",
       "      <td>주어진 질문에 대한 답변이 컨텍스트에 없습니다.</td>\n",
       "    </tr>\n",
       "    <tr>\n",
       "      <th>4</th>\n",
       "      <td>What themes link 'Spring Dream' to modern lit?</td>\n",
       "      <td>['산수화 기법인 미점준(米點皴)을 사용했으며, 원근법을 사용하여 대상 간에\\n거리...</td>\n",
       "      <td>The answer to given question is not present in...</td>\n",
       "      <td>reasoning</td>\n",
       "      <td>[{'source': './data.pdf', 'file_path': './data...</td>\n",
       "      <td>True</td>\n",
       "      <td>'봄의 꿈'과 현대 조명을 연결하는 테마는 무엇인가요?</td>\n",
       "      <td>주어진 질문에 대한 답변이 컨텍스트에 없습니다.</td>\n",
       "    </tr>\n",
       "  </tbody>\n",
       "</table>\n",
       "</div>"
      ],
      "text/plain": [
       "                                            question  \\\n",
       "0  What specific movements or styles emerged in v...   \n",
       "1  What significant art exhibition took place in ...   \n",
       "2  What is the significance of the song 'Graceful...   \n",
       "3  What is the significance of Korean traditional...   \n",
       "4     What themes link 'Spring Dream' to modern lit?   \n",
       "\n",
       "                                            contexts  \\\n",
       "0  ['• 작가: 김규진 / KIM Kyujin\\n• 작품 번호: 279\\n• 제작 연...   \n",
       "1  [\"• 작품명: 취상I / 取象I / Figuration I\\n• 작가: 이종상 /...   \n",
       "2  ['• 작품명: 향가일취 / 鄕家逸趣 / A Scene of Native Villa...   \n",
       "3  ['• 작품 번호: 186\\n• 제작 연도: 1937\\n• 크기: 71×51\\n• ...   \n",
       "4  ['산수화 기법인 미점준(米點皴)을 사용했으며, 원근법을 사용하여 대상 간에\\n거리...   \n",
       "\n",
       "                                        ground_truth evolution_type  \\\n",
       "0  The answer to given question is not present in...         simple   \n",
       "1  The significant art exhibition that took place...         simple   \n",
       "2  The answer to given question is not present in...         simple   \n",
       "3  The answer to given question is not present in...         simple   \n",
       "4  The answer to given question is not present in...      reasoning   \n",
       "\n",
       "                                            metadata  episode_done  \\\n",
       "0  [{'source': './data.pdf', 'file_path': './data...          True   \n",
       "1  [{'source': './data.pdf', 'file_path': './data...          True   \n",
       "2  [{'source': './data.pdf', 'file_path': './data...          True   \n",
       "3  [{'source': './data.pdf', 'file_path': './data...          True   \n",
       "4  [{'source': './data.pdf', 'file_path': './data...          True   \n",
       "\n",
       "                                 question_translated  \\\n",
       "0  1950년대와 1960년대에 시각 예술에 어떤 특정한 사조나 스타일이 등장했으며, ...   \n",
       "1                        1976년에 어떤 중요한 미술 전시회가 열렸나요?   \n",
       "2            '우아한 세상'이라는 곡이 발매와 테마의 맥락에서 어떤 의미가 있나요?   \n",
       "3                    한국 전통 공연이 문화 표현에서 갖는 의미는 무엇인가요?   \n",
       "4                     '봄의 꿈'과 현대 조명을 연결하는 테마는 무엇인가요?   \n",
       "\n",
       "                            ground_truth_translated  \n",
       "0                        주어진 질문에 대한 답변이 컨텍스트에 없습니다.  \n",
       "1  1976년에 열린 이 중요한 미술 전시회의 제목은 '형상을 제안하다'(그림 I)입니다.  \n",
       "2                        주어진 질문에 대한 답변이 컨텍스트에 없습니다.  \n",
       "3                        주어진 질문에 대한 답변이 컨텍스트에 없습니다.  \n",
       "4                        주어진 질문에 대한 답변이 컨텍스트에 없습니다.  "
      ]
     },
     "execution_count": 40,
     "metadata": {},
     "output_type": "execute_result"
    }
   ],
   "source": [
    "df.head()"
   ]
  },
  {
   "cell_type": "code",
   "execution_count": 41,
   "id": "edc3a464",
   "metadata": {},
   "outputs": [
    {
     "data": {
      "text/html": [
       "<div>\n",
       "<style scoped>\n",
       "    .dataframe tbody tr th:only-of-type {\n",
       "        vertical-align: middle;\n",
       "    }\n",
       "\n",
       "    .dataframe tbody tr th {\n",
       "        vertical-align: top;\n",
       "    }\n",
       "\n",
       "    .dataframe thead th {\n",
       "        text-align: right;\n",
       "    }\n",
       "</style>\n",
       "<table border=\"1\" class=\"dataframe\">\n",
       "  <thead>\n",
       "    <tr style=\"text-align: right;\">\n",
       "      <th></th>\n",
       "      <th>question</th>\n",
       "      <th>ground_truth</th>\n",
       "    </tr>\n",
       "  </thead>\n",
       "  <tbody>\n",
       "    <tr>\n",
       "      <th>0</th>\n",
       "      <td>What specific movements or styles emerged in v...</td>\n",
       "      <td>The answer to given question is not present in...</td>\n",
       "    </tr>\n",
       "    <tr>\n",
       "      <th>1</th>\n",
       "      <td>What significant art exhibition took place in ...</td>\n",
       "      <td>The significant art exhibition that took place...</td>\n",
       "    </tr>\n",
       "    <tr>\n",
       "      <th>2</th>\n",
       "      <td>What is the significance of the song 'Graceful...</td>\n",
       "      <td>The answer to given question is not present in...</td>\n",
       "    </tr>\n",
       "    <tr>\n",
       "      <th>3</th>\n",
       "      <td>What is the significance of Korean traditional...</td>\n",
       "      <td>The answer to given question is not present in...</td>\n",
       "    </tr>\n",
       "    <tr>\n",
       "      <th>4</th>\n",
       "      <td>What themes link 'Spring Dream' to modern lit?</td>\n",
       "      <td>The answer to given question is not present in...</td>\n",
       "    </tr>\n",
       "  </tbody>\n",
       "</table>\n",
       "</div>"
      ],
      "text/plain": [
       "                                            question  \\\n",
       "0  What specific movements or styles emerged in v...   \n",
       "1  What significant art exhibition took place in ...   \n",
       "2  What is the significance of the song 'Graceful...   \n",
       "3  What is the significance of Korean traditional...   \n",
       "4     What themes link 'Spring Dream' to modern lit?   \n",
       "\n",
       "                                        ground_truth  \n",
       "0  The answer to given question is not present in...  \n",
       "1  The significant art exhibition that took place...  \n",
       "2  The answer to given question is not present in...  \n",
       "3  The answer to given question is not present in...  \n",
       "4  The answer to given question is not present in...  "
      ]
     },
     "execution_count": 41,
     "metadata": {},
     "output_type": "execute_result"
    }
   ],
   "source": [
    "# question, ground_truth 열을 확인합니다.\n",
    "df.loc[:, [\"question\", \"ground_truth\"]].head()"
   ]
  },
  {
   "cell_type": "code",
   "execution_count": 42,
   "id": "11b0600b",
   "metadata": {},
   "outputs": [
    {
     "data": {
      "text/html": [
       "<div>\n",
       "<style scoped>\n",
       "    .dataframe tbody tr th:only-of-type {\n",
       "        vertical-align: middle;\n",
       "    }\n",
       "\n",
       "    .dataframe tbody tr th {\n",
       "        vertical-align: top;\n",
       "    }\n",
       "\n",
       "    .dataframe thead th {\n",
       "        text-align: right;\n",
       "    }\n",
       "</style>\n",
       "<table border=\"1\" class=\"dataframe\">\n",
       "  <thead>\n",
       "    <tr style=\"text-align: right;\">\n",
       "      <th></th>\n",
       "      <th>question_translated</th>\n",
       "      <th>ground_truth_translated</th>\n",
       "    </tr>\n",
       "  </thead>\n",
       "  <tbody>\n",
       "    <tr>\n",
       "      <th>0</th>\n",
       "      <td>1950년대와 1960년대에 시각 예술에 어떤 특정한 사조나 스타일이 등장했으며, ...</td>\n",
       "      <td>주어진 질문에 대한 답변이 컨텍스트에 없습니다.</td>\n",
       "    </tr>\n",
       "    <tr>\n",
       "      <th>1</th>\n",
       "      <td>1976년에 어떤 중요한 미술 전시회가 열렸나요?</td>\n",
       "      <td>1976년에 열린 이 중요한 미술 전시회의 제목은 '형상을 제안하다'(그림 I)입니다.</td>\n",
       "    </tr>\n",
       "    <tr>\n",
       "      <th>2</th>\n",
       "      <td>'우아한 세상'이라는 곡이 발매와 테마의 맥락에서 어떤 의미가 있나요?</td>\n",
       "      <td>주어진 질문에 대한 답변이 컨텍스트에 없습니다.</td>\n",
       "    </tr>\n",
       "    <tr>\n",
       "      <th>3</th>\n",
       "      <td>한국 전통 공연이 문화 표현에서 갖는 의미는 무엇인가요?</td>\n",
       "      <td>주어진 질문에 대한 답변이 컨텍스트에 없습니다.</td>\n",
       "    </tr>\n",
       "    <tr>\n",
       "      <th>4</th>\n",
       "      <td>'봄의 꿈'과 현대 조명을 연결하는 테마는 무엇인가요?</td>\n",
       "      <td>주어진 질문에 대한 답변이 컨텍스트에 없습니다.</td>\n",
       "    </tr>\n",
       "  </tbody>\n",
       "</table>\n",
       "</div>"
      ],
      "text/plain": [
       "                                 question_translated  \\\n",
       "0  1950년대와 1960년대에 시각 예술에 어떤 특정한 사조나 스타일이 등장했으며, ...   \n",
       "1                        1976년에 어떤 중요한 미술 전시회가 열렸나요?   \n",
       "2            '우아한 세상'이라는 곡이 발매와 테마의 맥락에서 어떤 의미가 있나요?   \n",
       "3                    한국 전통 공연이 문화 표현에서 갖는 의미는 무엇인가요?   \n",
       "4                     '봄의 꿈'과 현대 조명을 연결하는 테마는 무엇인가요?   \n",
       "\n",
       "                            ground_truth_translated  \n",
       "0                        주어진 질문에 대한 답변이 컨텍스트에 없습니다.  \n",
       "1  1976년에 열린 이 중요한 미술 전시회의 제목은 '형상을 제안하다'(그림 I)입니다.  \n",
       "2                        주어진 질문에 대한 답변이 컨텍스트에 없습니다.  \n",
       "3                        주어진 질문에 대한 답변이 컨텍스트에 없습니다.  \n",
       "4                        주어진 질문에 대한 답변이 컨텍스트에 없습니다.  "
      ]
     },
     "execution_count": 42,
     "metadata": {},
     "output_type": "execute_result"
    }
   ],
   "source": [
    "# question_translated, ground_truth_translated 열을 확인합니다.\n",
    "df.loc[:, [\"question_translated\", \"ground_truth_translated\"]].head()"
   ]
  },
  {
   "cell_type": "code",
   "execution_count": 8,
   "id": "b0dab192",
   "metadata": {},
   "outputs": [
    {
     "data": {
      "text/html": [
       "<div>\n",
       "<style scoped>\n",
       "    .dataframe tbody tr th:only-of-type {\n",
       "        vertical-align: middle;\n",
       "    }\n",
       "\n",
       "    .dataframe tbody tr th {\n",
       "        vertical-align: top;\n",
       "    }\n",
       "\n",
       "    .dataframe thead th {\n",
       "        text-align: right;\n",
       "    }\n",
       "</style>\n",
       "<table border=\"1\" class=\"dataframe\">\n",
       "  <thead>\n",
       "    <tr style=\"text-align: right;\">\n",
       "      <th></th>\n",
       "      <th>contexts</th>\n",
       "      <th>evolution_type</th>\n",
       "      <th>metadata</th>\n",
       "      <th>episode_done</th>\n",
       "      <th>question</th>\n",
       "      <th>ground_truth</th>\n",
       "    </tr>\n",
       "  </thead>\n",
       "  <tbody>\n",
       "    <tr>\n",
       "      <th>0</th>\n",
       "      <td>['• 작가: 김규진 / KIM Kyujin\\n• 작품 번호: 279\\n• 제작 연...</td>\n",
       "      <td>simple</td>\n",
       "      <td>[{'source': './data.pdf', 'file_path': './data...</td>\n",
       "      <td>True</td>\n",
       "      <td>1950년대와 1960년대에 시각 예술에 어떤 특정한 사조나 스타일이 등장했으며, ...</td>\n",
       "      <td>주어진 질문에 대한 답변이 컨텍스트에 없습니다.</td>\n",
       "    </tr>\n",
       "    <tr>\n",
       "      <th>1</th>\n",
       "      <td>[\"• 작품명: 취상I / 取象I / Figuration I\\n• 작가: 이종상 /...</td>\n",
       "      <td>simple</td>\n",
       "      <td>[{'source': './data.pdf', 'file_path': './data...</td>\n",
       "      <td>True</td>\n",
       "      <td>1976년에 어떤 중요한 미술 전시회가 열렸나요?</td>\n",
       "      <td>1976년에 열린 이 중요한 미술 전시회의 제목은 '형상을 제안하다'(그림 I)입니다.</td>\n",
       "    </tr>\n",
       "    <tr>\n",
       "      <th>2</th>\n",
       "      <td>['• 작품명: 향가일취 / 鄕家逸趣 / A Scene of Native Villa...</td>\n",
       "      <td>simple</td>\n",
       "      <td>[{'source': './data.pdf', 'file_path': './data...</td>\n",
       "      <td>True</td>\n",
       "      <td>'우아한 세상'이라는 곡이 발매와 테마의 맥락에서 어떤 의미가 있나요?</td>\n",
       "      <td>주어진 질문에 대한 답변이 컨텍스트에 없습니다.</td>\n",
       "    </tr>\n",
       "    <tr>\n",
       "      <th>3</th>\n",
       "      <td>['• 작품 번호: 186\\n• 제작 연도: 1937\\n• 크기: 71×51\\n• ...</td>\n",
       "      <td>simple</td>\n",
       "      <td>[{'source': './data.pdf', 'file_path': './data...</td>\n",
       "      <td>True</td>\n",
       "      <td>한국 전통 공연이 문화 표현에서 갖는 의미는 무엇인가요?</td>\n",
       "      <td>주어진 질문에 대한 답변이 컨텍스트에 없습니다.</td>\n",
       "    </tr>\n",
       "    <tr>\n",
       "      <th>4</th>\n",
       "      <td>['산수화 기법인 미점준(米點皴)을 사용했으며, 원근법을 사용하여 대상 간에\\n거리...</td>\n",
       "      <td>reasoning</td>\n",
       "      <td>[{'source': './data.pdf', 'file_path': './data...</td>\n",
       "      <td>True</td>\n",
       "      <td>'봄의 꿈'과 현대 조명을 연결하는 테마는 무엇인가요?</td>\n",
       "      <td>주어진 질문에 대한 답변이 컨텍스트에 없습니다.</td>\n",
       "    </tr>\n",
       "  </tbody>\n",
       "</table>\n",
       "</div>"
      ],
      "text/plain": [
       "                                            contexts evolution_type  \\\n",
       "0  ['• 작가: 김규진 / KIM Kyujin\\n• 작품 번호: 279\\n• 제작 연...         simple   \n",
       "1  [\"• 작품명: 취상I / 取象I / Figuration I\\n• 작가: 이종상 /...         simple   \n",
       "2  ['• 작품명: 향가일취 / 鄕家逸趣 / A Scene of Native Villa...         simple   \n",
       "3  ['• 작품 번호: 186\\n• 제작 연도: 1937\\n• 크기: 71×51\\n• ...         simple   \n",
       "4  ['산수화 기법인 미점준(米點皴)을 사용했으며, 원근법을 사용하여 대상 간에\\n거리...      reasoning   \n",
       "\n",
       "                                            metadata  episode_done  \\\n",
       "0  [{'source': './data.pdf', 'file_path': './data...          True   \n",
       "1  [{'source': './data.pdf', 'file_path': './data...          True   \n",
       "2  [{'source': './data.pdf', 'file_path': './data...          True   \n",
       "3  [{'source': './data.pdf', 'file_path': './data...          True   \n",
       "4  [{'source': './data.pdf', 'file_path': './data...          True   \n",
       "\n",
       "                                            question  \\\n",
       "0  1950년대와 1960년대에 시각 예술에 어떤 특정한 사조나 스타일이 등장했으며, ...   \n",
       "1                        1976년에 어떤 중요한 미술 전시회가 열렸나요?   \n",
       "2            '우아한 세상'이라는 곡이 발매와 테마의 맥락에서 어떤 의미가 있나요?   \n",
       "3                    한국 전통 공연이 문화 표현에서 갖는 의미는 무엇인가요?   \n",
       "4                     '봄의 꿈'과 현대 조명을 연결하는 테마는 무엇인가요?   \n",
       "\n",
       "                                       ground_truth  \n",
       "0                        주어진 질문에 대한 답변이 컨텍스트에 없습니다.  \n",
       "1  1976년에 열린 이 중요한 미술 전시회의 제목은 '형상을 제안하다'(그림 I)입니다.  \n",
       "2                        주어진 질문에 대한 답변이 컨텍스트에 없습니다.  \n",
       "3                        주어진 질문에 대한 답변이 컨텍스트에 없습니다.  \n",
       "4                        주어진 질문에 대한 답변이 컨텍스트에 없습니다.  "
      ]
     },
     "execution_count": 8,
     "metadata": {},
     "output_type": "execute_result"
    }
   ],
   "source": [
    "# question, ground_truth 열을 삭제하고 question_translated, ground_truth_translated 열의 이름을 변경합니다.\n",
    "df.drop(columns=[\"question\", \"ground_truth\"], inplace=True)\n",
    "df.rename(\n",
    "    columns={\n",
    "        \"question_translated\": \"question\",\n",
    "        \"ground_truth_translated\": \"ground_truth\",\n",
    "    },\n",
    "    inplace=True,\n",
    ")\n",
    "df.head()"
   ]
  },
  {
   "cell_type": "code",
   "execution_count": 43,
   "id": "b011aeb5",
   "metadata": {},
   "outputs": [],
   "source": [
    "# 번역한 데이터셋을 저장합니다.\n",
    "df.to_csv(\"./ragas_art_translate_0113.csv\", index=False)"
   ]
  },
  {
   "cell_type": "markdown",
   "id": "57ba5fc5",
   "metadata": {},
   "source": [
    "## HuggingFace에 Dataset 업로드"
   ]
  },
  {
   "cell_type": "code",
   "execution_count": 11,
   "id": "918ea1e6",
   "metadata": {},
   "outputs": [
    {
     "name": "stderr",
     "output_type": "stream",
     "text": [
      "/home/chae/faiss_env/lib/python3.10/site-packages/tqdm/auto.py:21: TqdmWarning: IProgress not found. Please update jupyter and ipywidgets. See https://ipywidgets.readthedocs.io/en/stable/user_install.html\n",
      "  from .autonotebook import tqdm as notebook_tqdm\n"
     ]
    },
    {
     "name": "stdout",
     "output_type": "stream",
     "text": [
      "Dataset({\n",
      "    features: ['contexts', 'evolution_type', 'metadata', 'episode_done', 'question', 'ground_truth'],\n",
      "    num_rows: 9\n",
      "})\n"
     ]
    }
   ],
   "source": [
    "from datasets import Dataset\n",
    "\n",
    "# pandas DataFrame을 Hugging Face Dataset으로 변환\n",
    "dataset = Dataset.from_pandas(df)\n",
    "\n",
    "# 데이터셋 확인\n",
    "print(dataset)"
   ]
  },
  {
   "cell_type": "code",
   "execution_count": 12,
   "id": "b59033d4",
   "metadata": {},
   "outputs": [
    {
     "name": "stderr",
     "output_type": "stream",
     "text": [
      "Creating parquet from Arrow format: 100%|██████████| 1/1 [00:00<00:00, 194.15ba/s]\n",
      "Uploading the dataset shards: 100%|██████████| 1/1 [00:01<00:00,  1.61s/it]\n"
     ]
    },
    {
     "data": {
      "text/plain": [
       "CommitInfo(commit_url='https://huggingface.co/datasets/chaeeee/ragas-test-dataset-0113/commit/b385cf5414f11d3234616cc9fa9b13b98be0b00e', commit_message='Upload dataset', commit_description='', oid='b385cf5414f11d3234616cc9fa9b13b98be0b00e', pr_url=None, repo_url=RepoUrl('https://huggingface.co/datasets/chaeeee/ragas-test-dataset-0113', endpoint='https://huggingface.co', repo_type='dataset', repo_id='chaeeee/ragas-test-dataset-0113'), pr_revision=None, pr_num=None)"
      ]
     },
     "execution_count": 12,
     "metadata": {},
     "output_type": "execute_result"
    }
   ],
   "source": [
    "from datasets import Dataset\n",
    "import os\n",
    "\n",
    "# pandas DataFrame을 Hugging Face Dataset으로 변환\n",
    "dataset = Dataset.from_pandas(df)\n",
    "\n",
    "# 데이터셋 이름 설정 (원하는 이름으로 변경하세요)\n",
    "dataset_name = \"charagas-test-dataseteeee/\"\n",
    "\n",
    "# 데이터셋 업로드\n",
    "dataset.push_to_hub(\n",
    "    dataset_name,\n",
    "    private=True,  # private=False로 설정하면 공개 데이터셋이 됩니다.\n",
    "    split=\"korean_v1\",  # 데이터셋 split 이름 입력\n",
    "    token=os.getenv(\"HUGGINGFACEHUB_API_TOKEN\"),\n",
    ")"
   ]
  },
  {
   "cell_type": "markdown",
   "id": "079b47d8",
   "metadata": {},
   "source": [
    "## 대용량 pdf 200페이지씩 분할"
   ]
  },
  {
   "cell_type": "code",
   "execution_count": 91,
   "id": "cfc8cb1b",
   "metadata": {},
   "outputs": [
    {
     "name": "stdout",
     "output_type": "stream",
     "text": [
      "Requirement already satisfied: pypdf in /home/chae/faiss_env/lib/python3.10/site-packages (5.1.0)\n",
      "Requirement already satisfied: typing_extensions>=4.0 in /home/chae/faiss_env/lib/python3.10/site-packages (from pypdf) (4.12.2)\n",
      "Note: you may need to restart the kernel to use updated packages.\n"
     ]
    }
   ],
   "source": [
    "from pypdf import PdfReader, PdfWriter\n",
    "\n",
    "def split_pdf(file_path, pages_per_split=200):\n",
    "    # PDF 파일 열기\n",
    "    reader = PdfReader(file_path)\n",
    "    total_pages = len(reader.pages)\n",
    "\n",
    "    # 몇 개의 파일로 나눌지 계산\n",
    "    for i in range(0, total_pages, pages_per_split):\n",
    "        writer = PdfWriter()\n",
    "        split_start = i\n",
    "        split_end = min(i + pages_per_split, total_pages)\n",
    "\n",
    "        # 지정된 페이지 범위를 새로운 PDF에 추가\n",
    "        for page_num in range(split_start, split_end):\n",
    "            writer.add_page(reader.pages[page_num])\n",
    "\n",
    "        # 결과 파일 저장\n",
    "        output_filename = f\"{file_path[:-4]}_part_{i//pages_per_split + 1}.pdf\"\n",
    "        with open(output_filename, \"wb\") as output_file:\n",
    "            writer.write(output_file)\n",
    "        \n",
    "        print(f\"{output_filename} 저장 완료! ({split_start + 1} ~ {split_end} 페이지)\")\n",
    "\n",
    "# PDF 파일 경로와 분할 페이지 수 입력\n",
    "split_pdf(\"example.pdf\", 200)\n"
   ]
  },
  {
   "cell_type": "markdown",
   "id": "cea87692",
   "metadata": {},
   "source": [
    "## 수제 Data로 테스트"
   ]
  },
  {
   "cell_type": "code",
   "execution_count": 24,
   "id": "5508c1a8",
   "metadata": {},
   "outputs": [],
   "source": [
    "from langchain_community.vectorstores import FAISS\n",
    "from sentence_transformers import SentenceTransformer\n",
    "embedding_model = SentenceTransformer(\"nlpai-lab/KURE-v1\")"
   ]
  },
  {
   "cell_type": "code",
   "execution_count": 30,
   "id": "e7ebb9e8",
   "metadata": {},
   "outputs": [],
   "source": [
    "from datasets import Dataset\n",
    "\n",
    "# 데이터셋 생성\n",
    "dataset = Dataset.from_list([\n",
    "    {\n",
    "        \"question\": \"남관의 '세느강변' 작품의 특징은 무엇인가요?\",\n",
    "        \"context\": \"남관의 '세느강변'(1968)은 파리의 세느강을 소재로 한 서정적인 추상화입니다.\",\n",
    "        \"answer\": \"'세느강변'은 청색의 농도와 어두운 음영으로 서정미가 감도는 추상화된 풍경을 보여줍니다.\",\n",
    "        \"retrieved_contexts\": [\n",
    "            \"남관의 '세느강변'(1968)은 파리의 세느강을 소재로 한 서정적인 추상화입니다.\"\n",
    "        ],\n",
    "        \"reference\": \"'세느강변'은 청색의 농도를 변화시키고 어둠에 변화를 주며 단색조로 보이게 한 서정적인 추상화입니다.\"\n",
    "    },\n",
    "    {\n",
    "        \"question\": \"윤영자의 1976년 작품 '작품'은 어떤 조각인가요?\",\n",
    "        \"context\": \"윤영자의 '작품'(1976)은 청동으로 제작되었으며, 리드미컬한 형태를 통해 생명의 율동을 표현했습니다.\",\n",
    "        \"answer\": \"'작품'은 리드미컬한 형태와 유기적인 형태로 생명의 율동과 따뜻한 정감을 표현한 조각입니다.\",\n",
    "        \"retrieved_contexts\": [\n",
    "            \"윤영자의 '작품'(1976)은 청동으로 제작되었으며, 리드미컬한 형태를 통해 생명의 율동을 표현했습니다.\"\n",
    "        ],\n",
    "        \"reference\": \"'작품'(1976)은 청동으로 제작되었으며, 생명의 맥박과 율동, 따뜻한 정감을 표현한 조각입니다.\"\n",
    "    },\n",
    "    {\n",
    "        \"question\": \"최만린의 '일월 72-7' 작품은 어떤 의미를 담고 있나요?\",\n",
    "        \"context\": \"최만린의 '일월 72-7'(1972)은 유기적인 형태가 반복적으로 상승하는 조형으로, 생명의 지속성과 성장의 이미지를 표현한 작품입니다.\",\n",
    "        \"answer\": \"'일월 72-7'은 생명의 지속성과 성장을 유기적인 형태로 표현한 작품입니다.\",\n",
    "        \"retrieved_contexts\": [\n",
    "            \"최만린의 '일월 72-7'(1972)은 유기적인 형태가 반복적으로 상승하는 조형으로, 생명의 지속성과 성장의 이미지를 표현한 작품입니다.\"\n",
    "        ],\n",
    "        \"reference\": \"'일월 72-7'은 유기적인 형태를 통해 생명의 성장과 지속성을 시각화한 작품입니다.\"\n",
    "    }\n",
    "])\n"
   ]
  },
  {
   "cell_type": "code",
   "execution_count": 26,
   "id": "71076e04",
   "metadata": {},
   "outputs": [],
   "source": [
    "from transformers import AutoModelForCausalLM, AutoTokenizer, BitsAndBytesConfig\n",
    "import torch\n",
    "\n",
    "quantization_config = BitsAndBytesConfig(\n",
    "    load_in_4bit=True,\n",
    "    bnb_4bit_quant_type=\"nf4\",\n",
    "    bnb_4bit_compute_dtype=\"float16\",\n",
    "    bnb_4bit_use_double_quant=True,\n",
    ")\n",
    "\n"
   ]
  },
  {
   "cell_type": "code",
   "execution_count": 27,
   "id": "d37382f2",
   "metadata": {},
   "outputs": [
    {
     "name": "stderr",
     "output_type": "stream",
     "text": [
      "Loading checkpoint shards: 100%|██████████| 7/7 [00:24<00:00,  3.57s/it]\n"
     ]
    }
   ],
   "source": [
    "import torch\n",
    "from langchain import HuggingFacePipeline\n",
    "from transformers import AutoTokenizer, AutoModelForCausalLM, BitsAndBytesConfig, pipeline\n",
    "\n",
    "# 모델과 토크나이저 로드 (CUDA 사용)\n",
    "model_id = \"LGAI-EXAONE/EXAONE-3.5-7.8B-Instruct\"\n",
    "tokenizer = AutoTokenizer.from_pretrained(model_id)\n",
    "model = AutoModelForCausalLM.from_pretrained(\n",
    "    model_id,\n",
    "    quantization_config=quantization_config,\n",
    "    device_map=\"cuda\",  # CUDA에서 자동 배치\n",
    "    trust_remote_code=True\n",
    ")\n"
   ]
  },
  {
   "cell_type": "code",
   "execution_count": 28,
   "id": "a6d91b82",
   "metadata": {},
   "outputs": [
    {
     "name": "stderr",
     "output_type": "stream",
     "text": [
      "Device set to use cuda\n",
      "/tmp/ipykernel_22807/1315975019.py:15: LangChainDeprecationWarning: The class `HuggingFacePipeline` was deprecated in LangChain 0.0.37 and will be removed in 1.0. An updated version of the class exists in the langchain-huggingface package and should be used instead. To use it run `pip install -U langchain-huggingface` and import as `from langchain_huggingface import HuggingFacePipeline`.\n",
      "  llm = HuggingFacePipeline(pipeline=pipe)\n"
     ]
    }
   ],
   "source": [
    "from transformers import pipeline\n",
    "\n",
    "# 파이프라인 생성\n",
    "pipe = pipeline(\n",
    "    \"text-generation\",\n",
    "    model=model,\n",
    "    tokenizer=tokenizer,\n",
    "    max_new_tokens=1024,  # 생성할 최대 토큰 수 증가\n",
    "    do_sample=True,        # 샘플링 활성화\n",
    "    temperature=0.1,      \n",
    "    top_k=50,             \n",
    "    repetition_penalty=1.05\n",
    ")\n",
    "# LangChain의 HuggingFacePipeline 사용\n",
    "llm = HuggingFacePipeline(pipeline=pipe)"
   ]
  },
  {
   "cell_type": "code",
   "execution_count": 57,
   "id": "47d5c52a",
   "metadata": {},
   "outputs": [
    {
     "name": "stderr",
     "output_type": "stream",
     "text": [
      "Evaluating:   0%|          | 0/12 [00:15<?, ?it/s]\n"
     ]
    },
    {
     "ename": "KeyboardInterrupt",
     "evalue": "",
     "output_type": "error",
     "traceback": [
      "\u001b[0;31m---------------------------------------------------------------------------\u001b[0m",
      "\u001b[0;31mKeyboardInterrupt\u001b[0m                         Traceback (most recent call last)",
      "Cell \u001b[0;32mIn[57], line 10\u001b[0m\n\u001b[1;32m      2\u001b[0m \u001b[38;5;28;01mfrom\u001b[39;00m \u001b[38;5;21;01mragas\u001b[39;00m\u001b[38;5;21;01m.\u001b[39;00m\u001b[38;5;21;01mmetrics\u001b[39;00m \u001b[38;5;28;01mimport\u001b[39;00m (\n\u001b[1;32m      3\u001b[0m     answer_relevancy,\n\u001b[1;32m      4\u001b[0m     faithfulness,\n\u001b[1;32m      5\u001b[0m     context_recall,\n\u001b[1;32m      6\u001b[0m     context_precision\n\u001b[1;32m      7\u001b[0m )\n\u001b[1;32m      9\u001b[0m \u001b[38;5;66;03m# 평가 실행\u001b[39;00m\n\u001b[0;32m---> 10\u001b[0m result \u001b[38;5;241m=\u001b[39m \u001b[43mevaluate\u001b[49m\u001b[43m(\u001b[49m\n\u001b[1;32m     11\u001b[0m \u001b[43m    \u001b[49m\u001b[43mdataset\u001b[49m\u001b[38;5;241;43m=\u001b[39;49m\u001b[43mdataset\u001b[49m\u001b[43m,\u001b[49m\n\u001b[1;32m     12\u001b[0m \u001b[43m    \u001b[49m\u001b[43mllm\u001b[49m\u001b[38;5;241;43m=\u001b[39;49m\u001b[43mllm\u001b[49m\u001b[43m,\u001b[49m\u001b[43m  \u001b[49m\u001b[38;5;66;43;03m# 기존에 정의한 LLM 평가 모델\u001b[39;49;00m\n\u001b[1;32m     13\u001b[0m \u001b[43m    \u001b[49m\u001b[43membeddings\u001b[49m\u001b[38;5;241;43m=\u001b[39;49m\u001b[43membedding_model\u001b[49m\u001b[43m,\u001b[49m\u001b[43m  \u001b[49m\u001b[38;5;66;43;03m# 기존에 정의한 임베딩 모델\u001b[39;49;00m\n\u001b[1;32m     14\u001b[0m \u001b[43m    \u001b[49m\u001b[43mmetrics\u001b[49m\u001b[38;5;241;43m=\u001b[39;49m\u001b[43m[\u001b[49m\n\u001b[1;32m     15\u001b[0m \u001b[43m        \u001b[49m\u001b[43mcontext_precision\u001b[49m\u001b[43m,\u001b[49m\n\u001b[1;32m     16\u001b[0m \u001b[43m        \u001b[49m\u001b[43mfaithfulness\u001b[49m\u001b[43m,\u001b[49m\n\u001b[1;32m     17\u001b[0m \u001b[43m        \u001b[49m\u001b[43manswer_relevancy\u001b[49m\u001b[43m,\u001b[49m\n\u001b[1;32m     18\u001b[0m \u001b[43m        \u001b[49m\u001b[43mcontext_recall\u001b[49m\n\u001b[1;32m     19\u001b[0m \u001b[43m    \u001b[49m\u001b[43m]\u001b[49m\u001b[43m,\u001b[49m\n\u001b[1;32m     20\u001b[0m \u001b[43m)\u001b[49m\n\u001b[1;32m     22\u001b[0m \u001b[38;5;28mprint\u001b[39m(result)\n",
      "File \u001b[0;32m~/faiss_env/lib/python3.10/site-packages/ragas/_analytics.py:129\u001b[0m, in \u001b[0;36mtrack_was_completed.<locals>.wrapper\u001b[0;34m(*args, **kwargs)\u001b[0m\n\u001b[1;32m    126\u001b[0m \u001b[38;5;129m@wraps\u001b[39m(func)\n\u001b[1;32m    127\u001b[0m \u001b[38;5;28;01mdef\u001b[39;00m \u001b[38;5;21mwrapper\u001b[39m(\u001b[38;5;241m*\u001b[39margs: P\u001b[38;5;241m.\u001b[39margs, \u001b[38;5;241m*\u001b[39m\u001b[38;5;241m*\u001b[39mkwargs: P\u001b[38;5;241m.\u001b[39mkwargs) \u001b[38;5;241m-\u001b[39m\u001b[38;5;241m>\u001b[39m t\u001b[38;5;241m.\u001b[39mAny:\n\u001b[1;32m    128\u001b[0m     track(IsCompleteEvent(event_type\u001b[38;5;241m=\u001b[39mfunc\u001b[38;5;241m.\u001b[39m\u001b[38;5;18m__name__\u001b[39m, is_completed\u001b[38;5;241m=\u001b[39m\u001b[38;5;28;01mFalse\u001b[39;00m))\n\u001b[0;32m--> 129\u001b[0m     result \u001b[38;5;241m=\u001b[39m \u001b[43mfunc\u001b[49m\u001b[43m(\u001b[49m\u001b[38;5;241;43m*\u001b[39;49m\u001b[43margs\u001b[49m\u001b[43m,\u001b[49m\u001b[43m \u001b[49m\u001b[38;5;241;43m*\u001b[39;49m\u001b[38;5;241;43m*\u001b[39;49m\u001b[43mkwargs\u001b[49m\u001b[43m)\u001b[49m\n\u001b[1;32m    130\u001b[0m     track(IsCompleteEvent(event_type\u001b[38;5;241m=\u001b[39mfunc\u001b[38;5;241m.\u001b[39m\u001b[38;5;18m__name__\u001b[39m, is_completed\u001b[38;5;241m=\u001b[39m\u001b[38;5;28;01mTrue\u001b[39;00m))\n\u001b[1;32m    132\u001b[0m     \u001b[38;5;28;01mreturn\u001b[39;00m result\n",
      "File \u001b[0;32m~/faiss_env/lib/python3.10/site-packages/ragas/evaluation.py:295\u001b[0m, in \u001b[0;36mevaluate\u001b[0;34m(dataset, metrics, llm, embeddings, callbacks, in_ci, run_config, token_usage_parser, raise_exceptions, column_map, show_progress)\u001b[0m\n\u001b[1;32m    292\u001b[0m scores \u001b[38;5;241m=\u001b[39m []\n\u001b[1;32m    293\u001b[0m \u001b[38;5;28;01mtry\u001b[39;00m:\n\u001b[1;32m    294\u001b[0m     \u001b[38;5;66;03m# get the results\u001b[39;00m\n\u001b[0;32m--> 295\u001b[0m     results \u001b[38;5;241m=\u001b[39m \u001b[43mexecutor\u001b[49m\u001b[38;5;241;43m.\u001b[39;49m\u001b[43mresults\u001b[49m\u001b[43m(\u001b[49m\u001b[43m)\u001b[49m\n\u001b[1;32m    296\u001b[0m     \u001b[38;5;28;01mif\u001b[39;00m results \u001b[38;5;241m==\u001b[39m []:\n\u001b[1;32m    297\u001b[0m         \u001b[38;5;28;01mraise\u001b[39;00m ExceptionInRunner()\n",
      "File \u001b[0;32m~/faiss_env/lib/python3.10/site-packages/ragas/executor.py:118\u001b[0m, in \u001b[0;36mExecutor.results\u001b[0;34m(self)\u001b[0m\n\u001b[1;32m    114\u001b[0m         results\u001b[38;5;241m.\u001b[39mappend(r)\n\u001b[1;32m    116\u001b[0m     \u001b[38;5;28;01mreturn\u001b[39;00m results\n\u001b[0;32m--> 118\u001b[0m results \u001b[38;5;241m=\u001b[39m \u001b[43masyncio\u001b[49m\u001b[38;5;241;43m.\u001b[39;49m\u001b[43mrun\u001b[49m\u001b[43m(\u001b[49m\u001b[43m_aresults\u001b[49m\u001b[43m(\u001b[49m\u001b[43m)\u001b[49m\u001b[43m)\u001b[49m\n\u001b[1;32m    119\u001b[0m sorted_results \u001b[38;5;241m=\u001b[39m \u001b[38;5;28msorted\u001b[39m(results, key\u001b[38;5;241m=\u001b[39m\u001b[38;5;28;01mlambda\u001b[39;00m x: x[\u001b[38;5;241m0\u001b[39m])\n\u001b[1;32m    120\u001b[0m \u001b[38;5;28;01mreturn\u001b[39;00m [r[\u001b[38;5;241m1\u001b[39m] \u001b[38;5;28;01mfor\u001b[39;00m r \u001b[38;5;129;01min\u001b[39;00m sorted_results]\n",
      "File \u001b[0;32m~/faiss_env/lib/python3.10/site-packages/nest_asyncio.py:30\u001b[0m, in \u001b[0;36m_patch_asyncio.<locals>.run\u001b[0;34m(main, debug)\u001b[0m\n\u001b[1;32m     28\u001b[0m task \u001b[38;5;241m=\u001b[39m asyncio\u001b[38;5;241m.\u001b[39mensure_future(main)\n\u001b[1;32m     29\u001b[0m \u001b[38;5;28;01mtry\u001b[39;00m:\n\u001b[0;32m---> 30\u001b[0m     \u001b[38;5;28;01mreturn\u001b[39;00m \u001b[43mloop\u001b[49m\u001b[38;5;241;43m.\u001b[39;49m\u001b[43mrun_until_complete\u001b[49m\u001b[43m(\u001b[49m\u001b[43mtask\u001b[49m\u001b[43m)\u001b[49m\n\u001b[1;32m     31\u001b[0m \u001b[38;5;28;01mfinally\u001b[39;00m:\n\u001b[1;32m     32\u001b[0m     \u001b[38;5;28;01mif\u001b[39;00m \u001b[38;5;129;01mnot\u001b[39;00m task\u001b[38;5;241m.\u001b[39mdone():\n",
      "File \u001b[0;32m~/faiss_env/lib/python3.10/site-packages/nest_asyncio.py:92\u001b[0m, in \u001b[0;36m_patch_loop.<locals>.run_until_complete\u001b[0;34m(self, future)\u001b[0m\n\u001b[1;32m     90\u001b[0m     f\u001b[38;5;241m.\u001b[39m_log_destroy_pending \u001b[38;5;241m=\u001b[39m \u001b[38;5;28;01mFalse\u001b[39;00m\n\u001b[1;32m     91\u001b[0m \u001b[38;5;28;01mwhile\u001b[39;00m \u001b[38;5;129;01mnot\u001b[39;00m f\u001b[38;5;241m.\u001b[39mdone():\n\u001b[0;32m---> 92\u001b[0m     \u001b[38;5;28;43mself\u001b[39;49m\u001b[38;5;241;43m.\u001b[39;49m\u001b[43m_run_once\u001b[49m\u001b[43m(\u001b[49m\u001b[43m)\u001b[49m\n\u001b[1;32m     93\u001b[0m     \u001b[38;5;28;01mif\u001b[39;00m \u001b[38;5;28mself\u001b[39m\u001b[38;5;241m.\u001b[39m_stopping:\n\u001b[1;32m     94\u001b[0m         \u001b[38;5;28;01mbreak\u001b[39;00m\n",
      "File \u001b[0;32m~/faiss_env/lib/python3.10/site-packages/nest_asyncio.py:115\u001b[0m, in \u001b[0;36m_patch_loop.<locals>._run_once\u001b[0;34m(self)\u001b[0m\n\u001b[1;32m    108\u001b[0m     heappop(scheduled)\n\u001b[1;32m    110\u001b[0m timeout \u001b[38;5;241m=\u001b[39m (\n\u001b[1;32m    111\u001b[0m     \u001b[38;5;241m0\u001b[39m \u001b[38;5;28;01mif\u001b[39;00m ready \u001b[38;5;129;01mor\u001b[39;00m \u001b[38;5;28mself\u001b[39m\u001b[38;5;241m.\u001b[39m_stopping\n\u001b[1;32m    112\u001b[0m     \u001b[38;5;28;01melse\u001b[39;00m \u001b[38;5;28mmin\u001b[39m(\u001b[38;5;28mmax\u001b[39m(\n\u001b[1;32m    113\u001b[0m         scheduled[\u001b[38;5;241m0\u001b[39m]\u001b[38;5;241m.\u001b[39m_when \u001b[38;5;241m-\u001b[39m \u001b[38;5;28mself\u001b[39m\u001b[38;5;241m.\u001b[39mtime(), \u001b[38;5;241m0\u001b[39m), \u001b[38;5;241m86400\u001b[39m) \u001b[38;5;28;01mif\u001b[39;00m scheduled\n\u001b[1;32m    114\u001b[0m     \u001b[38;5;28;01melse\u001b[39;00m \u001b[38;5;28;01mNone\u001b[39;00m)\n\u001b[0;32m--> 115\u001b[0m event_list \u001b[38;5;241m=\u001b[39m \u001b[38;5;28;43mself\u001b[39;49m\u001b[38;5;241;43m.\u001b[39;49m\u001b[43m_selector\u001b[49m\u001b[38;5;241;43m.\u001b[39;49m\u001b[43mselect\u001b[49m\u001b[43m(\u001b[49m\u001b[43mtimeout\u001b[49m\u001b[43m)\u001b[49m\n\u001b[1;32m    116\u001b[0m \u001b[38;5;28mself\u001b[39m\u001b[38;5;241m.\u001b[39m_process_events(event_list)\n\u001b[1;32m    118\u001b[0m end_time \u001b[38;5;241m=\u001b[39m \u001b[38;5;28mself\u001b[39m\u001b[38;5;241m.\u001b[39mtime() \u001b[38;5;241m+\u001b[39m \u001b[38;5;28mself\u001b[39m\u001b[38;5;241m.\u001b[39m_clock_resolution\n",
      "File \u001b[0;32m/usr/lib/python3.10/selectors.py:469\u001b[0m, in \u001b[0;36mEpollSelector.select\u001b[0;34m(self, timeout)\u001b[0m\n\u001b[1;32m    467\u001b[0m ready \u001b[38;5;241m=\u001b[39m []\n\u001b[1;32m    468\u001b[0m \u001b[38;5;28;01mtry\u001b[39;00m:\n\u001b[0;32m--> 469\u001b[0m     fd_event_list \u001b[38;5;241m=\u001b[39m \u001b[38;5;28;43mself\u001b[39;49m\u001b[38;5;241;43m.\u001b[39;49m\u001b[43m_selector\u001b[49m\u001b[38;5;241;43m.\u001b[39;49m\u001b[43mpoll\u001b[49m\u001b[43m(\u001b[49m\u001b[43mtimeout\u001b[49m\u001b[43m,\u001b[49m\u001b[43m \u001b[49m\u001b[43mmax_ev\u001b[49m\u001b[43m)\u001b[49m\n\u001b[1;32m    470\u001b[0m \u001b[38;5;28;01mexcept\u001b[39;00m \u001b[38;5;167;01mInterruptedError\u001b[39;00m:\n\u001b[1;32m    471\u001b[0m     \u001b[38;5;28;01mreturn\u001b[39;00m ready\n",
      "\u001b[0;31mKeyboardInterrupt\u001b[0m: "
     ]
    },
    {
     "name": "stderr",
     "output_type": "stream",
     "text": [
      "Exception raised in Job[5]: AssertionError(llm must be set to compute score)\n",
      "Exception raised in Job[7]: AttributeError('NoneType' object has no attribute 'generate')\n",
      "Exception raised in Job[0]: AttributeError('NoneType' object has no attribute 'generate')\n"
     ]
    }
   ],
   "source": [
    "from ragas import evaluate\n",
    "from ragas.metrics import (\n",
    "    answer_relevancy,\n",
    "    faithfulness,\n",
    "    context_recall,\n",
    "    context_precision\n",
    ")\n",
    "\n",
    "# 평가 실행\n",
    "result = evaluate(\n",
    "    dataset=dataset,\n",
    "    llm=llm,  # 기존에 정의한 LLM 평가 모델\n",
    "    embeddings=embedding_model,  # 기존에 정의한 임베딩 모델\n",
    "    metrics=[\n",
    "        context_precision,\n",
    "        faithfulness,\n",
    "        answer_relevancy,\n",
    "        context_recall\n",
    "    ],\n",
    ")\n",
    "\n",
    "print(result)\n"
   ]
  },
  {
   "cell_type": "markdown",
   "id": "b9f0de6d",
   "metadata": {},
   "source": []
  }
 ],
 "metadata": {
  "kernelspec": {
   "display_name": "faiss_env",
   "language": "python",
   "name": "python3"
  },
  "language_info": {
   "codemirror_mode": {
    "name": "ipython",
    "version": 3
   },
   "file_extension": ".py",
   "mimetype": "text/x-python",
   "name": "python",
   "nbconvert_exporter": "python",
   "pygments_lexer": "ipython3",
   "version": "3.11.11"
  }
 },
 "nbformat": 4,
 "nbformat_minor": 5
}
